





# !python3 -m pip install tensorflow_data_validation


import tensorflow as tf
import tensorflow_data_validation as tfdv
import pandas as pd

from sklearn.model_selection import train_test_split
from util import add_extra_rows

from tensorflow_metadata.proto.v0 import schema_pb2

print('TFDV Version: {}'.format(tfdv.__version__))
print('Tensorflow Version: {}'.format(tf.__version__))





# Read in the training and evaluation datasets
df = pd.read_csv('data/adult.data', skipinitialspace=True)

# Split the dataset. Do not shuffle for this demo notebook.
train_df, eval_df = train_test_split(df, test_size=0.2, shuffle=False)





# Preview the train set
train_df.head()


# Preview the eval set
eval_df.head()








# add extra rows
eval_df = add_extra_rows(eval_df)

# preview the added rows
eval_df.tail(4)








# tfdv.genera


# Generate training dataset statistics
train_stats = tfdv.generate_statistics_from_dataframe(train_df)





# Visualize training dataset statistics
tfdv.visualize_statistics(train_stats)








# Infer schema from the computed statistics.
schema = tfdv.infer_schema(statistics=train_stats)

# Display the inferred schema
tfdv.display_schema(schema)

#"The expected valency of the feature in each example, i.e., minimum and maximum number of values."
#We can also look at the code that calculates valency in TFX. From what I can tell, it's designed to run on a feature that is an array, and counts the minimum and maximum number of values within that array for that feature:








# Generate evaluation dataset statistics
eval_stats = tfdv.generate_statistics_from_dataframe(eval_df)

# Compare training with evaluation
tfdv.visualize_statistics(
    lhs_statistics=eval_stats, 
    rhs_statistics=train_stats, 
    lhs_name='EVAL_DATASET', 
    rhs_name='TRAIN_DATASET'
)





# filter the age range
eval_df = eval_df[eval_df['age'] > 16]
eval_df = eval_df[eval_df['age'] < 91]

# drop missing values
eval_df.dropna(inplace=True)





# Generate evaluation dataset statistics
eval_stats = tfdv.generate_statistics_from_dataframe(eval_df)

# Compare training with evaluation
tfdv.visualize_statistics(
    lhs_statistics=eval_stats, 
    rhs_statistics=train_stats, 
    lhs_name='EVAL_DATASET', 
    rhs_name='TRAIN_DATASET'
)








# Check evaluation data for errors by validating the evaluation dataset statistics using the reference schema
anomalies =  tfdv.validate_statistics(statistics=eval_stats, schema=schema)

# Visualize anomalies
tfdv.display_anomalies(anomalies)








# Relax the minimum fraction of values that must come from the domain for the feature `native-country`
country_feature = tfdv.get_feature(schema, 'native-country')
country_feature.distribution_constraints.min_domain_mass = 0.9

# Relax the minimum fraction of values that must come from the domain for the feature `occupation`
occupation_feature = tfdv.get_feature(schema, 'occupation')
occupation_feature.distribution_constraints.min_domain_mass = 0.9





# Add new value to the domain of the feature `race`
race_domain = tfdv.get_domain(schema, 'race')
race_domain.value.append('Asian')





# Restrict the range of the `age` feature
tfdv.set_domain(schema, 'age', schema_pb2.IntDomain(name='age', min=17, max=90))

# Display the modified schema. Notice the `Domain` column of `age`.
tfdv.display_schema(schema)





# Validate eval stats after updating the schema 
updated_anomalies = tfdv.validate_statistics(eval_stats, schema)
tfdv.display_anomalies(updated_anomalies)








from tensorflow_data_validation.utils import slicing_util

slice_fn = slicing_util.get_feature_value_slicer(features={'sex': None})





tfdv.StatsOptions?


# Declare stats options
slice_stats_options = tfdv.StatsOptions(schema=schema,
                                        experimental_slice_functions=[slice_fn],
                                        infer_type_from_schema=True)





# Convert dataframe to CSV since `slice_functions` works only with `tfdv.generate_statistics_from_csv`
CSV_PATH = 'slice_sample.csv'
train_df.to_csv(CSV_PATH)

# Calculate statistics for the sliced dataset
sliced_stats = tfdv.generate_statistics_from_csv(CSV_PATH, stats_options=slice_stats_options)








sliced_stats.datasets[2]


len(sliced_stats.datasets)


print(f'Datasets generated: {[sliced.name for sliced in sliced_stats.datasets]}')

print(f'Type of sliced_stats elements: {type(sliced_stats.datasets[0])}')





from tensorflow_metadata.proto.v0.statistics_pb2 import DatasetFeatureStatisticsList

# Convert `Male` statistics (index=1) to the correct type and get the dataset name
male_stats_list = DatasetFeatureStatisticsList()
male_stats_list.datasets.extend([sliced_stats.datasets[1]])
# male_stats_list.datasets.extend([sliced_stats.datasets[0]])
male_stats_name = sliced_stats.datasets[1].name

# Convert `Female` statistics (index=2) to the correct type and get the dataset name
female_stats_list = DatasetFeatureStatisticsList()
female_stats_list.datasets.extend([sliced_stats.datasets[2]])
female_stats_name = sliced_stats.datasets[2].name

# Visualize the two slices side by side
tfdv.visualize_statistics(
    lhs_statistics=male_stats_list,
    rhs_statistics=female_stats_list,
    lhs_name=male_stats_name,
    rhs_name=female_stats_name
)





from tensorflow_data_validation.utils import slicing_util

slice_fn = slicing_util.get_feature_value_slicer(features={'sex':None, 'race':[b'Black', b'White', 
                                                                               b'Asian-Pac-Islander',
                                                                               b'Amer-Indian-Eskimo']})


slice_stats_options = tfdv.StatsOptions(schema=schema,
                                        experimental_slice_functions=[slice_fn],
                                       infer_type_from_schema=True)


sliced_stats = tfdv.generate_statistics_from_csv(stats_options=slice_stats_options,
                                                data_location='slice_sample.csv')


len(sliced_stats.datasets)


datasets = [data.name for data in sliced_stats.datasets]
print(datasets)


from tensorflow_metadata.proto.v0.statistics_pb2 import DatasetFeatureStatisticsList

# White male, female
white_male_stats_list = DatasetFeatureStatisticsList()
white_male_stats_list.datasets.extend([sliced_stats.datasets[1]])
white_male_stats_name = sliced_stats.datasets[1].name

white_female_stats_list = DatasetFeatureStatisticsList()
white_female_stats_list.datasets.extend([sliced_stats.datasets[4]])
white_female_stats_name = sliced_stats.datasets[4].name


#Black male, female
black_male_stats_list = DatasetFeatureStatisticsList()
black_male_stats_list.datasets.extend([sliced_stats.datasets[2]])
black_male_stats_name = sliced_stats.datasets[2].name

black_female_stats_list = DatasetFeatureStatisticsList()
black_female_stats_list.datasets.extend([sliced_stats.datasets[3]])
black_female_stats_name = sliced_stats.datasets[3].name


# Asian_Pac_Islander male, female
Asian_Pac_Islander_male_stats_list = DatasetFeatureStatisticsList()
Asian_Pac_Islander_male_stats_list.datasets.extend([sliced_stats.datasets[5]])
Asian_Pac_Islander_male_stats_name = sliced_stats.datasets[5].name

Asian_Pac_Islander_female_stats_list = DatasetFeatureStatisticsList()
Asian_Pac_Islander_female_stats_list.datasets.extend([sliced_stats.datasets[7]])
Asian_Pac_Islander_female_stats_name = sliced_stats.datasets[7].name


#Black male, female
Amer_Indian_Eskimo_male_stats_list = DatasetFeatureStatisticsList()
Amer_Indian_Eskimo_male_stats_list.datasets.extend([sliced_stats.datasets[6]])
Amer_Indian_Eskimo_male_stats_name = sliced_stats.datasets[6].name

Amer_Indian_Eskimo_female_stats_list = DatasetFeatureStatisticsList()
Amer_Indian_Eskimo_female_stats_list.datasets.extend([sliced_stats.datasets[8]])
Amer_Indian_Eskimo_female_stats_name = sliced_stats.datasets[8].name


# Visualize the two slices side by side
tfdv.visualize_statistics(
    lhs_statistics=black_male_stats_list,
    rhs_statistics=white_male_stats_list,
    lhs_name=black_male_stats_name,
    rhs_name=white_male_stats_name
)






