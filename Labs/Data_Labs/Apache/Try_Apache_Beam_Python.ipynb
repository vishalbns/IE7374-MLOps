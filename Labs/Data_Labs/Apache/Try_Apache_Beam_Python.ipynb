{
 "cells": [
  {
   "cell_type": "code",
   "execution_count": 1,
   "metadata": {
    "id": "fmD62Tp3zDOj"
   },
   "outputs": [],
   "source": [
    "#@title ###### Licensed to the Apache Software Foundation (ASF), Version 2.0 (the \"License\")\n",
    "\n",
    "# Licensed to the Apache Software Foundation (ASF) under one\n",
    "# or more contributor license agreements. See the NOTICE file\n",
    "# distributed with this work for additional information\n",
    "# regarding copyright ownership. The ASF licenses this file\n",
    "# to you under the Apache License, Version 2.0 (the\n",
    "# \"License\"); you may not use this file except in compliance\n",
    "# with the License. You may obtain a copy of the License at\n",
    "#\n",
    "#   http://www.apache.org/licenses/LICENSE-2.0\n",
    "#\n",
    "# Unless required by applicable law or agreed to in writing,\n",
    "# software distributed under the License is distributed on an\n",
    "# \"AS IS\" BASIS, WITHOUT WARRANTIES OR CONDITIONS OF ANY\n",
    "# KIND, either express or implied. See the License for the\n",
    "# specific language governing permissions and limitations\n",
    "# under the License."
   ]
  },
  {
   "cell_type": "markdown",
   "metadata": {
    "id": "lNKIMlEDZ_Vw"
   },
   "source": [
    "# Try Apache Beam - Python\n",
    "\n",
    "In this notebook, we set up your development environment and work through a simple example using the [DirectRunner](https://beam.apache.org/documentation/runners/direct/). You can explore other runners with the [Beam Capatibility Matrix](https://beam.apache.org/documentation/runners/capability-matrix/).\n",
    "\n",
    "To navigate through different sections, use the table of contents. From **View**  drop-down list, select **Table of contents**.\n",
    "\n",
    "To run a code cell, you can click the **Run cell** button at the top left of the cell, or by select it and press **`Shift+Enter`**. Try modifying a code cell and re-running it to see what happens.\n",
    "\n",
    "To learn more about Colab, see [Welcome to Colaboratory!](https://colab.sandbox.google.com/notebooks/welcome.ipynb)."
   ]
  },
  {
   "cell_type": "markdown",
   "metadata": {
    "id": "Fz6KSQ13_3Rr"
   },
   "source": [
    "# Setup\n",
    "\n",
    "First, you need to set up your environment, which includes installing `apache-beam` and downloading a text file from Cloud Storage to your local file system. We are using this file to test your pipeline."
   ]
  },
  {
   "cell_type": "code",
   "execution_count": 2,
   "metadata": {
    "colab": {
     "base_uri": "https://localhost:8080/",
     "height": 170
    },
    "id": "GOOk81Jj_yUy",
    "outputId": "d283dfb2-4f51-4fec-816b-f57b0cb9b71c"
   },
   "outputs": [
    {
     "name": "stdout",
     "output_type": "stream",
     "text": [
      ">> mkdir -p data\n"
     ]
    },
    {
     "name": "stdout",
     "output_type": "stream",
     "text": [
      "\n",
      ">> gsutil cp gs://dataflow-samples/shakespeare/kinglear.txt data/\n",
      "\n",
      "\n",
      "Updates are available for some Google Cloud CLI components.  To install them,\n",
      "please run:\n",
      "  $ gcloud components update\n",
      "\n",
      "Copying gs://dataflow-samples/shakespeare/kinglear.txt...\n",
      "/ [1 files][153.6 KiB/153.6 KiB]                                                \n",
      "Operation completed over 1 objects/153.6 KiB.                                    \n",
      "\n"
     ]
    }
   ],
   "source": [
    "# Run and print a shell command.\n",
    "def run(cmd):\n",
    "  print('>> {}'.format(cmd))\n",
    "  !{cmd}\n",
    "  print('')\n",
    "\n",
    "# Install apache-beam.\n",
    "# run('pip install --quiet apache-beam')\n",
    "\n",
    "# Copy the input file into the local file system.\n",
    "run('mkdir -p data')\n",
    "run('gsutil cp gs://dataflow-samples/shakespeare/kinglear.txt data/')"
   ]
  },
  {
   "cell_type": "markdown",
   "metadata": {
    "id": "cPvvFB19uXNw"
   },
   "source": [
    "# Minimal word count\n",
    "\n",
    "The following example is the \"Hello, World!\" of data processing, a basic implementation of word count. We're creating a simple data processing pipeline that reads a text file and counts the number of occurrences of every word.\n",
    "\n",
    "There are many scenarios where all the data does not fit in memory. Notice that the outputs of the pipeline go to the file system, which allows for large processing jobs in distributed environments."
   ]
  },
  {
   "cell_type": "markdown",
   "metadata": {
    "id": "k-HubCrk-h_G"
   },
   "source": [
    "# Word count with comments\n",
    "\n",
    "Below is mostly the same code as above, but with comments explaining every line in more detail."
   ]
  },
  {
   "cell_type": "code",
   "execution_count": 3,
   "metadata": {
    "colab": {
     "base_uri": "https://localhost:8080/",
     "height": 1173
    },
    "id": "x_D7sxUHFzUp",
    "outputId": "44c926df-aa4a-4bea-9247-27c7cb537717"
   },
   "outputs": [
    {
     "name": "stderr",
     "output_type": "stream",
     "text": [
      "WARNING:apache_beam.io.filebasedsink:Deleting 1 existing files in target path matching: -*-of-%(num_shards)05d\n"
     ]
    },
    {
     "name": "stdout",
     "output_type": "stream",
     "text": [
      ">> head -n 20 outputs/part-00000-of-*\n",
      "('KING', 243)\n",
      "('LEAR', 236)\n",
      "('DRAMATIS', 1)\n",
      "('PERSONAE', 1)\n",
      "('king', 65)\n",
      "('of', 447)\n",
      "('Britain', 2)\n",
      "('OF', 15)\n",
      "('FRANCE', 10)\n",
      "('DUKE', 3)\n",
      "('BURGUNDY', 8)\n",
      "('CORNWALL', 63)\n",
      "('ALBANY', 67)\n",
      "('EARL', 2)\n",
      "('KENT', 156)\n",
      "('GLOUCESTER', 141)\n",
      "('EDGAR', 126)\n",
      "('son', 29)\n",
      "('to', 438)\n",
      "('Gloucester', 26)\n",
      "\n"
     ]
    }
   ],
   "source": [
    "import apache_beam as beam\n",
    "import re\n",
    "\n",
    "inputs_pattern = 'data/*'\n",
    "outputs_prefix = 'outputs/part'\n",
    "\n",
    "# Running locally in the DirectRunner.\n",
    "with beam.Pipeline() as pipeline:\n",
    "  # Store the word counts in a PCollection.\n",
    "  # Each element is a tuple of (word, count) of types (str, int).\n",
    "  word_counts = (\n",
    "      # The input PCollection is an empty pipeline.\n",
    "      pipeline\n",
    "\n",
    "      # Read lines from a text file.\n",
    "      | 'Read lines' >> beam.io.ReadFromText(inputs_pattern)\n",
    "      # Element type: str - text line\n",
    "\n",
    "      # Use a regular expression to iterate over all words in the line.\n",
    "      # FlatMap will yield an element for every element in an iterable.\n",
    "      | 'Find words' >> beam.FlatMap(lambda line: re.findall(r\"[a-zA-Z']+\", line))\n",
    "      # Element type: str - word\n",
    "\n",
    "      # Create key-value pairs where the value is 1, this way we can group by\n",
    "      # the same word while adding those 1s and get the counts for every word.\n",
    "      | 'Pair words with 1' >> beam.Map(lambda word: (word, 1))\n",
    "      # Element type: (str, int) - key: word, value: 1\n",
    "\n",
    "      # Group by key while combining the value using the sum() function.\n",
    "      | 'Group and sum' >> beam.CombinePerKey(sum)\n",
    "      # Element type: (str, int) - key: word, value: counts\n",
    "  )\n",
    "\n",
    "  # We can process a PCollection through other pipelines too.\n",
    "  (\n",
    "      # The input PCollection is the word_counts created from the previous step.\n",
    "      word_counts\n",
    "\n",
    "      # Format the results into a string so we can write them to a file.\n",
    "      | 'Format results' >> beam.Map(lambda word_count: str(word_count))\n",
    "      # Element type: str - text line\n",
    "\n",
    "      # Finally, write the results to a file.\n",
    "      | 'Write results' >> beam.io.WriteToText(outputs_prefix)\n",
    "  )\n",
    "\n",
    "# Sample the first 20 results, remember there are no ordering guarantees.\n",
    "run('head -n 20 {}-00000-of-*'.format(outputs_prefix))"
   ]
  },
  {
   "cell_type": "code",
   "execution_count": null,
   "metadata": {},
   "outputs": [],
   "source": []
  }
 ],
 "metadata": {
  "colab": {
   "name": "Try Apache Beam - Python",
   "provenance": [],
   "toc_visible": true
  },
  "kernelspec": {
   "display_name": ".venv",
   "language": "python",
   "name": "python3"
  },
  "language_info": {
   "codemirror_mode": {
    "name": "ipython",
    "version": 3
   },
   "file_extension": ".py",
   "mimetype": "text/x-python",
   "name": "python",
   "nbconvert_exporter": "python",
   "pygments_lexer": "ipython3",
   "version": "3.10.12"
  },
  "widgets": {
   "application/vnd.jupyter.widget-state+json": {
    "state": {},
    "version_major": 2,
    "version_minor": 0
   }
  }
 },
 "nbformat": 4,
 "nbformat_minor": 4
}
