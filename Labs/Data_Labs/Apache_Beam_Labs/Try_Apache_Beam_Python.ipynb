{
 "cells": [
  {
   "cell_type": "markdown",
   "metadata": {
    "id": "lNKIMlEDZ_Vw"
   },
   "source": [
    "# Try Apache Beam - Python\n",
    "\n",
    "In this notebook, we set up your development environment and work through a simple example using the [DirectRunner](https://beam.apache.org/documentation/runners/direct/). You can explore other runners with the [Beam Capatibility Matrix](https://beam.apache.org/documentation/runners/capability-matrix/).\n",
    "\n",
    "To navigate through different sections, use the table of contents. From **View**  drop-down list, select **Table of contents**.\n",
    "\n",
    "To run a code cell, you can click the **Run cell** button at the top left of the cell, or by select it and press **`Shift+Enter`**. Try modifying a code cell and re-running it to see what happens.\n",
    "\n",
    "To learn more about Colab, see [Welcome to Colaboratory!](https://colab.sandbox.google.com/notebooks/welcome.ipynb)."
   ]
  },
  {
   "cell_type": "markdown",
   "metadata": {
    "id": "Fz6KSQ13_3Rr"
   },
   "source": [
    "# Setup\n",
    "\n",
    "First, you need to set up your environment, which includes installing `apache-beam` and downloading a text file from Cloud Storage to your local file system. We are using this file to test your pipeline."
   ]
  },
  {
   "cell_type": "code",
   "execution_count": 1,
   "metadata": {
    "colab": {
     "base_uri": "https://localhost:8080/",
     "height": 170
    },
    "id": "GOOk81Jj_yUy",
    "outputId": "d283dfb2-4f51-4fec-816b-f57b0cb9b71c"
   },
   "outputs": [
    {
     "name": "stdout",
     "output_type": "stream",
     "text": [
      ">> mkdir -p data\n"
     ]
    },
    {
     "name": "stdout",
     "output_type": "stream",
     "text": [
      "\n",
      ">> gsutil cp gs://dataflow-samples/shakespeare/kinglear.txt data/\n",
      "Copying gs://dataflow-samples/shakespeare/kinglear.txt...\n",
      "- [1 files][153.6 KiB/153.6 KiB]                                                \n",
      "Operation completed over 1 objects/153.6 KiB.                                    \n",
      "\n"
     ]
    }
   ],
   "source": [
    "# Run and print a shell command.\n",
    "def run(cmd):\n",
    "  print('>> {}'.format(cmd))\n",
    "  !{cmd}\n",
    "  print('')\n",
    "\n",
    "# Install apache-beam.\n",
    "# run('pip install --quiet apache-beam')\n",
    "\n",
    "# Copy the input file into the local file system.\n",
    "run('mkdir -p data')\n",
    "run('gsutil cp gs://dataflow-samples/shakespeare/kinglear.txt data/')"
   ]
  },
  {
   "cell_type": "markdown",
   "metadata": {
    "id": "k-HubCrk-h_G"
   },
   "source": [
    "# Word count with comments\n",
    "\n",
    "Below is mostly the same code as above, but with comments explaining every line in more detail."
   ]
  },
  {
   "cell_type": "code",
   "execution_count": 3,
   "metadata": {
    "colab": {
     "base_uri": "https://localhost:8080/",
     "height": 1173
    },
    "id": "x_D7sxUHFzUp",
    "outputId": "44c926df-aa4a-4bea-9247-27c7cb537717"
   },
   "outputs": [
    {
     "ename": "ModuleNotFoundError",
     "evalue": "No module named 'apache_beam'",
     "output_type": "error",
     "traceback": [
      "\u001b[0;31m---------------------------------------------------------------------------\u001b[0m",
      "\u001b[0;31mModuleNotFoundError\u001b[0m                       Traceback (most recent call last)",
      "Cell \u001b[0;32mIn[3], line 1\u001b[0m\n\u001b[0;32m----> 1\u001b[0m \u001b[38;5;28;01mimport\u001b[39;00m \u001b[38;5;21;01mapache_beam\u001b[39;00m \u001b[38;5;28;01mas\u001b[39;00m \u001b[38;5;21;01mbeam\u001b[39;00m\n\u001b[1;32m      2\u001b[0m \u001b[38;5;28;01mimport\u001b[39;00m \u001b[38;5;21;01mre\u001b[39;00m\n\u001b[1;32m      4\u001b[0m inputs_pattern \u001b[38;5;241m=\u001b[39m \u001b[38;5;124m'\u001b[39m\u001b[38;5;124mdata/*\u001b[39m\u001b[38;5;124m'\u001b[39m\n",
      "\u001b[0;31mModuleNotFoundError\u001b[0m: No module named 'apache_beam'"
     ]
    }
   ],
   "source": [
    "import apache_beam as beam\n",
    "import re\n",
    "\n",
    "inputs_pattern = 'data/*'\n",
    "outputs_prefix = 'outputs/part'\n",
    "\n",
    "# Running locally in the DirectRunner.\n",
    "with beam.Pipeline() as pipeline:\n",
    "  # Store the word counts in a PCollection.\n",
    "  # Each element is a tuple of (word, count) of types (str, int).\n",
    "  word_counts = (\n",
    "      # The input PCollection is an empty pipeline.\n",
    "      pipeline\n",
    "\n",
    "      # Read lines from a text file.\n",
    "      | 'Read lines' >> beam.io.ReadFromText(inputs_pattern)\n",
    "      # Element type: str - text line\n",
    "\n",
    "      # Use a regular expression to iterate over all words in the line.\n",
    "      # FlatMap will yield an element for every element in an iterable.\n",
    "      | 'Find words' >> beam.FlatMap(lambda line: re.findall(r\"[a-zA-Z']+\", line))\n",
    "      # Element type: str - word\n",
    "\n",
    "      # Create key-value pairs where the value is 1, this way we can group by\n",
    "      # the same word while adding those 1s and get the counts for every word.\n",
    "      | 'Pair words with 1' >> beam.Map(lambda word: (word, 1))\n",
    "      # Element type: (str, int) - key: word, value: 1\n",
    "\n",
    "      # Group by key while combining the value using the sum() function.\n",
    "      | 'Group and sum' >> beam.CombinePerKey(sum)\n",
    "      # Element type: (str, int) - key: word, value: counts\n",
    "  )\n",
    "\n",
    "  # We can process a PCollection through other pipelines too.\n",
    "  (\n",
    "      # The input PCollection is the word_counts created from the previous step.\n",
    "      word_counts\n",
    "\n",
    "      # Format the results into a string so we can write them to a file.\n",
    "      | 'Format results' >> beam.Map(lambda word_count: str(word_count))\n",
    "      # Element type: str - text line\n",
    "\n",
    "      # Finally, write the results to a file.\n",
    "      | 'Write results' >> beam.io.WriteToText(outputs_prefix)\n",
    "  )\n",
    "\n",
    "# Sample the first 20 results, remember there are no ordering guarantees.\n",
    "run('head -n 20 {}-00000-of-*'.format(outputs_prefix))"
   ]
  },
  {
   "cell_type": "code",
   "execution_count": null,
   "metadata": {},
   "outputs": [],
   "source": []
  }
 ],
 "metadata": {
  "colab": {
   "name": "Try Apache Beam - Python",
   "provenance": [],
   "toc_visible": true
  },
  "kernelspec": {
   "display_name": ".venv",
   "language": "python",
   "name": "python3"
  },
  "language_info": {
   "codemirror_mode": {
    "name": "ipython",
    "version": 3
   },
   "file_extension": ".py",
   "mimetype": "text/x-python",
   "name": "python",
   "nbconvert_exporter": "python",
   "pygments_lexer": "ipython3",
   "version": "3.10.12"
  },
  "widgets": {
   "application/vnd.jupyter.widget-state+json": {
    "state": {},
    "version_major": 2,
    "version_minor": 0
   }
  }
 },
 "nbformat": 4,
 "nbformat_minor": 4
}
