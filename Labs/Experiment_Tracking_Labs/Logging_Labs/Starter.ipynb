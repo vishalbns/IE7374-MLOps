{
 "cells": [
  {
   "cell_type": "markdown",
   "id": "0be7c85f-d619-4613-860f-a3d2bb2d7d3b",
   "metadata": {},
   "source": [
    "Logging is an essential tool for developers to record information, debug issues, and monitor the behavior of their Python applications. Python has a built-in logging library that makes it easy to add logging capabilities to your code. Here's a beginner-friendly guide with essential Python code examples to get you started with the logging library:"
   ]
  },
  {
   "cell_type": "markdown",
   "id": "0550e6e9-710a-47c3-8ef7-2e90063c6683",
   "metadata": {},
   "source": [
    "### 1. Importing the Logging Library\n",
    "First, you need to import the logging library at the beginning of your Python script or module."
   ]
  },
  {
   "cell_type": "code",
   "execution_count": 1,
   "id": "20f5bf76-4d90-4642-abe0-1d85c38387da",
   "metadata": {},
   "outputs": [],
   "source": [
    "import logging"
   ]
  },
  {
   "cell_type": "markdown",
   "id": "51c83f8b-6b92-482b-9c16-c70a9469c611",
   "metadata": {},
   "source": [
    "### 2. Basic Logging Configuration\n",
    "Before you can start logging messages, you should configure the logging settings. You can do this with the basicConfig method."
   ]
  },
  {
   "cell_type": "code",
   "execution_count": 2,
   "id": "f8bf0bd2-9e7a-4a61-a752-a49b40987425",
   "metadata": {},
   "outputs": [],
   "source": [
    "logging.basicConfig(level=logging.DEBUG,  # Set the logging level\n",
    "                    format='%(asctime)s - %(name)s - %(levelname)s - %(message)s')"
   ]
  },
  {
   "cell_type": "markdown",
   "id": "d7e6014e-d190-4250-a4a1-93b7fb55742d",
   "metadata": {},
   "source": [
    "### 3. Logging Messages\n",
    "You can log messages at different log levels, such as __DEBUG__, __INFO__, __WARNING__, __ERROR__, and __CRITICAL__. Messages at a higher log level will include messages at lower levels."
   ]
  },
  {
   "cell_type": "code",
   "execution_count": 3,
   "id": "d357ef99-6468-4d2f-8852-a90517a3447e",
   "metadata": {},
   "outputs": [
    {
     "name": "stderr",
     "output_type": "stream",
     "text": [
      "2023-09-27 09:21:53,723 - root - DEBUG - This is a debug message\n",
      "2023-09-27 09:21:53,724 - root - INFO - This is an info message\n",
      "2023-09-27 09:21:53,725 - root - WARNING - This is a warning message\n",
      "2023-09-27 09:21:53,725 - root - ERROR - This is an error message\n",
      "2023-09-27 09:21:53,726 - root - CRITICAL - This is a critical message\n"
     ]
    }
   ],
   "source": [
    "logging.debug(\"This is a debug message\")     # Detailed information for debugging\n",
    "logging.info(\"This is an info message\")       # General information\n",
    "logging.warning(\"This is a warning message\")   # Indicates a potential issue\n",
    "logging.error(\"This is an error message\")       # Indicates an error in the application\n",
    "logging.critical(\"This is a critical message\") # Indicates a critical error"
   ]
  },
  {
   "cell_type": "markdown",
   "id": "8eaf86b3-1c40-4ecd-be05-5d1de7e569af",
   "metadata": {},
   "source": [
    "### 4. Using Loggers\n",
    "Instead of using the root logger, it's recommended to create custom loggers for different parts of your application. This allows you to control logging settings for specific modules or components.\n"
   ]
  },
  {
   "cell_type": "code",
   "execution_count": 4,
   "id": "fe3aaed6-58d5-40ec-ba2a-d8bb6e678fb2",
   "metadata": {},
   "outputs": [
    {
     "name": "stderr",
     "output_type": "stream",
     "text": [
      "2023-09-27 09:22:16,663 - my_module - DEBUG - Debug message from my_module\n",
      "2023-09-27 09:22:16,665 - my_module - INFO - Info message from my_module\n"
     ]
    }
   ],
   "source": [
    "# Create a custom logger for a specific module or component\n",
    "logger = logging.getLogger(\"my_module\")\n",
    "\n",
    "# Log messages using the custom logger\n",
    "logger.debug(\"Debug message from my_module\")\n",
    "logger.info(\"Info message from my_module\")"
   ]
  },
  {
   "cell_type": "markdown",
   "id": "7e276130-9dc4-447e-82dd-fe8cf4bb96be",
   "metadata": {},
   "source": [
    "### 5. Logging Exceptions\n",
    "You can also log exceptions using the exception method, which automatically includes the exception traceback."
   ]
  },
  {
   "cell_type": "code",
   "execution_count": 5,
   "id": "b743e07b-3024-45bf-b08d-02cf9dd144fa",
   "metadata": {},
   "outputs": [
    {
     "name": "stderr",
     "output_type": "stream",
     "text": [
      "2023-09-27 09:22:19,178 - root - ERROR - An error occurred while dividing by zero\n",
      "Traceback (most recent call last):\n",
      "  File \"/tmp/ipykernel_316960/2128557690.py\", line 2, in <module>\n",
      "    result = 10 / 0  # This will raise a ZeroDivisionError\n",
      "ZeroDivisionError: division by zero\n"
     ]
    }
   ],
   "source": [
    "try:\n",
    "    result = 10 / 0  # This will raise a ZeroDivisionError\n",
    "except ZeroDivisionError:\n",
    "    logging.exception(\"An error occurred while dividing by zero\")"
   ]
  },
  {
   "cell_type": "markdown",
   "id": "2ca60255-6c58-4699-857b-1466ce8bf9c7",
   "metadata": {},
   "source": [
    "### 6. Logging to a File\n",
    "By default, log messages are printed to the console. To log to a file, you can specify a filename in the basicConfig method."
   ]
  },
  {
   "cell_type": "code",
   "execution_count": 6,
   "id": "26a8b4c9-764e-4466-92a4-3bf113af54bd",
   "metadata": {},
   "outputs": [],
   "source": [
    "logging.basicConfig(filename='app.log', level=logging.DEBUG,\n",
    "                    format='%(asctime)s - %(name)s - %(levelname)s - %(message)s')"
   ]
  },
  {
   "cell_type": "markdown",
   "id": "b993c9bc-fd1b-4216-a8df-2577bb5681d7",
   "metadata": {},
   "source": [
    "### 7. Controlling Log Levels\n",
    "You can control the log level at runtime to filter out less important messages."
   ]
  },
  {
   "cell_type": "code",
   "execution_count": 7,
   "id": "52daddcb-b818-458c-b971-17401189fb00",
   "metadata": {},
   "outputs": [],
   "source": [
    "logging.getLogger().setLevel(logging.WARNING)  # Set the global log level to WARNING"
   ]
  },
  {
   "cell_type": "markdown",
   "id": "dd8421db-a185-4696-b08c-d7c6f5b0e47c",
   "metadata": {},
   "source": [
    "### 8. Log Handlers\n",
    "Log handlers allow you to configure where log messages are sent. Common handlers include the console (StreamHandler) and files (FileHandler). You can add multiple handlers to a logger."
   ]
  },
  {
   "cell_type": "code",
   "execution_count": 8,
   "id": "1438479d-bf2f-4afe-bbee-b0cb6f1d9020",
   "metadata": {},
   "outputs": [],
   "source": [
    "console_handler = logging.StreamHandler()  # Log messages to the console\n",
    "file_handler = logging.FileHandler('app.log')  # Log messages to a file\n",
    "\n",
    "logger = logging.getLogger(\"my_module\")\n",
    "logger.addHandler(console_handler)\n",
    "logger.addHandler(file_handler)"
   ]
  },
  {
   "cell_type": "code",
   "execution_count": 9,
   "id": "f3143ca7-7f0b-42ce-9fef-4ca6f242e0f8",
   "metadata": {},
   "outputs": [
    {
     "name": "stderr",
     "output_type": "stream",
     "text": [
      "An error occurred while dividing by zero\n",
      "Traceback (most recent call last):\n",
      "  File \"/tmp/ipykernel_316960/3551620697.py\", line 2, in <module>\n",
      "    result = 10 / 0  # This will raise a ZeroDivisionError\n",
      "ZeroDivisionError: division by zero\n",
      "2023-09-27 09:23:02,816 - my_module - ERROR - An error occurred while dividing by zero\n",
      "Traceback (most recent call last):\n",
      "  File \"/tmp/ipykernel_316960/3551620697.py\", line 2, in <module>\n",
      "    result = 10 / 0  # This will raise a ZeroDivisionError\n",
      "ZeroDivisionError: division by zero\n"
     ]
    }
   ],
   "source": [
    "try:\n",
    "    result = 10 / 0  # This will raise a ZeroDivisionError\n",
    "except ZeroDivisionError:\n",
    "    logger.exception(\"An error occurred while dividing by zero\")"
   ]
  },
  {
   "cell_type": "code",
   "execution_count": null,
   "id": "03e0b570-168f-4407-b15a-440215198b61",
   "metadata": {},
   "outputs": [],
   "source": []
  }
 ],
 "metadata": {
  "kernelspec": {
   "display_name": "Python 3 (ipykernel)",
   "language": "python",
   "name": "python3"
  },
  "language_info": {
   "codemirror_mode": {
    "name": "ipython",
    "version": 3
   },
   "file_extension": ".py",
   "mimetype": "text/x-python",
   "name": "python",
   "nbconvert_exporter": "python",
   "pygments_lexer": "ipython3",
   "version": "3.9.7"
  }
 },
 "nbformat": 4,
 "nbformat_minor": 5
}
