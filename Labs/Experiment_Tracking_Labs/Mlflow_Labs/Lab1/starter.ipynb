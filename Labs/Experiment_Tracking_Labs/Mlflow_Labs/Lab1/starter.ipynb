{
 "cells": [
  {
   "cell_type": "code",
   "execution_count": 1,
   "metadata": {},
   "outputs": [
    {
     "name": "stderr",
     "output_type": "stream",
     "text": [
      "2023/09/27 20:18:33 INFO mlflow.tracking.fluent: Autologging successfully enabled for sklearn.\n",
      "2023/09/27 20:18:33 INFO mlflow.tracking.fluent: Autologging successfully enabled for pyspark.\n",
      "2023/09/27 20:18:33 INFO mlflow.utils.autologging_utils: Created MLflow autologging run with ID '82f3dd0891684d3aba89dbc96c80fdd2', which will track hyperparameters, performance metrics, model artifacts, and lineage information for the current sklearn workflow\n",
      "2023/09/27 20:18:36 WARNING mlflow.utils.autologging_utils: MLflow autologging encountered a warning: \"/home/ramin/anaconda3/lib/python3.9/site-packages/_distutils_hack/__init__.py:33: UserWarning: Setuptools is replacing distutils.\"\n"
     ]
    }
   ],
   "source": [
    "import mlflow\n",
    "\n",
    "from sklearn.model_selection import train_test_split\n",
    "from sklearn.datasets import load_diabetes\n",
    "from sklearn.ensemble import RandomForestRegressor\n",
    "\n",
    "mlflow.autolog()\n",
    "\n",
    "db = load_diabetes()\n",
    "X_train, X_test, y_train, y_test = train_test_split(db.data, db.target)\n",
    "\n",
    "# Create and train models.\n",
    "rf = RandomForestRegressor(n_estimators=100, max_depth=6, max_features=3)\n",
    "rf.fit(X_train, y_train)\n",
    "\n",
    "# Use the model to make predictions on the test dataset.\n",
    "predictions = rf.predict(X_test)"
   ]
  },
  {
   "cell_type": "code",
   "execution_count": 4,
   "metadata": {},
   "outputs": [
    {
     "name": "stdout",
     "output_type": "stream",
     "text": [
      "[2023-09-27 20:21:25 -0400] [341619] [INFO] Starting gunicorn 21.2.0\n",
      "[2023-09-27 20:21:25 -0400] [341619] [INFO] Listening at: http://127.0.0.1:5001 (341619)\n",
      "[2023-09-27 20:21:25 -0400] [341619] [INFO] Using worker: sync\n",
      "[2023-09-27 20:21:25 -0400] [341623] [INFO] Booting worker with pid: 341623\n",
      "[2023-09-27 20:21:25 -0400] [341627] [INFO] Booting worker with pid: 341627\n",
      "[2023-09-27 20:21:25 -0400] [341628] [INFO] Booting worker with pid: 341628\n",
      "[2023-09-27 20:21:26 -0400] [341629] [INFO] Booting worker with pid: 341629\n",
      "^C\n",
      "[2023-09-27 20:30:21 -0400] [341619] [INFO] Handling signal: int\n",
      "[2023-09-27 20:30:21 -0400] [341628] [INFO] Worker exiting (pid: 341628)\n",
      "[2023-09-27 20:30:21 -0400] [341623] [INFO] Worker exiting (pid: 341623)\n",
      "[2023-09-27 20:30:21 -0400] [341629] [INFO] Worker exiting (pid: 341629)\n",
      "[2023-09-27 20:30:21 -0400] [341627] [INFO] Worker exiting (pid: 341627)\n"
     ]
    }
   ],
   "source": [
    "!mlflow ui --port=5001"
   ]
  },
  {
   "cell_type": "code",
   "execution_count": 5,
   "metadata": {},
   "outputs": [
    {
     "name": "stderr",
     "output_type": "stream",
     "text": [
      "2023/09/27 08:13:42 INFO mlflow.tracking.fluent: Autologging successfully enabled for sklearn.\n",
      "2023/09/27 08:13:42 INFO mlflow.tracking.fluent: Autologging successfully enabled for pyspark.\n",
      "2023/09/27 08:13:42 INFO mlflow.utils.autologging_utils: Created MLflow autologging run with ID 'c3b22ae19ae444ebb2cfef718bcdaa44', which will track hyperparameters, performance metrics, model artifacts, and lineage information for the current sklearn workflow\n"
     ]
    }
   ],
   "source": [
    "import mlflow \n",
    "from sklearn.model_selection import train_test_split \n",
    "from sklearn.datasets import load_diabetes\n",
    "\n",
    "# set the experiment id\n",
    "mlflow.set_experiment(experiment_id=\"0\")\n",
    "\n",
    "mlflow.autolog() \n",
    "db = load_diabetes() \n",
    "\n",
    "X_train, X_test, y_train, y_test = train_test_split(db.data, db.target) \n",
    "\n",
    "# Create and train models. \n",
    "rf = RandomForestRegressor(n_estimators=100, max_depth=6, max_features=3) \n",
    "rf.fit(X_train, y_train) \n",
    "\n",
    "# Use the model to make predictions on the test dataset. \n",
    "predictions = rf.predict(X_test)"
   ]
  },
  {
   "cell_type": "code",
   "execution_count": 6,
   "metadata": {},
   "outputs": [
    {
     "name": "stdout",
     "output_type": "stream",
     "text": [
      "[2023-09-27 08:13:51 -0400] [254217] [INFO] Starting gunicorn 21.2.0\n",
      "[2023-09-27 08:13:51 -0400] [254217] [INFO] Listening at: http://127.0.0.1:5001 (254217)\n",
      "[2023-09-27 08:13:51 -0400] [254217] [INFO] Using worker: sync\n",
      "[2023-09-27 08:13:51 -0400] [254218] [INFO] Booting worker with pid: 254218\n",
      "[2023-09-27 08:13:51 -0400] [254219] [INFO] Booting worker with pid: 254219\n",
      "[2023-09-27 08:13:51 -0400] [254220] [INFO] Booting worker with pid: 254220\n",
      "[2023-09-27 08:13:51 -0400] [254221] [INFO] Booting worker with pid: 254221\n",
      "^C\n",
      "[2023-09-27 08:15:30 -0400] [254217] [INFO] Handling signal: int\n",
      "[2023-09-27 08:15:30 -0400] [254219] [INFO] Worker exiting (pid: 254219)\n",
      "[2023-09-27 08:15:30 -0400] [254218] [INFO] Worker exiting (pid: 254218)\n",
      "[2023-09-27 08:15:30 -0400] [254220] [INFO] Worker exiting (pid: 254220)\n",
      "[2023-09-27 08:15:30 -0400] [254221] [INFO] Worker exiting (pid: 254221)\n"
     ]
    }
   ],
   "source": [
    "!mlflow ui --port=5001"
   ]
  },
  {
   "cell_type": "markdown",
   "metadata": {},
   "source": [
    "### Store ML models"
   ]
  },
  {
   "cell_type": "code",
   "execution_count": 5,
   "metadata": {},
   "outputs": [
    {
     "name": "stdout",
     "output_type": "stream",
     "text": [
      "[101.60445853 166.58880624  81.44530725 244.72847699 230.66278796\n",
      " 211.47245312 206.77145734 101.03478303 146.23732091 226.23657994\n",
      "  93.86100571 119.73989045 102.44673874 196.84296301 182.73052212\n",
      "  98.33631254 206.50218619 185.09300542 113.33074754 121.06089015\n",
      " 182.9809661  207.3695029  199.21143927 247.63675501 218.67288026\n",
      " 154.75051856 114.55771794 135.9913129  107.04530356 161.04413034\n",
      " 182.10358321 248.85277739 235.12541195 213.29298714 122.97824715\n",
      " 102.21482345 173.32572024 124.61651218 137.06399614 179.15896731\n",
      " 109.45267517 198.83737331 213.89892277  96.75704568 101.46535852\n",
      " 120.45060306  92.22420199 143.19147861 167.24063782 131.37132572\n",
      " 158.48457637 272.98167626  96.23642081 120.2996042  211.95597729\n",
      " 104.08079352 176.62147535 122.56539834 224.36413898 121.49639844\n",
      " 165.32212049 170.14773391 129.5932024   91.86114235 226.26600831\n",
      "  82.43396368 151.8129733  120.7820993  180.4834001  192.39051206\n",
      " 234.3566598  133.91935913 274.26832419 172.0523618  254.97546561\n",
      "  99.61202983 161.94089618 143.19698113 130.39862465 260.53131605\n",
      " 127.34184182  90.64585389 101.96954671 110.68103754 150.82986054\n",
      " 124.3355202  178.99246482 228.47940921 191.63556784 219.43710983\n",
      "  95.3371506  229.17741845 219.80128273 237.20430402 222.51278598\n",
      " 136.91392465 199.21437431 165.43590352 103.50332736  97.29166144\n",
      " 206.09042452  90.14029445 181.06121476  86.21616879  96.46654295\n",
      " 253.89385193  96.27072938 115.044682   186.12621905 106.67951664\n",
      " 186.97634425]\n",
      "Run ID: a7edd2653458481ab60488297d06a781\n"
     ]
    }
   ],
   "source": [
    "import mlflow\n",
    "from mlflow.models import infer_signature\n",
    "\n",
    "from sklearn.model_selection import train_test_split\n",
    "from sklearn.datasets import load_diabetes\n",
    "from sklearn.ensemble import RandomForestRegressor\n",
    "\n",
    "with mlflow.start_run() as run:\n",
    "    # Load the diabetes dataset.\n",
    "    db = load_diabetes()\n",
    "    X_train, X_test, y_train, y_test = train_test_split(db.data, db.target)\n",
    "\n",
    "    # Create and train models.\n",
    "    rf = RandomForestRegressor(n_estimators=100, max_depth=6, max_features=3)\n",
    "    rf.fit(X_train, y_train)\n",
    "\n",
    "    # Use the model to make predictions on the test dataset.\n",
    "    predictions = rf.predict(X_test)\n",
    "    print(predictions)\n",
    "\n",
    "    signature = infer_signature(X_test, predictions)\n",
    "    mlflow.sklearn.log_model(rf, \"model\", signature=signature)\n",
    "\n",
    "    print(f\"Run ID: {run.info.run_id}\")"
   ]
  },
  {
   "cell_type": "code",
   "execution_count": 6,
   "metadata": {},
   "outputs": [
    {
     "name": "stdout",
     "output_type": "stream",
     "text": [
      "[2023-09-27 20:38:23 -0400] [342146] [INFO] Starting gunicorn 21.2.0\n",
      "[2023-09-27 20:38:23 -0400] [342146] [INFO] Listening at: http://127.0.0.1:5001 (342146)\n",
      "[2023-09-27 20:38:23 -0400] [342146] [INFO] Using worker: sync\n",
      "[2023-09-27 20:38:23 -0400] [342147] [INFO] Booting worker with pid: 342147\n",
      "[2023-09-27 20:38:23 -0400] [342148] [INFO] Booting worker with pid: 342148\n",
      "[2023-09-27 20:38:23 -0400] [342149] [INFO] Booting worker with pid: 342149\n",
      "[2023-09-27 20:38:23 -0400] [342150] [INFO] Booting worker with pid: 342150\n",
      "^C\n",
      "[2023-09-27 20:49:11 -0400] [342146] [INFO] Handling signal: int\n",
      "[2023-09-27 20:49:11 -0400] [342150] [INFO] Worker exiting (pid: 342150)\n",
      "[2023-09-27 20:49:11 -0400] [342148] [INFO] Worker exiting (pid: 342148)\n",
      "[2023-09-27 20:49:11 -0400] [342149] [INFO] Worker exiting (pid: 342149)\n",
      "[2023-09-27 20:49:11 -0400] [342147] [INFO] Worker exiting (pid: 342147)\n"
     ]
    }
   ],
   "source": [
    "!mlflow ui --port=5001"
   ]
  },
  {
   "cell_type": "markdown",
   "metadata": {},
   "source": [
    "### Load a model"
   ]
  },
  {
   "cell_type": "code",
   "execution_count": 7,
   "metadata": {},
   "outputs": [
    {
     "name": "stdout",
     "output_type": "stream",
     "text": [
      "[122.40261887 234.18467364 140.18766533 243.91707622 245.53061941\n",
      " 187.89789308  96.28890875  88.89452932 135.70200448 107.04530356\n",
      " 103.76999767 176.28014701 180.4834001   76.14683975 128.55257159\n",
      " 185.09300542 143.69013658 150.82986054  97.45081585 112.9968235\n",
      " 138.76118    116.49273203 101.60445853  87.30251689 122.56539834\n",
      "  89.62155793 226.26600831 210.18484846 106.98860284 259.98304437\n",
      " 260.79224118 109.14294108 211.76111755 135.42689954 120.7820993\n",
      "  93.86100571 218.16837761 248.54687141  95.94761874 123.11095363\n",
      "  90.80937315 106.67951664 260.53131605 274.26832419 173.32572024\n",
      " 176.62147535 146.23732091 139.90918216  98.94524125 156.17888733\n",
      " 215.7182531  195.07027538 141.03099423 155.00970735 103.6021406\n",
      " 237.3877715   78.4928254  231.54420999 192.39051206 188.42045515\n",
      " 103.50332736 190.70644941 107.2176039  158.99833758 186.97634425\n",
      "  95.74975624 177.2550257  111.68677597  91.86114235 110.04041889\n",
      " 212.80348334 167.24063782 226.23657994 269.06005143 196.84296301\n",
      " 167.20063281 211.95597729 212.12435339  95.01096582  97.37922156\n",
      " 182.88081136  86.21616879 247.50600837 123.0995639  113.96160832\n",
      " 254.25881866  97.76847376 115.044682   190.71255852 190.55107463\n",
      " 239.8945894  119.53352494 206.77145734  83.69078723 103.80851766\n",
      " 173.31096402  93.11702409 272.98167626 237.48078917 265.62473364\n",
      " 167.78437991 124.61651218 224.36413898 132.96030478 152.0436169\n",
      " 115.71766056 173.60923352 158.97365094  96.75704568 178.15232774\n",
      " 178.31689982]\n"
     ]
    }
   ],
   "source": [
    "import mlflow\n",
    "\n",
    "from sklearn.model_selection import train_test_split\n",
    "from sklearn.datasets import load_diabetes\n",
    "\n",
    "db = load_diabetes()\n",
    "X_train, X_test, y_train, y_test = train_test_split(db.data, db.target)\n",
    "\n",
    "model = mlflow.sklearn.load_model(\"mlruns/0/a7edd2653458481ab60488297d06a781/artifacts/model/\")\n",
    "predictions = model.predict(X_test)\n",
    "print(predictions)"
   ]
  },
  {
   "cell_type": "code",
   "execution_count": null,
   "metadata": {},
   "outputs": [],
   "source": []
  }
 ],
 "metadata": {
  "kernelspec": {
   "display_name": "Python 3 (ipykernel)",
   "language": "python",
   "name": "python3"
  },
  "language_info": {
   "codemirror_mode": {
    "name": "ipython",
    "version": 3
   },
   "file_extension": ".py",
   "mimetype": "text/x-python",
   "name": "python",
   "nbconvert_exporter": "python",
   "pygments_lexer": "ipython3",
   "version": "3.9.7"
  }
 },
 "nbformat": 4,
 "nbformat_minor": 4
}
