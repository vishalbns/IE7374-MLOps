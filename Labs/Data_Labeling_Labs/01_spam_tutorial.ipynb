{
 "cells": [
  {
   "cell_type": "markdown",
   "metadata": {},
   "source": [
    "# 🚀 Snorkel Intro Tutorial: Data Labeling"
   ]
  },
  {
   "cell_type": "markdown",
   "metadata": {},
   "source": [
    "In this tutorial, we will walk through the process of using Snorkel to build a training set for classifying YouTube comments as spam or not spam.\n",
    "The goal of this tutorial is to illustrate the basic components and concepts of Snorkel in a simple way, but also to dive into the actual process of iteratively developing real applications in Snorkel.\n",
    "\n",
    "**Note that this is a toy dataset that helps highlight the different features of Snorkel. For examples of high-performance, real-world uses of Snorkel, see [our publications list](https://www.snorkel.org/resources/).**\n",
    "\n",
    "Additionally:\n",
    "* For an overview of Snorkel, visit [snorkel.org](https://snorkel.org)\n",
    "* You can also check out the [Snorkel API documentation](https://snorkel.readthedocs.io/)\n",
    "\n",
    "Our goal is to train a classifier over the comment data that can predict whether a comment is spam or not spam.\n",
    "We have access to a large amount of *unlabeled data* in the form of YouTube comments with some metadata.\n",
    "In order to train a classifier, we need to label our data, but doing so by hand for real world applications can often be prohibitively slow and expensive.\n",
    "\n",
    "In these cases, we can turn to a _weak supervision_ approach, using **_labeling functions (LFs)_** in Snorkel: noisy, programmatic rules and heuristics that assign labels to unlabeled training data.\n",
    "We'll dive into the Snorkel API and how we write labeling functions later in this tutorial, but as an example,\n",
    "we can write an LF that labels data points with `\"http\"` in the comment text as spam since many spam\n",
    "comments contain links:\n",
    "\n",
    "```python\n",
    "from snorkel.labeling import labeling_function\n",
    "\n",
    "@labeling_function()\n",
    "def lf_contains_link(x):\n",
    "    # Return a label of SPAM if \"http\" in comment text, otherwise ABSTAIN\n",
    "    return SPAM if \"http\" in x.text.lower() else ABSTAIN\n",
    "```\n",
    "\n",
    "The tutorial is divided into four parts:\n",
    "1. **Loading Data**: We load a [YouTube comments dataset](http://www.dt.fee.unicamp.br/~tiago//youtubespamcollection/), originally introduced in [\"TubeSpam: Comment Spam Filtering on YouTube\"](https://ieeexplore.ieee.org/document/7424299/), ICMLA'15 (T.C. Alberto, J.V. Lochter, J.V. Almeida).\n",
    "\n",
    "2. **Writing Labeling Functions**: We write Python programs that take as input a data point and assign labels (or abstain) using heuristics, pattern matching, and third-party models.\n",
    "\n",
    "3. **Combining Labeling Function Outputs with the Label Model**: We model the outputs of the labeling functions over the training set using a novel, theoretically-grounded [modeling approach](https://arxiv.org/abs/1605.07723), which estimates the accuracies and correlations of the labeling functions using only their agreements and disagreements, and then uses this to reweight and combine their outputs, which we then use as _probabilistic_ training labels.\n",
    "\n",
    "4. **Training a Classifier**: We train a classifier that can predict labels for *any* YouTube comment (not just the ones labeled by the labeling functions) using the probabilistic training labels from step 3."
   ]
  },
  {
   "cell_type": "markdown",
   "metadata": {},
   "source": [
    "### Task: Spam Detection"
   ]
  },
  {
   "cell_type": "markdown",
   "metadata": {},
   "source": [
    "We use a [YouTube comments dataset](http://www.dt.fee.unicamp.br/~tiago//youtubespamcollection/) that consists of YouTube comments from 5 videos. The task is to classify each comment as being\n",
    "\n",
    "* **`HAM`**: comments relevant to the video (even very simple ones), or\n",
    "* **`SPAM`**: irrelevant (often trying to advertise something) or inappropriate messages\n",
    "\n",
    "For example, the following comments are `SPAM`:\n",
    "\n",
    "        \"Subscribe to me for free Android games, apps..\"\n",
    "\n",
    "        \"Please check out my vidios\"\n",
    "\n",
    "        \"Subscribe to me and I'll subscribe back!!!\"\n",
    "\n",
    "and these are `HAM`:\n",
    "\n",
    "        \"3:46 so cute!\"\n",
    "\n",
    "        \"This looks so fun and it's a good song\"\n",
    "\n",
    "        \"This is a weird video.\""
   ]
  },
  {
   "cell_type": "markdown",
   "metadata": {},
   "source": [
    "### Data Splits in Snorkel\n",
    "\n",
    "We split our data into two sets:\n",
    "* **Training Set**: The largest split of the dataset, and the one without any ground truth (\"gold\") labels.\n",
    "We will generate labels for these data points with weak supervision.\n",
    "* **Test Set**: A small, standard held-out blind hand-labeled set for final evaluation of our classifier. This set should only be used for final evaluation, _not_ error analysis.\n",
    "\n",
    "Note that in more advanced production settings, we will often further split up the available hand-labeled data into a _development split_, for getting ideas to write labeling functions, and a _validation split_ for e.g. checking our performance without looking at test set scores, hyperparameter tuning, etc.  These splits are used in some of the other advanced tutorials, but omitted for simplicity here."
   ]
  },
  {
   "cell_type": "markdown",
   "metadata": {},
   "source": [
    "## 1. Loading Data"
   ]
  },
  {
   "cell_type": "markdown",
   "metadata": {},
   "source": [
    "We load the YouTube comments dataset and create Pandas DataFrame objects for the train and test sets.\n",
    "DataFrames are extremely popular in Python data analysis workloads, and Snorkel provides native support\n",
    "for several DataFrame-like data structures, including Pandas, Dask, and PySpark.\n",
    "For more information on working with Pandas DataFrames, see the [Pandas DataFrame guide](https://pandas.pydata.org/pandas-docs/stable/user_guide/dsintro.html).\n",
    "\n",
    "Each DataFrame consists of the following fields:\n",
    "* **`author`**: Username of the comment author\n",
    "* **`data`**: Date and time the comment was posted\n",
    "* **`text`**: Raw text content of the comment\n",
    "* **`label`**: Whether the comment is `SPAM` (1), `HAM` (0), or `UNKNOWN/ABSTAIN` (-1)\n",
    "* **`video`**: Video the comment is associated with\n",
    "\n",
    "We start by loading our data.\n",
    "The `load_spam_dataset()` method downloads the raw CSV files from the internet, divides them into splits, converts them into DataFrames, and shuffles them.\n",
    "As mentioned above, the dataset contains comments from 5 of the most popular YouTube videos during a period between 2014 and 2015.\n",
    "* The first four videos' comments are combined to form the `train` set. This set has no gold labels.\n",
    "* The fifth video is part of the `test` set."
   ]
  },
  {
   "cell_type": "markdown",
   "metadata": {
    "tags": [
     "md-exclude"
    ]
   },
   "source": [
    "This next cell takes care of some notebook-specific housekeeping.\n",
    "You can ignore it."
   ]
  },
  {
   "cell_type": "code",
   "execution_count": 1,
   "metadata": {
    "tags": [
     "md-exclude"
    ]
   },
   "outputs": [],
   "source": [
    "%matplotlib inline\n",
    "\n",
    "import os\n",
    "\n",
    "# Turn off TensorFlow logging messages\n",
    "os.environ[\"TF_CPP_MIN_LOG_LEVEL\"] = \"3\"\n",
    "\n",
    "# For reproducibility\n",
    "os.environ[\"PYTHONHASHSEED\"] = \"0\""
   ]
  },
  {
   "cell_type": "markdown",
   "metadata": {
    "tags": [
     "md-exclude"
    ]
   },
   "source": [
    "If you want to display all comment text untruncated, change `DISPLAY_ALL_TEXT` to `True` below."
   ]
  },
  {
   "cell_type": "code",
   "execution_count": 2,
   "metadata": {
    "tags": [
     "md-exclude"
    ]
   },
   "outputs": [],
   "source": [
    "import pandas as pd\n",
    "\n",
    "DISPLAY_ALL_TEXT = False\n",
    "\n",
    "pd.set_option(\"display.max_colwidth\", 0 if DISPLAY_ALL_TEXT else 50)"
   ]
  },
  {
   "cell_type": "markdown",
   "metadata": {
    "tags": [
     "md-exclude"
    ]
   },
   "source": [
    "This next cell makes sure a spaCy English model is downloaded.\n",
    "If this is your first time downloading this model, restart the kernel after executing the next cell."
   ]
  },
  {
   "cell_type": "code",
   "execution_count": 3,
   "metadata": {
    "scrolled": true,
    "tags": [
     "md-exclude"
    ]
   },
   "outputs": [
    {
     "name": "stdout",
     "output_type": "stream",
     "text": [
      "\r",
      "\u001b[K     |████████▍                       | 2.9MB 492kB/s eta 0:00:17\r",
      "\u001b[K     |████████▍                       | 2.9MB 492kB/s eta 0:00:17\r",
      "\u001b[K     |████████▍                       | 2.9MB 492kB/s eta 0:00:17\r",
      "\u001b[K     |████████▍                       | 2.9MB 492kB/s eta 0:00:17\r",
      "\u001b[K     |████████▌                       | 2.9MB 492kB/s eta 0:00:17\r",
      "\u001b[K     |████████▌                       | 2.9MB 492kB/s eta 0:00:17\r",
      "\u001b[K     |████████▌                       | 2.9MB 492kB/s eta 0:00:17\r",
      "\u001b[K     |████████▌                       | 3.0MB 492kB/s eta 0:00:17\r",
      "\u001b[K     |████████▋                       | 3.0MB 492kB/s eta 0:00:17\r",
      "\u001b[K     |████████▋                       | 3.0MB 492kB/s eta 0:00:17\r",
      "\u001b[K     |████████▋                       | 3.0MB 492kB/s eta 0:00:17\r",
      "\u001b[K     |████████▊                       | 3.0MB 492kB/s eta 0:00:17\r",
      "\u001b[K     |████████▊                       | 3.0MB 492kB/s eta 0:00:17\r",
      "\u001b[K     |████████▊                       | 3.0MB 492kB/s eta 0:00:17\r",
      "\u001b[K     |████████▊                       | 3.0MB 492kB/s eta 0:00:17\r",
      "\u001b[K     |████████▉                       | 3.0MB 492kB/s eta 0:00:17\r",
      "\u001b[K     |████████▉                       | 3.1MB 492kB/s eta 0:00:17\r",
      "\u001b[K     |████████▉                       | 3.1MB 492kB/s eta 0:00:17\r",
      "\u001b[K     |████████▉                       | 3.1MB 492kB/s eta 0:00:17\r",
      "\u001b[K     |█████████                       | 3.1MB 492kB/s eta 0:00:17\r",
      "\u001b[K     |█████████                       | 3.1MB 492kB/s eta 0:00:17\r",
      "\u001b[K     |█████████                       | 3.1MB 492kB/s eta 0:00:17\r",
      "\u001b[K     |█████████                       | 3.1MB 492kB/s eta 0:00:17\r",
      "\u001b[K     |█████████                       | 3.1MB 492kB/s eta 0:00:17\r",
      "\u001b[K     |█████████                       | 3.1MB 492kB/s eta 0:00:17\r",
      "\u001b[K     |█████████                       | 3.1MB 492kB/s eta 0:00:17\r",
      "\u001b[K     |█████████▏                      | 3.2MB 492kB/s eta 0:00:17\r",
      "\u001b[K     |█████████▏                      | 3.2MB 492kB/s eta 0:00:17\r",
      "\u001b[K     |█████████▏                      | 3.2MB 492kB/s eta 0:00:17\r",
      "\u001b[K     |█████████▏                      | 3.2MB 492kB/s eta 0:00:17\r",
      "\u001b[K     |█████████▎                      | 3.2MB 492kB/s eta 0:00:17\r",
      "\u001b[K     |█████████▎                      | 3.2MB 492kB/s eta 0:00:16\r",
      "\u001b[K     |█████████▎                      | 3.2MB 492kB/s eta 0:00:16\r",
      "\u001b[K     |█████████▎                      | 3.2MB 492kB/s eta 0:00:16\r",
      "\u001b[K     |█████████▍                      | 3.2MB 492kB/s eta 0:00:16\r",
      "\u001b[K     |█████████▍                      | 3.2MB 492kB/s eta 0:00:16\r",
      "\u001b[K     |█████████▍                      | 3.3MB 492kB/s eta 0:00:16\r",
      "\u001b[K     |█████████▍                      | 3.3MB 492kB/s eta 0:00:16\r",
      "\u001b[K     |█████████▌                      | 3.3MB 492kB/s eta 0:00:16\r",
      "\u001b[K     |█████████▌                      | 3.3MB 492kB/s eta 0:00:16\r",
      "\u001b[K     |█████████▌                      | 3.3MB 492kB/s eta 0:00:16\r",
      "\u001b[K     |█████████▋                      | 3.3MB 492kB/s eta 0:00:16\r",
      "\u001b[K     |█████████▋                      | 3.3MB 492kB/s eta 0:00:16\r",
      "\u001b[K     |█████████▋                      | 3.3MB 492kB/s eta 0:00:16\r",
      "\u001b[K     |█████████▋                      | 3.3MB 492kB/s eta 0:00:16\r",
      "\u001b[K     |█████████▊                      | 3.3MB 492kB/s eta 0:00:16\r",
      "\u001b[K     |█████████▊                      | 3.4MB 492kB/s eta 0:00:16\r",
      "\u001b[K     |█████████▊                      | 3.4MB 492kB/s eta 0:00:16\r",
      "\u001b[K     |█████████▊                      | 3.4MB 492kB/s eta 0:00:16\r",
      "\u001b[K     |█████████▉                      | 3.4MB 492kB/s eta 0:00:16\r",
      "\u001b[K     |█████████▉                      | 3.4MB 492kB/s eta 0:00:16\r",
      "\u001b[K     |█████████▉                      | 3.4MB 492kB/s eta 0:00:16\r",
      "\u001b[K     |█████████▉                      | 3.4MB 492kB/s eta 0:00:16\r",
      "\u001b[K     |██████████                      | 3.4MB 492kB/s eta 0:00:16\r",
      "\u001b[K     |██████████                      | 3.4MB 492kB/s eta 0:00:16\r",
      "\u001b[K     |██████████                      | 3.5MB 492kB/s eta 0:00:16\r",
      "\u001b[K     |██████████                      | 3.5MB 492kB/s eta 0:00:16\r",
      "\u001b[K     |██████████                      | 3.5MB 492kB/s eta 0:00:16\r",
      "\u001b[K     |██████████                      | 3.5MB 492kB/s eta 0:00:16\r",
      "\u001b[K     |██████████                      | 3.5MB 492kB/s eta 0:00:16\r",
      "\u001b[K     |██████████▏                     | 3.5MB 492kB/s eta 0:00:16\r",
      "\u001b[K     |██████████▏                     | 3.5MB 492kB/s eta 0:00:16\r",
      "\u001b[K     |██████████▏                     | 3.5MB 492kB/s eta 0:00:16\r",
      "\u001b[K     |██████████▏                     | 3.5MB 492kB/s eta 0:00:16\r",
      "\u001b[K     |██████████▎                     | 3.5MB 492kB/s eta 0:00:16\r",
      "\u001b[K     |██████████▎                     | 3.6MB 492kB/s eta 0:00:16\r",
      "\u001b[K     |██████████▎                     | 3.6MB 492kB/s eta 0:00:16\r",
      "\u001b[K     |██████████▎                     | 3.6MB 492kB/s eta 0:00:16\r",
      "\u001b[K     |██████████▍                     | 3.6MB 492kB/s eta 0:00:16\r",
      "\u001b[K     |██████████▍                     | 3.6MB 492kB/s eta 0:00:16\r",
      "\u001b[K     |██████████▍                     | 3.6MB 492kB/s eta 0:00:16\r",
      "\u001b[K     |██████████▌                     | 3.6MB 492kB/s eta 0:00:16\r",
      "\u001b[K     |██████████▌                     | 3.6MB 492kB/s eta 0:00:16\r",
      "\u001b[K     |██████████▌                     | 3.6MB 492kB/s eta 0:00:16\r",
      "\u001b[K     |██████████▌                     | 3.6MB 492kB/s eta 0:00:16\r",
      "\u001b[K     |██████████▋                     | 3.7MB 492kB/s eta 0:00:16\r",
      "\u001b[K     |██████████▋                     | 3.7MB 492kB/s eta 0:00:16\r",
      "\u001b[K     |██████████▋                     | 3.7MB 492kB/s eta 0:00:16\r",
      "\u001b[K     |██████████▋                     | 3.7MB 492kB/s eta 0:00:16\r",
      "\u001b[K     |██████████▊                     | 3.7MB 492kB/s eta 0:00:15\r",
      "\u001b[K     |██████████▊                     | 3.7MB 492kB/s eta 0:00:15\r",
      "\u001b[K     |██████████▊                     | 3.7MB 492kB/s eta 0:00:15\r",
      "\u001b[K     |██████████▊                     | 3.7MB 492kB/s eta 0:00:15\r",
      "\u001b[K     |██████████▉                     | 3.7MB 492kB/s eta 0:00:15\r",
      "\u001b[K     |██████████▉                     | 3.7MB 492kB/s eta 0:00:15\r",
      "\u001b[K     |██████████▉                     | 3.8MB 492kB/s eta 0:00:15\r",
      "\u001b[K     |██████████▉                     | 3.8MB 492kB/s eta 0:00:15"
     ]
    },
    {
     "name": "stdout",
     "output_type": "stream",
     "text": [
      "\r",
      "\u001b[K     |███████████                     | 3.8MB 492kB/s eta 0:00:15\r",
      "\u001b[K     |███████████                     | 3.8MB 492kB/s eta 0:00:15\r",
      "\u001b[K     |███████████                     | 3.8MB 492kB/s eta 0:00:15\r",
      "\u001b[K     |███████████                     | 3.8MB 492kB/s eta 0:00:15\r",
      "\u001b[K     |███████████                     | 3.8MB 492kB/s eta 0:00:15\r",
      "\u001b[K     |███████████                     | 3.8MB 492kB/s eta 0:00:15\r",
      "\u001b[K     |███████████                     | 3.8MB 492kB/s eta 0:00:15\r",
      "\u001b[K     |███████████▏                    | 3.9MB 492kB/s eta 0:00:15\r",
      "\u001b[K     |███████████▏                    | 3.9MB 492kB/s eta 0:00:15\r",
      "\u001b[K     |███████████▏                    | 3.9MB 492kB/s eta 0:00:15\r",
      "\u001b[K     |███████████▏                    | 3.9MB 492kB/s eta 0:00:15\r",
      "\u001b[K     |███████████▎                    | 3.9MB 492kB/s eta 0:00:15\r",
      "\u001b[K     |███████████▎                    | 3.9MB 492kB/s eta 0:00:15\r",
      "\u001b[K     |███████████▎                    | 3.9MB 492kB/s eta 0:00:15\r",
      "\u001b[K     |███████████▎                    | 3.9MB 492kB/s eta 0:00:15\r",
      "\u001b[K     |███████████▍                    | 3.9MB 492kB/s eta 0:00:15\r",
      "\u001b[K     |███████████▍                    | 3.9MB 492kB/s eta 0:00:15\r",
      "\u001b[K     |███████████▍                    | 4.0MB 492kB/s eta 0:00:15\r",
      "\u001b[K     |███████████▌                    | 4.0MB 492kB/s eta 0:00:15\r",
      "\u001b[K     |███████████▌                    | 4.0MB 492kB/s eta 0:00:15\r",
      "\u001b[K     |███████████▌                    | 4.0MB 492kB/s eta 0:00:15\r",
      "\u001b[K     |███████████▌                    | 4.0MB 492kB/s eta 0:00:15\r",
      "\u001b[K     |███████████▋                    | 4.0MB 492kB/s eta 0:00:15\r",
      "\u001b[K     |███████████▋                    | 4.0MB 492kB/s eta 0:00:15\r",
      "\u001b[K     |███████████▋                    | 4.0MB 492kB/s eta 0:00:15\r",
      "\u001b[K     |███████████▋                    | 4.0MB 492kB/s eta 0:00:15\r",
      "\u001b[K     |███████████▊                    | 4.0MB 492kB/s eta 0:00:15\r",
      "\u001b[K     |███████████▊                    | 4.1MB 492kB/s eta 0:00:15\r",
      "\u001b[K     |███████████▊                    | 4.1MB 492kB/s eta 0:00:15\r",
      "\u001b[K     |███████████▊                    | 4.1MB 492kB/s eta 0:00:15\r",
      "\u001b[K     |███████████▉                    | 4.1MB 492kB/s eta 0:00:15\r",
      "\u001b[K     |███████████▉                    | 4.1MB 492kB/s eta 0:00:15\r",
      "\u001b[K     |███████████▉                    | 4.1MB 492kB/s eta 0:00:15\r",
      "\u001b[K     |████████████                    | 4.1MB 492kB/s eta 0:00:15\r",
      "\u001b[K     |████████████                    | 4.1MB 492kB/s eta 0:00:15\r",
      "\u001b[K     |████████████                    | 4.1MB 492kB/s eta 0:00:15\r",
      "\u001b[K     |████████████                    | 4.1MB 492kB/s eta 0:00:15\r",
      "\u001b[K     |████████████                    | 4.2MB 492kB/s eta 0:00:15\r",
      "\u001b[K     |████████████                    | 4.2MB 492kB/s eta 0:00:15\r",
      "\u001b[K     |████████████                    | 4.2MB 492kB/s eta 0:00:15\r",
      "\u001b[K     |████████████                    | 4.2MB 492kB/s eta 0:00:14\r",
      "\u001b[K     |████████████▏                   | 4.2MB 492kB/s eta 0:00:14\r",
      "\u001b[K     |████████████▏                   | 4.2MB 492kB/s eta 0:00:14\r",
      "\u001b[K     |████████████▏                   | 4.2MB 492kB/s eta 0:00:14\r",
      "\u001b[K     |████████████▏                   | 4.2MB 492kB/s eta 0:00:14\r",
      "\u001b[K     |████████████▎                   | 4.2MB 492kB/s eta 0:00:14\r",
      "\u001b[K     |████████████▎                   | 4.2MB 492kB/s eta 0:00:14\r",
      "\u001b[K     |████████████▎                   | 4.3MB 492kB/s eta 0:00:14\r",
      "\u001b[K     |████████████▍                   | 4.3MB 492kB/s eta 0:00:14\r",
      "\u001b[K     |████████████▍                   | 4.3MB 492kB/s eta 0:00:14\r",
      "\u001b[K     |████████████▍                   | 4.3MB 492kB/s eta 0:00:14\r",
      "\u001b[K     |████████████▍                   | 4.3MB 492kB/s eta 0:00:14\r",
      "\u001b[K     |████████████▌                   | 4.3MB 492kB/s eta 0:00:14\r",
      "\u001b[K     |████████████▌                   | 4.3MB 492kB/s eta 0:00:14\r",
      "\u001b[K     |████████████▌                   | 4.3MB 492kB/s eta 0:00:14\r",
      "\u001b[K     |████████████▌                   | 4.3MB 492kB/s eta 0:00:14\r",
      "\u001b[K     |████████████▋                   | 4.4MB 492kB/s eta 0:00:14\r",
      "\u001b[K     |████████████▋                   | 4.4MB 492kB/s eta 0:00:14\r",
      "\u001b[K     |████████████▋                   | 4.4MB 492kB/s eta 0:00:14\r",
      "\u001b[K     |████████████▋                   | 4.4MB 492kB/s eta 0:00:14\r",
      "\u001b[K     |████████████▊                   | 4.4MB 492kB/s eta 0:00:14\r",
      "\u001b[K     |████████████▊                   | 4.4MB 492kB/s eta 0:00:14\r",
      "\u001b[K     |████████████▊                   | 4.4MB 492kB/s eta 0:00:14\r",
      "\u001b[K     |████████████▉                   | 4.4MB 492kB/s eta 0:00:14\r",
      "\u001b[K     |████████████▉                   | 4.4MB 492kB/s eta 0:00:14\r",
      "\u001b[K     |████████████▉                   | 4.4MB 492kB/s eta 0:00:14\r",
      "\u001b[K     |████████████▉                   | 4.5MB 492kB/s eta 0:00:14\r",
      "\u001b[K     |█████████████                   | 4.5MB 492kB/s eta 0:00:14\r",
      "\u001b[K     |█████████████                   | 4.5MB 492kB/s eta 0:00:14\r",
      "\u001b[K     |█████████████                   | 4.5MB 492kB/s eta 0:00:14\r",
      "\u001b[K     |█████████████                   | 4.5MB 492kB/s eta 0:00:14\r",
      "\u001b[K     |█████████████                   | 4.5MB 492kB/s eta 0:00:14\r",
      "\u001b[K     |█████████████                   | 4.5MB 492kB/s eta 0:00:14\r",
      "\u001b[K     |█████████████                   | 4.5MB 492kB/s eta 0:00:14\r",
      "\u001b[K     |█████████████                   | 4.5MB 492kB/s eta 0:00:14\r",
      "\u001b[K     |█████████████▏                  | 4.5MB 492kB/s eta 0:00:14\r",
      "\u001b[K     |█████████████▏                  | 4.6MB 492kB/s eta 0:00:14\r",
      "\u001b[K     |█████████████▏                  | 4.6MB 492kB/s eta 0:00:14\r",
      "\u001b[K     |█████████████▎                  | 4.6MB 492kB/s eta 0:00:14\r",
      "\u001b[K     |█████████████▎                  | 4.6MB 492kB/s eta 0:00:14\r",
      "\u001b[K     |█████████████▎                  | 4.6MB 492kB/s eta 0:00:14\r",
      "\u001b[K     |█████████████▎                  | 4.6MB 492kB/s eta 0:00:14\r",
      "\u001b[K     |█████████████▍                  | 4.6MB 492kB/s eta 0:00:14\r",
      "\u001b[K     |█████████████▍                  | 4.6MB 492kB/s eta 0:00:14\r",
      "\u001b[K     |█████████████▍                  | 4.6MB 492kB/s eta 0:00:14\r",
      "\u001b[K     |█████████████▍                  | 4.6MB 492kB/s eta 0:00:14\r",
      "\u001b[K     |█████████████▌                  | 4.7MB 492kB/s eta 0:00:14\r",
      "\u001b[K     |█████████████▌                  | 4.7MB 492kB/s eta 0:00:14\r",
      "\u001b[K     |█████████████▌                  | 4.7MB 492kB/s eta 0:00:13\r",
      "\u001b[K     |█████████████▌                  | 4.7MB 492kB/s eta 0:00:13\r",
      "\u001b[K     |█████████████▋                  | 4.7MB 492kB/s eta 0:00:13\r",
      "\u001b[K     |█████████████▋                  | 4.7MB 492kB/s eta 0:00:13\r",
      "\u001b[K     |█████████████▋                  | 4.7MB 492kB/s eta 0:00:13\r",
      "\u001b[K     |█████████████▊                  | 4.7MB 492kB/s eta 0:00:13\r",
      "\u001b[K     |█████████████▊                  | 4.7MB 492kB/s eta 0:00:13\r",
      "\u001b[K     |█████████████▊                  | 4.8MB 492kB/s eta 0:00:13\r",
      "\u001b[K     |█████████████▊                  | 4.8MB 492kB/s eta 0:00:13\r",
      "\u001b[K     |█████████████▉                  | 4.8MB 492kB/s eta 0:00:13\r",
      "\u001b[K     |█████████████▉                  | 4.8MB 492kB/s eta 0:00:13\r",
      "\u001b[K     |█████████████▉                  | 4.8MB 492kB/s eta 0:00:13\r",
      "\u001b[K     |█████████████▉                  | 4.8MB 492kB/s eta 0:00:13\r",
      "\u001b[K     |██████████████                  | 4.8MB 492kB/s eta 0:00:13\r",
      "\u001b[K     |██████████████                  | 4.8MB 492kB/s eta 0:00:13\r",
      "\u001b[K     |██████████████                  | 4.8MB 492kB/s eta 0:00:13\r",
      "\u001b[K     |██████████████                  | 4.8MB 492kB/s eta 0:00:13\r",
      "\u001b[K     |██████████████                  | 4.9MB 492kB/s eta 0:00:13\r",
      "\u001b[K     |██████████████                  | 4.9MB 492kB/s eta 0:00:13\r",
      "\u001b[K     |██████████████                  | 4.9MB 492kB/s eta 0:00:13\r",
      "\u001b[K     |██████████████▏                 | 4.9MB 492kB/s eta 0:00:13\r",
      "\u001b[K     |██████████████▏                 | 4.9MB 492kB/s eta 0:00:13\r",
      "\u001b[K     |██████████████▏                 | 4.9MB 492kB/s eta 0:00:13\r",
      "\u001b[K     |██████████████▏                 | 4.9MB 492kB/s eta 0:00:13\r",
      "\u001b[K     |██████████████▎                 | 4.9MB 492kB/s eta 0:00:13\r",
      "\u001b[K     |██████████████▎                 | 4.9MB 492kB/s eta 0:00:13\r",
      "\u001b[K     |██████████████▎                 | 4.9MB 492kB/s eta 0:00:13\r",
      "\u001b[K     |██████████████▎                 | 5.0MB 492kB/s eta 0:00:13\r",
      "\u001b[K     |██████████████▍                 | 5.0MB 492kB/s eta 0:00:13\r",
      "\u001b[K     |██████████████▍                 | 5.0MB 492kB/s eta 0:00:13\r",
      "\u001b[K     |██████████████▍                 | 5.0MB 492kB/s eta 0:00:13\r",
      "\u001b[K     |██████████████▍                 | 5.0MB 492kB/s eta 0:00:13\r",
      "\u001b[K     |██████████████▌                 | 5.0MB 492kB/s eta 0:00:13"
     ]
    },
    {
     "name": "stdout",
     "output_type": "stream",
     "text": [
      "\r",
      "\u001b[K     |██████████████▌                 | 5.0MB 492kB/s eta 0:00:13\r",
      "\u001b[K     |██████████████▌                 | 5.0MB 492kB/s eta 0:00:13\r",
      "\u001b[K     |██████████████▋                 | 5.0MB 492kB/s eta 0:00:13\r",
      "\u001b[K     |██████████████▋                 | 5.0MB 492kB/s eta 0:00:13\r",
      "\u001b[K     |██████████████▋                 | 5.1MB 492kB/s eta 0:00:13\r",
      "\u001b[K     |██████████████▋                 | 5.1MB 492kB/s eta 0:00:13\r",
      "\u001b[K     |██████████████▊                 | 5.1MB 492kB/s eta 0:00:13\r",
      "\u001b[K     |██████████████▊                 | 5.1MB 492kB/s eta 0:00:13\r",
      "\u001b[K     |██████████████▊                 | 5.1MB 492kB/s eta 0:00:13\r",
      "\u001b[K     |██████████████▊                 | 5.1MB 492kB/s eta 0:00:13\r",
      "\u001b[K     |██████████████▉                 | 5.1MB 492kB/s eta 0:00:13\r",
      "\u001b[K     |██████████████▉                 | 5.1MB 492kB/s eta 0:00:13\r",
      "\u001b[K     |██████████████▉                 | 5.1MB 492kB/s eta 0:00:13\r",
      "\u001b[K     |██████████████▉                 | 5.2MB 492kB/s eta 0:00:13\r",
      "\u001b[K     |███████████████                 | 5.2MB 492kB/s eta 0:00:13\r",
      "\u001b[K     |███████████████                 | 5.2MB 492kB/s eta 0:00:12\r",
      "\u001b[K     |███████████████                 | 5.2MB 492kB/s eta 0:00:12\r",
      "\u001b[K     |███████████████                 | 5.2MB 492kB/s eta 0:00:12\r",
      "\u001b[K     |███████████████                 | 5.2MB 492kB/s eta 0:00:12\r",
      "\u001b[K     |███████████████                 | 5.2MB 492kB/s eta 0:00:12\r",
      "\u001b[K     |███████████████                 | 5.2MB 492kB/s eta 0:00:12\r",
      "\u001b[K     |███████████████▏                | 5.2MB 492kB/s eta 0:00:12\r",
      "\u001b[K     |███████████████▏                | 5.2MB 492kB/s eta 0:00:12\r",
      "\u001b[K     |███████████████▏                | 5.3MB 492kB/s eta 0:00:12\r",
      "\u001b[K     |███████████████▏                | 5.3MB 492kB/s eta 0:00:12\r",
      "\u001b[K     |███████████████▎                | 5.3MB 492kB/s eta 0:00:12\r",
      "\u001b[K     |███████████████▎                | 5.3MB 492kB/s eta 0:00:12\r",
      "\u001b[K     |███████████████▎                | 5.3MB 492kB/s eta 0:00:12\r",
      "\u001b[K     |███████████████▎                | 5.3MB 492kB/s eta 0:00:12\r",
      "\u001b[K     |███████████████▍                | 5.3MB 492kB/s eta 0:00:12\r",
      "\u001b[K     |███████████████▍                | 5.3MB 492kB/s eta 0:00:12\r",
      "\u001b[K     |███████████████▍                | 5.3MB 492kB/s eta 0:00:12\r",
      "\u001b[K     |███████████████▌                | 5.3MB 492kB/s eta 0:00:12\r",
      "\u001b[K     |███████████████▌                | 5.4MB 492kB/s eta 0:00:12\r",
      "\u001b[K     |███████████████▌                | 5.4MB 492kB/s eta 0:00:12\r",
      "\u001b[K     |███████████████▌                | 5.4MB 492kB/s eta 0:00:12\r",
      "\u001b[K     |███████████████▋                | 5.4MB 492kB/s eta 0:00:12\r",
      "\u001b[K     |███████████████▋                | 5.4MB 492kB/s eta 0:00:12\r",
      "\u001b[K     |███████████████▋                | 5.4MB 492kB/s eta 0:00:12\r",
      "\u001b[K     |███████████████▋                | 5.4MB 492kB/s eta 0:00:12\r",
      "\u001b[K     |███████████████▊                | 5.4MB 492kB/s eta 0:00:12\r",
      "\u001b[K     |███████████████▊                | 5.4MB 492kB/s eta 0:00:12\r",
      "\u001b[K     |███████████████▊                | 5.4MB 492kB/s eta 0:00:12\r",
      "\u001b[K     |███████████████▊                | 5.5MB 492kB/s eta 0:00:12\r",
      "\u001b[K     |███████████████▉                | 5.5MB 492kB/s eta 0:00:12\r",
      "\u001b[K     |███████████████▉                | 5.5MB 492kB/s eta 0:00:12\r",
      "\u001b[K     |███████████████▉                | 5.5MB 492kB/s eta 0:00:12\r",
      "\u001b[K     |████████████████                | 5.5MB 492kB/s eta 0:00:12\r",
      "\u001b[K     |████████████████                | 5.5MB 492kB/s eta 0:00:12\r",
      "\u001b[K     |████████████████                | 5.5MB 492kB/s eta 0:00:12\r",
      "\u001b[K     |████████████████                | 5.5MB 492kB/s eta 0:00:12\r",
      "\u001b[K     |████████████████                | 5.5MB 492kB/s eta 0:00:12\r",
      "\u001b[K     |████████████████                | 5.6MB 492kB/s eta 0:00:12\r",
      "\u001b[K     |████████████████                | 5.6MB 492kB/s eta 0:00:12\r",
      "\u001b[K     |████████████████                | 5.6MB 492kB/s eta 0:00:12\r",
      "\u001b[K     |████████████████▏               | 5.6MB 492kB/s eta 0:00:12\r",
      "\u001b[K     |████████████████▏               | 5.6MB 492kB/s eta 0:00:12\r",
      "\u001b[K     |████████████████▏               | 5.6MB 492kB/s eta 0:00:12\r",
      "\u001b[K     |████████████████▏               | 5.6MB 492kB/s eta 0:00:12\r",
      "\u001b[K     |████████████████▎               | 5.6MB 492kB/s eta 0:00:12\r",
      "\u001b[K     |████████████████▎               | 5.6MB 492kB/s eta 0:00:12\r",
      "\u001b[K     |████████████████▎               | 5.6MB 492kB/s eta 0:00:12\r",
      "\u001b[K     |████████████████▎               | 5.7MB 492kB/s eta 0:00:12\r",
      "\u001b[K     |████████████████▍               | 5.7MB 492kB/s eta 0:00:11\r",
      "\u001b[K     |████████████████▍               | 5.7MB 492kB/s eta 0:00:11\r",
      "\u001b[K     |████████████████▍               | 5.7MB 492kB/s eta 0:00:11\r",
      "\u001b[K     |████████████████▌               | 5.7MB 492kB/s eta 0:00:11\r",
      "\u001b[K     |████████████████▌               | 5.7MB 492kB/s eta 0:00:11\r",
      "\u001b[K     |████████████████▌               | 5.7MB 492kB/s eta 0:00:11\r",
      "\u001b[K     |████████████████▌               | 5.7MB 492kB/s eta 0:00:11\r",
      "\u001b[K     |████████████████▋               | 5.7MB 492kB/s eta 0:00:11\r",
      "\u001b[K     |████████████████▋               | 5.7MB 492kB/s eta 0:00:11\r",
      "\u001b[K     |████████████████▋               | 5.8MB 492kB/s eta 0:00:11\r",
      "\u001b[K     |████████████████▋               | 5.8MB 492kB/s eta 0:00:11\r",
      "\u001b[K     |████████████████▊               | 5.8MB 492kB/s eta 0:00:11\r",
      "\u001b[K     |████████████████▊               | 5.8MB 492kB/s eta 0:00:11\r",
      "\u001b[K     |████████████████▊               | 5.8MB 492kB/s eta 0:00:11\r",
      "\u001b[K     |████████████████▊               | 5.8MB 492kB/s eta 0:00:11\r",
      "\u001b[K     |████████████████▉               | 5.8MB 492kB/s eta 0:00:11\r",
      "\u001b[K     |████████████████▉               | 5.8MB 492kB/s eta 0:00:11\r",
      "\u001b[K     |████████████████▉               | 5.8MB 492kB/s eta 0:00:11\r",
      "\u001b[K     |█████████████████               | 5.8MB 492kB/s eta 0:00:11\r",
      "\u001b[K     |█████████████████               | 5.9MB 492kB/s eta 0:00:11\r",
      "\u001b[K     |█████████████████               | 5.9MB 492kB/s eta 0:00:11\r",
      "\u001b[K     |█████████████████               | 5.9MB 492kB/s eta 0:00:11\r",
      "\u001b[K     |█████████████████               | 5.9MB 492kB/s eta 0:00:11\r",
      "\u001b[K     |█████████████████               | 5.9MB 492kB/s eta 0:00:11\r",
      "\u001b[K     |█████████████████               | 5.9MB 492kB/s eta 0:00:11\r",
      "\u001b[K     |█████████████████               | 5.9MB 492kB/s eta 0:00:11\r",
      "\u001b[K     |█████████████████▏              | 5.9MB 492kB/s eta 0:00:11\r",
      "\u001b[K     |█████████████████▏              | 5.9MB 492kB/s eta 0:00:11\r",
      "\u001b[K     |█████████████████▏              | 5.9MB 492kB/s eta 0:00:11\r",
      "\u001b[K     |█████████████████▏              | 6.0MB 492kB/s eta 0:00:11\r",
      "\u001b[K     |█████████████████▎              | 6.0MB 492kB/s eta 0:00:11\r",
      "\u001b[K     |█████████████████▎              | 6.0MB 492kB/s eta 0:00:11\r",
      "\u001b[K     |█████████████████▎              | 6.0MB 492kB/s eta 0:00:11\r",
      "\u001b[K     |█████████████████▍              | 6.0MB 492kB/s eta 0:00:11\r",
      "\u001b[K     |█████████████████▍              | 6.0MB 492kB/s eta 0:00:11\r",
      "\u001b[K     |█████████████████▍              | 6.0MB 492kB/s eta 0:00:11\r",
      "\u001b[K     |█████████████████▍              | 6.0MB 492kB/s eta 0:00:11\r",
      "\u001b[K     |█████████████████▌              | 6.0MB 492kB/s eta 0:00:11\r",
      "\u001b[K     |█████████████████▌              | 6.1MB 492kB/s eta 0:00:11\r",
      "\u001b[K     |█████████████████▌              | 6.1MB 492kB/s eta 0:00:11\r",
      "\u001b[K     |█████████████████▌              | 6.1MB 492kB/s eta 0:00:11\r",
      "\u001b[K     |█████████████████▋              | 6.1MB 492kB/s eta 0:00:11\r",
      "\u001b[K     |█████████████████▋              | 6.1MB 492kB/s eta 0:00:11\r",
      "\u001b[K     |█████████████████▋              | 6.1MB 492kB/s eta 0:00:11\r",
      "\u001b[K     |█████████████████▋              | 6.1MB 492kB/s eta 0:00:11\r",
      "\u001b[K     |█████████████████▊              | 6.1MB 492kB/s eta 0:00:11\r",
      "\u001b[K     |█████████████████▊              | 6.1MB 492kB/s eta 0:00:11\r",
      "\u001b[K     |█████████████████▊              | 6.1MB 492kB/s eta 0:00:11\r",
      "\u001b[K     |█████████████████▉              | 6.2MB 492kB/s eta 0:00:10\r",
      "\u001b[K     |█████████████████▉              | 6.2MB 492kB/s eta 0:00:10\r",
      "\u001b[K     |█████████████████▉              | 6.2MB 492kB/s eta 0:00:10\r",
      "\u001b[K     |█████████████████▉              | 6.2MB 492kB/s eta 0:00:10\r",
      "\u001b[K     |██████████████████              | 6.2MB 492kB/s eta 0:00:10\r",
      "\u001b[K     |██████████████████              | 6.2MB 492kB/s eta 0:00:10\r",
      "\u001b[K     |██████████████████              | 6.2MB 492kB/s eta 0:00:10\r",
      "\u001b[K     |██████████████████              | 6.2MB 492kB/s eta 0:00:10\r",
      "\u001b[K     |██████████████████              | 6.2MB 492kB/s eta 0:00:10\r",
      "\u001b[K     |██████████████████              | 6.2MB 492kB/s eta 0:00:10\r",
      "\u001b[K     |██████████████████              | 6.3MB 492kB/s eta 0:00:10\r",
      "\u001b[K     |██████████████████              | 6.3MB 492kB/s eta 0:00:10\r",
      "\u001b[K     |██████████████████▏             | 6.3MB 492kB/s eta 0:00:10\r",
      "\u001b[K     |██████████████████▏             | 6.3MB 492kB/s eta 0:00:10\r",
      "\u001b[K     |██████████████████▏             | 6.3MB 492kB/s eta 0:00:10\r",
      "\u001b[K     |██████████████████▎             | 6.3MB 492kB/s eta 0:00:10\r",
      "\u001b[K     |██████████████████▎             | 6.3MB 492kB/s eta 0:00:10\r",
      "\u001b[K     |██████████████████▎             | 6.3MB 492kB/s eta 0:00:10\r",
      "\u001b[K     |██████████████████▎             | 6.3MB 492kB/s eta 0:00:10\r",
      "\u001b[K     |██████████████████▍             | 6.3MB 492kB/s eta 0:00:10\r",
      "\u001b[K     |██████████████████▍             | 6.4MB 492kB/s eta 0:00:10\r",
      "\u001b[K     |██████████████████▍             | 6.4MB 492kB/s eta 0:00:10\r",
      "\u001b[K     |██████████████████▍             | 6.4MB 492kB/s eta 0:00:10\r",
      "\u001b[K     |██████████████████▌             | 6.4MB 492kB/s eta 0:00:10\r",
      "\u001b[K     |██████████████████▌             | 6.4MB 492kB/s eta 0:00:10\r",
      "\u001b[K     |██████████████████▌             | 6.4MB 492kB/s eta 0:00:10\r",
      "\u001b[K     |██████████████████▌             | 6.4MB 492kB/s eta 0:00:10\r",
      "\u001b[K     |██████████████████▋             | 6.4MB 492kB/s eta 0:00:10\r",
      "\u001b[K     |██████████████████▋             | 6.4MB 492kB/s eta 0:00:10\r",
      "\u001b[K     |██████████████████▋             | 6.5MB 492kB/s eta 0:00:10\r",
      "\u001b[K     |██████████████████▊             | 6.5MB 492kB/s eta 0:00:10\r",
      "\u001b[K     |██████████████████▊             | 6.5MB 492kB/s eta 0:00:10\r",
      "\u001b[K     |██████████████████▊             | 6.5MB 492kB/s eta 0:00:10\r",
      "\u001b[K     |██████████████████▊             | 6.5MB 492kB/s eta 0:00:10\r",
      "\u001b[K     |██████████████████▉             | 6.5MB 492kB/s eta 0:00:10\r",
      "\u001b[K     |██████████████████▉             | 6.5MB 492kB/s eta 0:00:10\r",
      "\u001b[K     |██████████████████▉             | 6.5MB 492kB/s eta 0:00:10\r",
      "\u001b[K     |██████████████████▉             | 6.5MB 492kB/s eta 0:00:10\r",
      "\u001b[K     |███████████████████             | 6.5MB 492kB/s eta 0:00:10\r",
      "\u001b[K     |███████████████████             | 6.6MB 492kB/s eta 0:00:10\r",
      "\u001b[K     |███████████████████             | 6.6MB 492kB/s eta 0:00:10\r",
      "\u001b[K     |███████████████████             | 6.6MB 492kB/s eta 0:00:10\r",
      "\u001b[K     |███████████████████             | 6.6MB 492kB/s eta 0:00:10"
     ]
    },
    {
     "name": "stdout",
     "output_type": "stream",
     "text": [
      "\r",
      "\u001b[K     |███████████████████             | 6.6MB 492kB/s eta 0:00:10\r",
      "\u001b[K     |███████████████████             | 6.6MB 492kB/s eta 0:00:10\r",
      "\u001b[K     |███████████████████▏            | 6.6MB 492kB/s eta 0:00:10\r",
      "\u001b[K     |███████████████████▏            | 6.6MB 492kB/s eta 0:00:10\r",
      "\u001b[K     |███████████████████▏            | 6.6MB 492kB/s eta 0:00:10\r",
      "\u001b[K     |███████████████████▏            | 6.6MB 492kB/s eta 0:00:09\r",
      "\u001b[K     |███████████████████▎            | 6.7MB 492kB/s eta 0:00:09\r",
      "\u001b[K     |███████████████████▎            | 6.7MB 492kB/s eta 0:00:09\r",
      "\u001b[K     |███████████████████▎            | 6.7MB 492kB/s eta 0:00:09\r",
      "\u001b[K     |███████████████████▎            | 6.7MB 492kB/s eta 0:00:09\r",
      "\u001b[K     |███████████████████▍            | 6.7MB 492kB/s eta 0:00:09\r",
      "\u001b[K     |███████████████████▍            | 6.7MB 492kB/s eta 0:00:09\r",
      "\u001b[K     |███████████████████▍            | 6.7MB 492kB/s eta 0:00:09\r",
      "\u001b[K     |███████████████████▍            | 6.7MB 492kB/s eta 0:00:09\r",
      "\u001b[K     |███████████████████▌            | 6.7MB 492kB/s eta 0:00:09\r",
      "\u001b[K     |███████████████████▌            | 6.7MB 492kB/s eta 0:00:09\r",
      "\u001b[K     |███████████████████▌            | 6.8MB 492kB/s eta 0:00:09\r",
      "\u001b[K     |███████████████████▋            | 6.8MB 492kB/s eta 0:00:09\r",
      "\u001b[K     |███████████████████▋            | 6.8MB 492kB/s eta 0:00:09\r",
      "\u001b[K     |███████████████████▋            | 6.8MB 492kB/s eta 0:00:09\r",
      "\u001b[K     |███████████████████▋            | 6.8MB 492kB/s eta 0:00:09\r",
      "\u001b[K     |███████████████████▊            | 6.8MB 492kB/s eta 0:00:09\r",
      "\u001b[K     |███████████████████▊            | 6.8MB 492kB/s eta 0:00:09\r",
      "\u001b[K     |███████████████████▊            | 6.8MB 492kB/s eta 0:00:09\r",
      "\u001b[K     |███████████████████▊            | 6.8MB 492kB/s eta 0:00:09\r",
      "\u001b[K     |███████████████████▉            | 6.9MB 492kB/s eta 0:00:09\r",
      "\u001b[K     |███████████████████▉            | 6.9MB 492kB/s eta 0:00:09\r",
      "\u001b[K     |███████████████████▉            | 6.9MB 492kB/s eta 0:00:09\r",
      "\u001b[K     |███████████████████▉            | 6.9MB 492kB/s eta 0:00:09\r",
      "\u001b[K     |████████████████████            | 6.9MB 492kB/s eta 0:00:09\r",
      "\u001b[K     |████████████████████            | 6.9MB 492kB/s eta 0:00:09\r",
      "\u001b[K     |████████████████████            | 6.9MB 492kB/s eta 0:00:09\r",
      "\u001b[K     |████████████████████            | 6.9MB 492kB/s eta 0:00:09\r",
      "\u001b[K     |████████████████████            | 6.9MB 492kB/s eta 0:00:09\r",
      "\u001b[K     |████████████████████            | 6.9MB 492kB/s eta 0:00:09\r",
      "\u001b[K     |████████████████████            | 7.0MB 492kB/s eta 0:00:09\r",
      "\u001b[K     |████████████████████▏           | 7.0MB 492kB/s eta 0:00:09\r",
      "\u001b[K     |████████████████████▏           | 7.0MB 492kB/s eta 0:00:09\r",
      "\u001b[K     |████████████████████▏           | 7.0MB 492kB/s eta 0:00:09\r",
      "\u001b[K     |████████████████████▏           | 7.0MB 492kB/s eta 0:00:09\r",
      "\u001b[K     |████████████████████▎           | 7.0MB 492kB/s eta 0:00:09\r",
      "\u001b[K     |████████████████████▎           | 7.0MB 492kB/s eta 0:00:09\r",
      "\u001b[K     |████████████████████▎           | 7.0MB 492kB/s eta 0:00:09"
     ]
    },
    {
     "name": "stdout",
     "output_type": "stream",
     "text": [
      "\r",
      "\u001b[K     |████████████████████▎           | 7.0MB 492kB/s eta 0:00:09\r",
      "\u001b[K     |████████████████████▍           | 7.0MB 492kB/s eta 0:00:09\r",
      "\u001b[K     |████████████████████▍           | 7.1MB 492kB/s eta 0:00:09\r",
      "\u001b[K     |████████████████████▍           | 7.1MB 492kB/s eta 0:00:09\r",
      "\u001b[K     |████████████████████▌           | 7.1MB 492kB/s eta 0:00:09\r",
      "\u001b[K     |████████████████████▌           | 7.1MB 492kB/s eta 0:00:09\r",
      "\u001b[K     |████████████████████▌           | 7.1MB 492kB/s eta 0:00:09\r",
      "\u001b[K     |████████████████████▌           | 7.1MB 492kB/s eta 0:00:09\r",
      "\u001b[K     |████████████████████▋           | 7.1MB 492kB/s eta 0:00:09\r",
      "\u001b[K     |████████████████████▋           | 7.1MB 492kB/s eta 0:00:09\r",
      "\u001b[K     |████████████████████▋           | 7.1MB 492kB/s eta 0:00:09\r",
      "\u001b[K     |████████████████████▋           | 7.1MB 492kB/s eta 0:00:08\r",
      "\u001b[K     |████████████████████▊           | 7.2MB 492kB/s eta 0:00:08\r",
      "\u001b[K     |████████████████████▊           | 7.2MB 492kB/s eta 0:00:08\r",
      "\u001b[K     |████████████████████▊           | 7.2MB 492kB/s eta 0:00:08\r",
      "\u001b[K     |████████████████████▊           | 7.2MB 492kB/s eta 0:00:08\r",
      "\u001b[K     |████████████████████▉           | 7.2MB 492kB/s eta 0:00:08\r",
      "\u001b[K     |████████████████████▉           | 7.2MB 492kB/s eta 0:00:08\r",
      "\u001b[K     |████████████████████▉           | 7.2MB 492kB/s eta 0:00:08\r",
      "\u001b[K     |█████████████████████           | 7.2MB 492kB/s eta 0:00:08\r",
      "\u001b[K     |█████████████████████           | 7.2MB 492kB/s eta 0:00:08\r",
      "\u001b[K     |█████████████████████           | 7.2MB 492kB/s eta 0:00:08\r",
      "\u001b[K     |█████████████████████           | 7.3MB 492kB/s eta 0:00:08\r",
      "\u001b[K     |█████████████████████           | 7.3MB 492kB/s eta 0:00:08\r",
      "\u001b[K     |█████████████████████           | 7.3MB 492kB/s eta 0:00:08\r",
      "\u001b[K     |█████████████████████           | 7.3MB 492kB/s eta 0:00:08\r",
      "\u001b[K     |█████████████████████           | 7.3MB 492kB/s eta 0:00:08\r",
      "\u001b[K     |█████████████████████▏          | 7.3MB 492kB/s eta 0:00:08\r",
      "\u001b[K     |█████████████████████▏          | 7.3MB 492kB/s eta 0:00:08\r",
      "\u001b[K     |█████████████████████▏          | 7.3MB 492kB/s eta 0:00:08\r",
      "\u001b[K     |█████████████████████▏          | 7.3MB 492kB/s eta 0:00:08\r",
      "\u001b[K     |█████████████████████▎          | 7.4MB 492kB/s eta 0:00:08\r",
      "\u001b[K     |█████████████████████▎          | 7.4MB 492kB/s eta 0:00:08\r",
      "\u001b[K     |█████████████████████▎          | 7.4MB 492kB/s eta 0:00:08\r",
      "\u001b[K     |█████████████████████▍          | 7.4MB 492kB/s eta 0:00:08\r",
      "\u001b[K     |█████████████████████▍          | 7.4MB 492kB/s eta 0:00:08\r",
      "\u001b[K     |█████████████████████▍          | 7.4MB 492kB/s eta 0:00:08\r",
      "\u001b[K     |█████████████████████▍          | 7.4MB 492kB/s eta 0:00:08\r",
      "\u001b[K     |█████████████████████▌          | 7.4MB 492kB/s eta 0:00:08\r",
      "\u001b[K     |█████████████████████▌          | 7.4MB 492kB/s eta 0:00:08\r",
      "\u001b[K     |█████████████████████▌          | 7.4MB 492kB/s eta 0:00:08\r",
      "\u001b[K     |█████████████████████▌          | 7.5MB 492kB/s eta 0:00:08\r",
      "\u001b[K     |█████████████████████▋          | 7.5MB 492kB/s eta 0:00:08\r",
      "\u001b[K     |█████████████████████▋          | 7.5MB 492kB/s eta 0:00:08\r",
      "\u001b[K     |█████████████████████▋          | 7.5MB 492kB/s eta 0:00:08\r",
      "\u001b[K     |█████████████████████▋          | 7.5MB 492kB/s eta 0:00:08\r",
      "\u001b[K     |█████████████████████▊          | 7.5MB 492kB/s eta 0:00:08\r",
      "\u001b[K     |█████████████████████▊          | 7.5MB 492kB/s eta 0:00:08\r",
      "\u001b[K     |█████████████████████▊          | 7.5MB 492kB/s eta 0:00:08\r",
      "\u001b[K     |█████████████████████▊          | 7.5MB 492kB/s eta 0:00:08\r",
      "\u001b[K     |█████████████████████▉          | 7.5MB 492kB/s eta 0:00:08\r",
      "\u001b[K     |█████████████████████▉          | 7.6MB 492kB/s eta 0:00:08\r",
      "\u001b[K     |█████████████████████▉          | 7.6MB 492kB/s eta 0:00:08\r",
      "\u001b[K     |██████████████████████          | 7.6MB 492kB/s eta 0:00:08\r",
      "\u001b[K     |██████████████████████          | 7.6MB 492kB/s eta 0:00:08\r",
      "\u001b[K     |██████████████████████          | 7.6MB 492kB/s eta 0:00:08\r",
      "\u001b[K     |██████████████████████          | 7.6MB 492kB/s eta 0:00:08\r",
      "\u001b[K     |██████████████████████          | 7.6MB 492kB/s eta 0:00:08\r",
      "\u001b[K     |██████████████████████          | 7.6MB 492kB/s eta 0:00:08\r",
      "\u001b[K     |██████████████████████          | 7.6MB 492kB/s eta 0:00:07\r",
      "\u001b[K     |██████████████████████          | 7.6MB 492kB/s eta 0:00:07\r",
      "\u001b[K     |██████████████████████▏         | 7.7MB 492kB/s eta 0:00:07\r",
      "\u001b[K     |██████████████████████▏         | 7.7MB 492kB/s eta 0:00:07\r",
      "\u001b[K     |██████████████████████▏         | 7.7MB 492kB/s eta 0:00:07\r",
      "\u001b[K     |██████████████████████▏         | 7.7MB 492kB/s eta 0:00:07\r",
      "\u001b[K     |██████████████████████▎         | 7.7MB 492kB/s eta 0:00:07\r",
      "\u001b[K     |██████████████████████▎         | 7.7MB 492kB/s eta 0:00:07\r",
      "\u001b[K     |██████████████████████▎         | 7.7MB 492kB/s eta 0:00:07\r",
      "\u001b[K     |██████████████████████▍         | 7.7MB 492kB/s eta 0:00:07\r",
      "\u001b[K     |██████████████████████▍         | 7.7MB 492kB/s eta 0:00:07\r",
      "\u001b[K     |██████████████████████▍         | 7.8MB 492kB/s eta 0:00:07\r",
      "\u001b[K     |██████████████████████▍         | 7.8MB 492kB/s eta 0:00:07\r",
      "\u001b[K     |██████████████████████▌         | 7.8MB 492kB/s eta 0:00:07\r",
      "\u001b[K     |██████████████████████▌         | 7.8MB 492kB/s eta 0:00:07\r",
      "\u001b[K     |██████████████████████▌         | 7.8MB 492kB/s eta 0:00:07\r",
      "\u001b[K     |██████████████████████▌         | 7.8MB 492kB/s eta 0:00:07\r",
      "\u001b[K     |██████████████████████▋         | 7.8MB 492kB/s eta 0:00:07\r",
      "\u001b[K     |██████████████████████▋         | 7.8MB 492kB/s eta 0:00:07\r",
      "\u001b[K     |██████████████████████▋         | 7.8MB 492kB/s eta 0:00:07\r",
      "\u001b[K     |██████████████████████▋         | 7.8MB 492kB/s eta 0:00:07\r",
      "\u001b[K     |██████████████████████▊         | 7.9MB 492kB/s eta 0:00:07\r",
      "\u001b[K     |██████████████████████▊         | 7.9MB 492kB/s eta 0:00:07\r",
      "\u001b[K     |██████████████████████▊         | 7.9MB 492kB/s eta 0:00:07\r",
      "\u001b[K     |██████████████████████▉         | 7.9MB 492kB/s eta 0:00:07\r",
      "\u001b[K     |██████████████████████▉         | 7.9MB 492kB/s eta 0:00:07\r",
      "\u001b[K     |██████████████████████▉         | 7.9MB 492kB/s eta 0:00:07\r",
      "\u001b[K     |██████████████████████▉         | 7.9MB 492kB/s eta 0:00:07\r",
      "\u001b[K     |███████████████████████         | 7.9MB 492kB/s eta 0:00:07\r",
      "\u001b[K     |███████████████████████         | 7.9MB 492kB/s eta 0:00:07\r",
      "\u001b[K     |███████████████████████         | 7.9MB 492kB/s eta 0:00:07\r",
      "\u001b[K     |███████████████████████         | 8.0MB 492kB/s eta 0:00:07\r",
      "\u001b[K     |███████████████████████         | 8.0MB 492kB/s eta 0:00:07\r",
      "\u001b[K     |███████████████████████         | 8.0MB 492kB/s eta 0:00:07\r",
      "\u001b[K     |███████████████████████         | 8.0MB 492kB/s eta 0:00:07\r",
      "\u001b[K     |███████████████████████         | 8.0MB 492kB/s eta 0:00:07\r",
      "\u001b[K     |███████████████████████▏        | 8.0MB 492kB/s eta 0:00:07\r",
      "\u001b[K     |███████████████████████▏        | 8.0MB 492kB/s eta 0:00:07\r",
      "\u001b[K     |███████████████████████▏        | 8.0MB 492kB/s eta 0:00:07\r",
      "\u001b[K     |███████████████████████▎        | 8.0MB 492kB/s eta 0:00:07\r",
      "\u001b[K     |███████████████████████▎        | 8.0MB 492kB/s eta 0:00:07\r",
      "\u001b[K     |███████████████████████▎        | 8.1MB 492kB/s eta 0:00:07\r",
      "\u001b[K     |███████████████████████▎        | 8.1MB 492kB/s eta 0:00:07\r",
      "\u001b[K     |███████████████████████▍        | 8.1MB 492kB/s eta 0:00:07\r",
      "\u001b[K     |███████████████████████▍        | 8.1MB 492kB/s eta 0:00:07\r",
      "\u001b[K     |███████████████████████▍        | 8.1MB 492kB/s eta 0:00:07\r",
      "\u001b[K     |███████████████████████▍        | 8.1MB 492kB/s eta 0:00:07\r",
      "\u001b[K     |███████████████████████▌        | 8.1MB 492kB/s eta 0:00:07\r",
      "\u001b[K     |███████████████████████▌        | 8.1MB 492kB/s eta 0:00:06\r",
      "\u001b[K     |███████████████████████▌        | 8.1MB 492kB/s eta 0:00:06\r",
      "\u001b[K     |███████████████████████▌        | 8.2MB 492kB/s eta 0:00:06\r",
      "\u001b[K     |███████████████████████▋        | 8.2MB 492kB/s eta 0:00:06\r",
      "\u001b[K     |███████████████████████▋        | 8.2MB 492kB/s eta 0:00:06\r",
      "\u001b[K     |███████████████████████▋        | 8.2MB 492kB/s eta 0:00:06\r",
      "\u001b[K     |███████████████████████▊        | 8.2MB 492kB/s eta 0:00:06\r",
      "\u001b[K     |███████████████████████▊        | 8.2MB 492kB/s eta 0:00:06\r",
      "\u001b[K     |███████████████████████▊        | 8.2MB 492kB/s eta 0:00:06\r",
      "\u001b[K     |███████████████████████▊        | 8.2MB 492kB/s eta 0:00:06\r",
      "\u001b[K     |███████████████████████▉        | 8.2MB 492kB/s eta 0:00:06\r",
      "\u001b[K     |███████████████████████▉        | 8.2MB 492kB/s eta 0:00:06\r",
      "\u001b[K     |███████████████████████▉        | 8.3MB 492kB/s eta 0:00:06\r",
      "\u001b[K     |███████████████████████▉        | 8.3MB 492kB/s eta 0:00:06\r",
      "\u001b[K     |████████████████████████        | 8.3MB 492kB/s eta 0:00:06\r",
      "\u001b[K     |████████████████████████        | 8.3MB 492kB/s eta 0:00:06\r",
      "\u001b[K     |████████████████████████        | 8.3MB 492kB/s eta 0:00:06\r",
      "\u001b[K     |████████████████████████        | 8.3MB 492kB/s eta 0:00:06\r",
      "\u001b[K     |████████████████████████        | 8.3MB 492kB/s eta 0:00:06\r",
      "\u001b[K     |████████████████████████        | 8.3MB 492kB/s eta 0:00:06\r",
      "\u001b[K     |████████████████████████        | 8.3MB 492kB/s eta 0:00:06\r",
      "\u001b[K     |████████████████████████▏       | 8.3MB 492kB/s eta 0:00:06\r",
      "\u001b[K     |████████████████████████▏       | 8.4MB 492kB/s eta 0:00:06\r",
      "\u001b[K     |████████████████████████▏       | 8.4MB 492kB/s eta 0:00:06\r",
      "\u001b[K     |████████████████████████▏       | 8.4MB 492kB/s eta 0:00:06\r",
      "\u001b[K     |████████████████████████▎       | 8.4MB 492kB/s eta 0:00:06\r",
      "\u001b[K     |████████████████████████▎       | 8.4MB 492kB/s eta 0:00:06\r",
      "\u001b[K     |████████████████████████▎       | 8.4MB 492kB/s eta 0:00:06\r",
      "\u001b[K     |████████████████████████▎       | 8.4MB 492kB/s eta 0:00:06\r",
      "\u001b[K     |████████████████████████▍       | 8.4MB 492kB/s eta 0:00:06\r",
      "\u001b[K     |████████████████████████▍       | 8.4MB 492kB/s eta 0:00:06\r",
      "\u001b[K     |████████████████████████▍       | 8.4MB 492kB/s eta 0:00:06\r",
      "\u001b[K     |████████████████████████▍       | 8.5MB 492kB/s eta 0:00:06\r",
      "\u001b[K     |████████████████████████▌       | 8.5MB 492kB/s eta 0:00:06\r",
      "\u001b[K     |████████████████████████▌       | 8.5MB 492kB/s eta 0:00:06\r",
      "\u001b[K     |████████████████████████▌       | 8.5MB 492kB/s eta 0:00:06"
     ]
    },
    {
     "name": "stdout",
     "output_type": "stream",
     "text": [
      "\r",
      "\u001b[K     |████████████████████████▋       | 8.5MB 492kB/s eta 0:00:06\r",
      "\u001b[K     |████████████████████████▋       | 8.5MB 492kB/s eta 0:00:06\r",
      "\u001b[K     |████████████████████████▋       | 8.5MB 492kB/s eta 0:00:06\r",
      "\u001b[K     |████████████████████████▋       | 8.5MB 492kB/s eta 0:00:06\r",
      "\u001b[K     |████████████████████████▊       | 8.5MB 492kB/s eta 0:00:06\r",
      "\u001b[K     |████████████████████████▊       | 8.6MB 492kB/s eta 0:00:06\r",
      "\u001b[K     |████████████████████████▊       | 8.6MB 492kB/s eta 0:00:06\r",
      "\u001b[K     |████████████████████████▊       | 8.6MB 492kB/s eta 0:00:06\r",
      "\u001b[K     |████████████████████████▉       | 8.6MB 492kB/s eta 0:00:06\r",
      "\u001b[K     |████████████████████████▉       | 8.6MB 492kB/s eta 0:00:06\r",
      "\u001b[K     |████████████████████████▉       | 8.6MB 492kB/s eta 0:00:06\r",
      "\u001b[K     |████████████████████████▉       | 8.6MB 492kB/s eta 0:00:06\r",
      "\u001b[K     |█████████████████████████       | 8.6MB 492kB/s eta 0:00:05\r",
      "\u001b[K     |█████████████████████████       | 8.6MB 492kB/s eta 0:00:05\r",
      "\u001b[K     |█████████████████████████       | 8.6MB 492kB/s eta 0:00:05\r",
      "\u001b[K     |█████████████████████████       | 8.7MB 492kB/s eta 0:00:05\r",
      "\u001b[K     |█████████████████████████       | 8.7MB 492kB/s eta 0:00:05\r",
      "\u001b[K     |█████████████████████████       | 8.7MB 492kB/s eta 0:00:05\r",
      "\u001b[K     |█████████████████████████       | 8.7MB 492kB/s eta 0:00:05\r",
      "\u001b[K     |█████████████████████████▏      | 8.7MB 492kB/s eta 0:00:05\r",
      "\u001b[K     |█████████████████████████▏      | 8.7MB 492kB/s eta 0:00:05\r",
      "\u001b[K     |█████████████████████████▏      | 8.7MB 492kB/s eta 0:00:05\r",
      "\u001b[K     |█████████████████████████▏      | 8.7MB 492kB/s eta 0:00:05\r",
      "\u001b[K     |█████████████████████████▎      | 8.7MB 492kB/s eta 0:00:05\r",
      "\u001b[K     |█████████████████████████▎      | 8.7MB 492kB/s eta 0:00:05\r",
      "\u001b[K     |█████████████████████████▎      | 8.8MB 492kB/s eta 0:00:05\r",
      "\u001b[K     |█████████████████████████▎      | 8.8MB 492kB/s eta 0:00:05\r",
      "\u001b[K     |█████████████████████████▍      | 8.8MB 492kB/s eta 0:00:05\r",
      "\u001b[K     |█████████████████████████▍      | 8.8MB 492kB/s eta 0:00:05\r",
      "\u001b[K     |█████████████████████████▍      | 8.8MB 492kB/s eta 0:00:05\r",
      "\u001b[K     |█████████████████████████▌      | 8.8MB 492kB/s eta 0:00:05\r",
      "\u001b[K     |█████████████████████████▌      | 8.8MB 492kB/s eta 0:00:05\r",
      "\u001b[K     |█████████████████████████▌      | 8.8MB 492kB/s eta 0:00:05\r",
      "\u001b[K     |█████████████████████████▌      | 8.8MB 492kB/s eta 0:00:05\r",
      "\u001b[K     |█████████████████████████▋      | 8.8MB 492kB/s eta 0:00:05\r",
      "\u001b[K     |█████████████████████████▋      | 8.9MB 492kB/s eta 0:00:05\r",
      "\u001b[K     |█████████████████████████▋      | 8.9MB 492kB/s eta 0:00:05\r",
      "\u001b[K     |█████████████████████████▋      | 8.9MB 492kB/s eta 0:00:05\r",
      "\u001b[K     |█████████████████████████▊      | 8.9MB 492kB/s eta 0:00:05\r",
      "\u001b[K     |█████████████████████████▊      | 8.9MB 492kB/s eta 0:00:05\r",
      "\u001b[K     |█████████████████████████▊      | 8.9MB 492kB/s eta 0:00:05\r",
      "\u001b[K     |█████████████████████████▊      | 8.9MB 492kB/s eta 0:00:05\r",
      "\u001b[K     |█████████████████████████▉      | 8.9MB 492kB/s eta 0:00:05\r",
      "\u001b[K     |█████████████████████████▉      | 8.9MB 492kB/s eta 0:00:05\r",
      "\u001b[K     |█████████████████████████▉      | 8.9MB 492kB/s eta 0:00:05\r",
      "\u001b[K     |██████████████████████████      | 9.0MB 492kB/s eta 0:00:05\r",
      "\u001b[K     |██████████████████████████      | 9.0MB 492kB/s eta 0:00:05\r",
      "\u001b[K     |██████████████████████████      | 9.0MB 492kB/s eta 0:00:05\r",
      "\u001b[K     |██████████████████████████      | 9.0MB 492kB/s eta 0:00:05\r",
      "\u001b[K     |██████████████████████████      | 9.0MB 492kB/s eta 0:00:05\r",
      "\u001b[K     |██████████████████████████      | 9.0MB 492kB/s eta 0:00:05\r",
      "\u001b[K     |██████████████████████████      | 9.0MB 492kB/s eta 0:00:05\r",
      "\u001b[K     |██████████████████████████      | 9.0MB 492kB/s eta 0:00:05\r",
      "\u001b[K     |██████████████████████████▏     | 9.0MB 492kB/s eta 0:00:05\r",
      "\u001b[K     |██████████████████████████▏     | 9.1MB 492kB/s eta 0:00:05\r",
      "\u001b[K     |██████████████████████████▏     | 9.1MB 492kB/s eta 0:00:05\r",
      "\u001b[K     |██████████████████████████▏     | 9.1MB 492kB/s eta 0:00:05\r",
      "\u001b[K     |██████████████████████████▎     | 9.1MB 492kB/s eta 0:00:05\r",
      "\u001b[K     |██████████████████████████▎     | 9.1MB 492kB/s eta 0:00:05\r",
      "\u001b[K     |██████████████████████████▎     | 9.1MB 492kB/s eta 0:00:05\r",
      "\u001b[K     |██████████████████████████▍     | 9.1MB 492kB/s eta 0:00:04\r",
      "\u001b[K     |██████████████████████████▍     | 9.1MB 492kB/s eta 0:00:04\r",
      "\u001b[K     |██████████████████████████▍     | 9.1MB 492kB/s eta 0:00:04\r",
      "\u001b[K     |██████████████████████████▍     | 9.1MB 492kB/s eta 0:00:04\r",
      "\u001b[K     |██████████████████████████▌     | 9.2MB 492kB/s eta 0:00:04\r",
      "\u001b[K     |██████████████████████████▌     | 9.2MB 492kB/s eta 0:00:04\r",
      "\u001b[K     |██████████████████████████▌     | 9.2MB 492kB/s eta 0:00:04\r",
      "\u001b[K     |██████████████████████████▌     | 9.2MB 492kB/s eta 0:00:04\r",
      "\u001b[K     |██████████████████████████▋     | 9.2MB 492kB/s eta 0:00:04\r",
      "\u001b[K     |██████████████████████████▋     | 9.2MB 492kB/s eta 0:00:04\r",
      "\u001b[K     |██████████████████████████▋     | 9.2MB 492kB/s eta 0:00:04\r",
      "\u001b[K     |██████████████████████████▋     | 9.2MB 492kB/s eta 0:00:04\r",
      "\u001b[K     |██████████████████████████▊     | 9.2MB 492kB/s eta 0:00:04\r",
      "\u001b[K     |██████████████████████████▊     | 9.2MB 492kB/s eta 0:00:04\r",
      "\u001b[K     |██████████████████████████▊     | 9.3MB 492kB/s eta 0:00:04\r",
      "\u001b[K     |██████████████████████████▉     | 9.3MB 492kB/s eta 0:00:04\r",
      "\u001b[K     |██████████████████████████▉     | 9.3MB 492kB/s eta 0:00:04\r",
      "\u001b[K     |██████████████████████████▉     | 9.3MB 492kB/s eta 0:00:04\r",
      "\u001b[K     |██████████████████████████▉     | 9.3MB 492kB/s eta 0:00:04\r",
      "\u001b[K     |███████████████████████████     | 9.3MB 492kB/s eta 0:00:04\r",
      "\u001b[K     |███████████████████████████     | 9.3MB 492kB/s eta 0:00:04\r",
      "\u001b[K     |███████████████████████████     | 9.3MB 492kB/s eta 0:00:04\r",
      "\u001b[K     |███████████████████████████     | 9.3MB 492kB/s eta 0:00:04\r",
      "\u001b[K     |███████████████████████████     | 9.3MB 492kB/s eta 0:00:04\r",
      "\u001b[K     |███████████████████████████     | 9.4MB 492kB/s eta 0:00:04\r",
      "\u001b[K     |███████████████████████████     | 9.4MB 492kB/s eta 0:00:04\r",
      "\u001b[K     |███████████████████████████     | 9.4MB 492kB/s eta 0:00:04\r",
      "\u001b[K     |███████████████████████████▏    | 9.4MB 492kB/s eta 0:00:04\r",
      "\u001b[K     |███████████████████████████▏    | 9.4MB 492kB/s eta 0:00:04\r",
      "\u001b[K     |███████████████████████████▏    | 9.4MB 492kB/s eta 0:00:04\r",
      "\u001b[K     |███████████████████████████▏    | 9.4MB 492kB/s eta 0:00:04\r",
      "\u001b[K     |███████████████████████████▎    | 9.4MB 492kB/s eta 0:00:04\r",
      "\u001b[K     |███████████████████████████▎    | 9.4MB 492kB/s eta 0:00:04\r",
      "\u001b[K     |███████████████████████████▎    | 9.5MB 492kB/s eta 0:00:04\r",
      "\u001b[K     |███████████████████████████▍    | 9.5MB 492kB/s eta 0:00:04\r",
      "\u001b[K     |███████████████████████████▍    | 9.5MB 492kB/s eta 0:00:04\r",
      "\u001b[K     |███████████████████████████▍    | 9.5MB 492kB/s eta 0:00:04\r",
      "\u001b[K     |███████████████████████████▍    | 9.5MB 492kB/s eta 0:00:04\r",
      "\u001b[K     |███████████████████████████▌    | 9.5MB 492kB/s eta 0:00:04\r",
      "\u001b[K     |███████████████████████████▌    | 9.5MB 492kB/s eta 0:00:04\r",
      "\u001b[K     |███████████████████████████▌    | 9.5MB 492kB/s eta 0:00:04\r",
      "\u001b[K     |███████████████████████████▌    | 9.5MB 492kB/s eta 0:00:04\r",
      "\u001b[K     |███████████████████████████▋    | 9.5MB 492kB/s eta 0:00:04\r",
      "\u001b[K     |███████████████████████████▋    | 9.6MB 492kB/s eta 0:00:04\r",
      "\u001b[K     |███████████████████████████▋    | 9.6MB 492kB/s eta 0:00:04\r",
      "\u001b[K     |███████████████████████████▋    | 9.6MB 492kB/s eta 0:00:04\r",
      "\u001b[K     |███████████████████████████▊    | 9.6MB 492kB/s eta 0:00:04\r",
      "\u001b[K     |███████████████████████████▊    | 9.6MB 492kB/s eta 0:00:04\r",
      "\u001b[K     |███████████████████████████▊    | 9.6MB 492kB/s eta 0:00:03\r",
      "\u001b[K     |███████████████████████████▉    | 9.6MB 492kB/s eta 0:00:03\r",
      "\u001b[K     |███████████████████████████▉    | 9.6MB 492kB/s eta 0:00:03\r",
      "\u001b[K     |███████████████████████████▉    | 9.6MB 492kB/s eta 0:00:03\r",
      "\u001b[K     |███████████████████████████▉    | 9.6MB 492kB/s eta 0:00:03\r",
      "\u001b[K     |████████████████████████████    | 9.7MB 492kB/s eta 0:00:03\r",
      "\u001b[K     |████████████████████████████    | 9.7MB 492kB/s eta 0:00:03\r",
      "\u001b[K     |████████████████████████████    | 9.7MB 492kB/s eta 0:00:03\r",
      "\u001b[K     |████████████████████████████    | 9.7MB 492kB/s eta 0:00:03\r",
      "\u001b[K     |████████████████████████████    | 9.7MB 492kB/s eta 0:00:03\r",
      "\u001b[K     |████████████████████████████    | 9.7MB 492kB/s eta 0:00:03\r",
      "\u001b[K     |████████████████████████████    | 9.7MB 492kB/s eta 0:00:03\r",
      "\u001b[K     |████████████████████████████    | 9.7MB 492kB/s eta 0:00:03"
     ]
    },
    {
     "name": "stdout",
     "output_type": "stream",
     "text": [
      "\r",
      "\u001b[K     |████████████████████████████▏   | 9.7MB 492kB/s eta 0:00:03\r",
      "\u001b[K     |████████████████████████████▏   | 9.7MB 492kB/s eta 0:00:03\r",
      "\u001b[K     |████████████████████████████▏   | 9.8MB 492kB/s eta 0:00:03\r",
      "\u001b[K     |████████████████████████████▎   | 9.8MB 492kB/s eta 0:00:03\r",
      "\u001b[K     |████████████████████████████▎   | 9.8MB 492kB/s eta 0:00:03\r",
      "\u001b[K     |████████████████████████████▎   | 9.8MB 492kB/s eta 0:00:03\r",
      "\u001b[K     |████████████████████████████▎   | 9.8MB 492kB/s eta 0:00:03\r",
      "\u001b[K     |████████████████████████████▍   | 9.8MB 492kB/s eta 0:00:03\r",
      "\u001b[K     |████████████████████████████▍   | 9.8MB 492kB/s eta 0:00:03\r",
      "\u001b[K     |████████████████████████████▍   | 9.8MB 492kB/s eta 0:00:03\r",
      "\u001b[K     |████████████████████████████▍   | 9.8MB 492kB/s eta 0:00:03\r",
      "\u001b[K     |████████████████████████████▌   | 9.9MB 492kB/s eta 0:00:03\r",
      "\u001b[K     |████████████████████████████▌   | 9.9MB 492kB/s eta 0:00:03\r",
      "\u001b[K     |████████████████████████████▌   | 9.9MB 492kB/s eta 0:00:03\r",
      "\u001b[K     |████████████████████████████▌   | 9.9MB 492kB/s eta 0:00:03\r",
      "\u001b[K     |████████████████████████████▋   | 9.9MB 492kB/s eta 0:00:03\r",
      "\u001b[K     |████████████████████████████▋   | 9.9MB 492kB/s eta 0:00:03\r",
      "\u001b[K     |████████████████████████████▋   | 9.9MB 492kB/s eta 0:00:03\r",
      "\u001b[K     |████████████████████████████▊   | 9.9MB 492kB/s eta 0:00:03\r",
      "\u001b[K     |████████████████████████████▊   | 9.9MB 492kB/s eta 0:00:03\r",
      "\u001b[K     |████████████████████████████▊   | 9.9MB 492kB/s eta 0:00:03\r",
      "\u001b[K     |████████████████████████████▊   | 10.0MB 492kB/s eta 0:00:03\r",
      "\u001b[K     |████████████████████████████▉   | 10.0MB 492kB/s eta 0:00:03\r",
      "\u001b[K     |████████████████████████████▉   | 10.0MB 492kB/s eta 0:00:03\r",
      "\u001b[K     |████████████████████████████▉   | 10.0MB 492kB/s eta 0:00:03\r",
      "\u001b[K     |████████████████████████████▉   | 10.0MB 492kB/s eta 0:00:03\r",
      "\u001b[K     |█████████████████████████████   | 10.0MB 492kB/s eta 0:00:03\r",
      "\u001b[K     |█████████████████████████████   | 10.0MB 492kB/s eta 0:00:03\r",
      "\u001b[K     |█████████████████████████████   | 10.0MB 492kB/s eta 0:00:03\r",
      "\u001b[K     |█████████████████████████████   | 10.0MB 492kB/s eta 0:00:03\r",
      "\u001b[K     |█████████████████████████████   | 10.0MB 492kB/s eta 0:00:03\r",
      "\u001b[K     |█████████████████████████████   | 10.1MB 492kB/s eta 0:00:03\r",
      "\u001b[K     |█████████████████████████████   | 10.1MB 492kB/s eta 0:00:03\r",
      "\u001b[K     |█████████████████████████████▏  | 10.1MB 492kB/s eta 0:00:03\r",
      "\u001b[K     |█████████████████████████████▏  | 10.1MB 492kB/s eta 0:00:03\r",
      "\u001b[K     |█████████████████████████████▏  | 10.1MB 492kB/s eta 0:00:02\r",
      "\u001b[K     |█████████████████████████████▏  | 10.1MB 492kB/s eta 0:00:02\r",
      "\u001b[K     |█████████████████████████████▎  | 10.1MB 492kB/s eta 0:00:02\r",
      "\u001b[K     |█████████████████████████████▎  | 10.1MB 492kB/s eta 0:00:02\r",
      "\u001b[K     |█████████████████████████████▎  | 10.1MB 492kB/s eta 0:00:02\r",
      "\u001b[K     |█████████████████████████████▎  | 10.1MB 492kB/s eta 0:00:02\r",
      "\u001b[K     |█████████████████████████████▍  | 10.2MB 492kB/s eta 0:00:02\r",
      "\u001b[K     |█████████████████████████████▍  | 10.2MB 492kB/s eta 0:00:02\r",
      "\u001b[K     |█████████████████████████████▍  | 10.2MB 492kB/s eta 0:00:02\r",
      "\u001b[K     |█████████████████████████████▍  | 10.2MB 492kB/s eta 0:00:02\r",
      "\u001b[K     |█████████████████████████████▌  | 10.2MB 492kB/s eta 0:00:02\r",
      "\u001b[K     |█████████████████████████████▌  | 10.2MB 492kB/s eta 0:00:02\r",
      "\u001b[K     |█████████████████████████████▌  | 10.2MB 492kB/s eta 0:00:02\r",
      "\u001b[K     |█████████████████████████████▋  | 10.2MB 492kB/s eta 0:00:02\r",
      "\u001b[K     |█████████████████████████████▋  | 10.2MB 492kB/s eta 0:00:02\r",
      "\u001b[K     |█████████████████████████████▋  | 10.3MB 492kB/s eta 0:00:02\r",
      "\u001b[K     |█████████████████████████████▋  | 10.3MB 492kB/s eta 0:00:02\r",
      "\u001b[K     |█████████████████████████████▊  | 10.3MB 492kB/s eta 0:00:02\r",
      "\u001b[K     |█████████████████████████████▊  | 10.3MB 492kB/s eta 0:00:02\r",
      "\u001b[K     |█████████████████████████████▊  | 10.3MB 492kB/s eta 0:00:02\r",
      "\u001b[K     |█████████████████████████████▊  | 10.3MB 492kB/s eta 0:00:02\r",
      "\u001b[K     |█████████████████████████████▉  | 10.3MB 492kB/s eta 0:00:02\r",
      "\u001b[K     |█████████████████████████████▉  | 10.3MB 492kB/s eta 0:00:02\r",
      "\u001b[K     |█████████████████████████████▉  | 10.3MB 492kB/s eta 0:00:02\r",
      "\u001b[K     |█████████████████████████████▉  | 10.3MB 492kB/s eta 0:00:02\r",
      "\u001b[K     |██████████████████████████████  | 10.4MB 492kB/s eta 0:00:02\r",
      "\u001b[K     |██████████████████████████████  | 10.4MB 492kB/s eta 0:00:02\r",
      "\u001b[K     |██████████████████████████████  | 10.4MB 492kB/s eta 0:00:02\r",
      "\u001b[K     |██████████████████████████████  | 10.4MB 492kB/s eta 0:00:02\r",
      "\u001b[K     |██████████████████████████████  | 10.4MB 492kB/s eta 0:00:02\r",
      "\u001b[K     |██████████████████████████████  | 10.4MB 492kB/s eta 0:00:02\r",
      "\u001b[K     |██████████████████████████████  | 10.4MB 492kB/s eta 0:00:02\r",
      "\u001b[K     |██████████████████████████████▏ | 10.4MB 492kB/s eta 0:00:02\r",
      "\u001b[K     |██████████████████████████████▏ | 10.4MB 492kB/s eta 0:00:02\r",
      "\u001b[K     |██████████████████████████████▏ | 10.4MB 492kB/s eta 0:00:02\r",
      "\u001b[K     |██████████████████████████████▏ | 10.5MB 492kB/s eta 0:00:02\r",
      "\u001b[K     |██████████████████████████████▎ | 10.5MB 492kB/s eta 0:00:02\r",
      "\u001b[K     |██████████████████████████████▎ | 10.5MB 492kB/s eta 0:00:02\r",
      "\u001b[K     |██████████████████████████████▎ | 10.5MB 492kB/s eta 0:00:02\r",
      "\u001b[K     |██████████████████████████████▎ | 10.5MB 492kB/s eta 0:00:02\r",
      "\u001b[K     |██████████████████████████████▍ | 10.5MB 492kB/s eta 0:00:02\r",
      "\u001b[K     |██████████████████████████████▍ | 10.5MB 492kB/s eta 0:00:02\r",
      "\u001b[K     |██████████████████████████████▍ | 10.5MB 492kB/s eta 0:00:02\r",
      "\u001b[K     |██████████████████████████████▌ | 10.5MB 492kB/s eta 0:00:02\r",
      "\u001b[K     |██████████████████████████████▌ | 10.5MB 492kB/s eta 0:00:02\r",
      "\u001b[K     |██████████████████████████████▌ | 10.6MB 492kB/s eta 0:00:02\r",
      "\u001b[K     |██████████████████████████████▌ | 10.6MB 492kB/s eta 0:00:02\r",
      "\u001b[K     |██████████████████████████████▋ | 10.6MB 492kB/s eta 0:00:02\r",
      "\u001b[K     |██████████████████████████████▋ | 10.6MB 492kB/s eta 0:00:01\r",
      "\u001b[K     |██████████████████████████████▋ | 10.6MB 492kB/s eta 0:00:01\r",
      "\u001b[K     |██████████████████████████████▋ | 10.6MB 492kB/s eta 0:00:01\r",
      "\u001b[K     |██████████████████████████████▊ | 10.6MB 492kB/s eta 0:00:01\r",
      "\u001b[K     |██████████████████████████████▊ | 10.6MB 492kB/s eta 0:00:01\r",
      "\u001b[K     |██████████████████████████████▊ | 10.6MB 492kB/s eta 0:00:01\r",
      "\u001b[K     |██████████████████████████████▊ | 10.6MB 492kB/s eta 0:00:01\r",
      "\u001b[K     |██████████████████████████████▉ | 10.7MB 492kB/s eta 0:00:01\r",
      "\u001b[K     |██████████████████████████████▉ | 10.7MB 492kB/s eta 0:00:01\r",
      "\u001b[K     |██████████████████████████████▉ | 10.7MB 492kB/s eta 0:00:01\r",
      "\u001b[K     |███████████████████████████████ | 10.7MB 492kB/s eta 0:00:01\r",
      "\u001b[K     |███████████████████████████████ | 10.7MB 492kB/s eta 0:00:01\r",
      "\u001b[K     |███████████████████████████████ | 10.7MB 492kB/s eta 0:00:01\r",
      "\u001b[K     |███████████████████████████████ | 10.7MB 492kB/s eta 0:00:01\r",
      "\u001b[K     |███████████████████████████████ | 10.7MB 492kB/s eta 0:00:01\r",
      "\u001b[K     |███████████████████████████████ | 10.7MB 492kB/s eta 0:00:01\r",
      "\u001b[K     |███████████████████████████████ | 10.8MB 492kB/s eta 0:00:01\r",
      "\u001b[K     |███████████████████████████████ | 10.8MB 492kB/s eta 0:00:01\r",
      "\u001b[K     |███████████████████████████████▏| 10.8MB 492kB/s eta 0:00:01\r",
      "\u001b[K     |███████████████████████████████▏| 10.8MB 492kB/s eta 0:00:01\r",
      "\u001b[K     |███████████████████████████████▏| 10.8MB 492kB/s eta 0:00:01\r",
      "\u001b[K     |███████████████████████████████▏| 10.8MB 492kB/s eta 0:00:01\r",
      "\u001b[K     |███████████████████████████████▎| 10.8MB 492kB/s eta 0:00:01\r",
      "\u001b[K     |███████████████████████████████▎| 10.8MB 492kB/s eta 0:00:01\r",
      "\u001b[K     |███████████████████████████████▎| 10.8MB 492kB/s eta 0:00:01\r",
      "\u001b[K     |███████████████████████████████▍| 10.8MB 492kB/s eta 0:00:01\r",
      "\u001b[K     |███████████████████████████████▍| 10.9MB 492kB/s eta 0:00:01\r",
      "\u001b[K     |███████████████████████████████▍| 10.9MB 492kB/s eta 0:00:01\r",
      "\u001b[K     |███████████████████████████████▍| 10.9MB 492kB/s eta 0:00:01\r",
      "\u001b[K     |███████████████████████████████▌| 10.9MB 492kB/s eta 0:00:01\r",
      "\u001b[K     |███████████████████████████████▌| 10.9MB 492kB/s eta 0:00:01\r",
      "\u001b[K     |███████████████████████████████▌| 10.9MB 492kB/s eta 0:00:01\r",
      "\u001b[K     |███████████████████████████████▌| 10.9MB 492kB/s eta 0:00:01\r",
      "\u001b[K     |███████████████████████████████▋| 10.9MB 492kB/s eta 0:00:01\r",
      "\u001b[K     |███████████████████████████████▋| 10.9MB 492kB/s eta 0:00:01\r",
      "\u001b[K     |███████████████████████████████▋| 10.9MB 492kB/s eta 0:00:01\r",
      "\u001b[K     |███████████████████████████████▋| 11.0MB 492kB/s eta 0:00:01\r",
      "\u001b[K     |███████████████████████████████▊| 11.0MB 492kB/s eta 0:00:01\r",
      "\u001b[K     |███████████████████████████████▊| 11.0MB 492kB/s eta 0:00:01\r",
      "\u001b[K     |███████████████████████████████▊| 11.0MB 492kB/s eta 0:00:01\r",
      "\u001b[K     |███████████████████████████████▉| 11.0MB 492kB/s eta 0:00:01\r",
      "\u001b[K     |███████████████████████████████▉| 11.0MB 492kB/s eta 0:00:01\r",
      "\u001b[K     |███████████████████████████████▉| 11.0MB 492kB/s eta 0:00:01\r",
      "\u001b[K     |███████████████████████████████▉| 11.0MB 492kB/s eta 0:00:01\r",
      "\u001b[K     |████████████████████████████████| 11.0MB 492kB/s eta 0:00:01\r",
      "\u001b[K     |████████████████████████████████| 11.0MB 492kB/s eta 0:00:01\r",
      "\u001b[K     |████████████████████████████████| 11.1MB 492kB/s eta 0:00:01\r",
      "\u001b[K     |████████████████████████████████| 11.1MB 492kB/s eta 0:00:01\r",
      "\u001b[K     |████████████████████████████████| 11.1MB 492kB/s \r\n"
     ]
    },
    {
     "name": "stdout",
     "output_type": "stream",
     "text": [
      "\u001b[?25hBuilding wheels for collected packages: en-core-web-sm\r\n"
     ]
    },
    {
     "name": "stdout",
     "output_type": "stream",
     "text": [
      "  Building wheel for en-core-web-sm (setup.py) ... \u001b[?25l-"
     ]
    },
    {
     "name": "stdout",
     "output_type": "stream",
     "text": [
      "\b \b\\"
     ]
    },
    {
     "name": "stdout",
     "output_type": "stream",
     "text": [
      "\b \b|"
     ]
    },
    {
     "name": "stdout",
     "output_type": "stream",
     "text": [
      "\b \b/\b \bdone\r\n"
     ]
    },
    {
     "name": "stdout",
     "output_type": "stream",
     "text": [
      "\u001b[?25h  Created wheel for en-core-web-sm: filename=en_core_web_sm-2.1.0-cp36-none-any.whl size=11074435 sha256=fd5c9c9a63ae8fd9bf53357b3c2e4a15db011443cba5e045b32d2166ea58e5f0\r\n",
      "  Stored in directory: /tmp/pip-ephem-wheel-cache-cypbjlux/wheels/39/ea/3b/507f7df78be8631a7a3d7090962194cf55bc1158572c0be77f\r\n"
     ]
    },
    {
     "name": "stdout",
     "output_type": "stream",
     "text": [
      "Successfully built en-core-web-sm\r\n",
      "Installing collected packages: en-core-web-sm\r\n"
     ]
    },
    {
     "name": "stdout",
     "output_type": "stream",
     "text": [
      "Successfully installed en-core-web-sm-2.1.0\r\n"
     ]
    },
    {
     "name": "stdout",
     "output_type": "stream",
     "text": [
      "\u001b[33mWARNING: You are using pip version 19.3.1; however, version 20.0.2 is available.\r\n",
      "You should consider upgrading via the 'pip install --upgrade pip' command.\u001b[0m\r\n"
     ]
    },
    {
     "name": "stdout",
     "output_type": "stream",
     "text": [
      "\u001b[38;5;2m✔ Download and installation successful\u001b[0m\r\n",
      "You can now load the model via spacy.load('en_core_web_sm')\r\n"
     ]
    }
   ],
   "source": [
    "# Download the spaCy english model\n",
    "# !python -m spacy download en_core_web_sm"
   ]
  },
  {
   "cell_type": "code",
   "execution_count": 4,
   "metadata": {
    "lines_to_next_cell": 2
   },
   "outputs": [
    {
     "name": "stdout",
     "output_type": "stream",
     "text": [
      "WARNING:tensorflow:From C:\\Users\\akhil\\OneDrive - Northeastern University\\Work Space\\Academics\\MLOps\\mlops_labs\\data_labelling_lab\\data_labeling_env\\lib\\site-packages\\keras\\src\\losses.py:2976: The name tf.losses.sparse_softmax_cross_entropy is deprecated. Please use tf.compat.v1.losses.sparse_softmax_cross_entropy instead.\n",
      "\n"
     ]
    }
   ],
   "source": [
    "from utils import load_spam_dataset\n",
    "\n",
    "df_train, df_test = load_spam_dataset()\n",
    "\n",
    "# We pull out the label vectors for ease of use later\n",
    "Y_test = df_test.label.values"
   ]
  },
  {
   "cell_type": "markdown",
   "metadata": {},
   "source": [
    "The class distribution varies slightly between `SPAM` and `HAM`, but they're approximately class-balanced."
   ]
  },
  {
   "cell_type": "code",
   "execution_count": 5,
   "metadata": {},
   "outputs": [],
   "source": [
    "# For clarity, we define constants to represent the class labels for spam, ham, and abstaining.\n",
    "ABSTAIN = -1\n",
    "HAM = 0\n",
    "SPAM = 1"
   ]
  },
  {
   "cell_type": "markdown",
   "metadata": {},
   "source": [
    "## 2. Writing Labeling Functions (LFs)"
   ]
  },
  {
   "cell_type": "markdown",
   "metadata": {},
   "source": [
    "### A gentle introduction to LFs"
   ]
  },
  {
   "cell_type": "markdown",
   "metadata": {},
   "source": [
    "**Labeling functions (LFs) help users encode domain knowledge and other supervision sources programmatically.**\n",
    "\n",
    "LFs are heuristics that take as input a data point and either assign a label to it (in this case, `HAM` or `SPAM`) or abstain (don't assign any label). Labeling functions can be *noisy*: they don't have perfect accuracy and don't have to label every data point.\n",
    "Moreover, different labeling functions can overlap (label the same data point) and even conflict (assign different labels to the same data point). This is expected, and we demonstrate how we deal with this later.\n",
    "\n",
    "Because their only requirement is that they map a data point a label (or abstain), they can wrap a wide variety of forms of supervision. Examples include, but are not limited to:\n",
    "* *Keyword searches*: looking for specific words in a sentence\n",
    "* *Pattern matching*: looking for specific syntactical patterns\n",
    "* *Third-party models*: using an pre-trained model (usually a model for a different task than the one at hand)\n",
    "* *Distant supervision*: using external knowledge base\n",
    "* *Crowdworker labels*: treating each crowdworker as a black-box function that assigns labels to subsets of the data"
   ]
  },
  {
   "cell_type": "markdown",
   "metadata": {},
   "source": [
    "### Recommended practice for LF development"
   ]
  },
  {
   "cell_type": "markdown",
   "metadata": {},
   "source": [
    "Typical LF development cycles include multiple iterations of ideation, refining, evaluation, and debugging.\n",
    "A typical cycle consists of the following steps:\n",
    "\n",
    "1. Look at examples to generate ideas for LFs\n",
    "1. Write an initial version of an LF\n",
    "1. Spot check its performance by looking at its output on data points in the training set (or development set if available)\n",
    "1. Refine and debug to improve coverage or accuracy as necessary\n",
    "\n",
    "Our goal for LF development is to create a high quality set of training labels for our unlabeled dataset,\n",
    "not to label everything or directly create a model for inference using the LFs.\n",
    "The training labels are used to train a separate discriminative model (in this case, one which just uses the comment text) in order to generalize to new, unseen data points.\n",
    "Using this model, we can make predictions for data points that our LFs don't cover.\n",
    "\n",
    "We'll walk through the development of two LFs using basic analysis tools in Snorkel, then provide a full set of LFs that we developed for this tutorial."
   ]
  },
  {
   "cell_type": "markdown",
   "metadata": {},
   "source": [
    "### a) Exploring the training set for initial ideas"
   ]
  },
  {
   "cell_type": "markdown",
   "metadata": {},
   "source": [
    "We'll start by looking at 20 random data points from the `train` set to generate some ideas for LFs."
   ]
  },
  {
   "cell_type": "code",
   "execution_count": 6,
   "metadata": {},
   "outputs": [
    {
     "data": {
      "text/html": [
       "<div>\n",
       "<style scoped>\n",
       "    .dataframe tbody tr th:only-of-type {\n",
       "        vertical-align: middle;\n",
       "    }\n",
       "\n",
       "    .dataframe tbody tr th {\n",
       "        vertical-align: top;\n",
       "    }\n",
       "\n",
       "    .dataframe thead th {\n",
       "        text-align: right;\n",
       "    }\n",
       "</style>\n",
       "<table border=\"1\" class=\"dataframe\">\n",
       "  <thead>\n",
       "    <tr style=\"text-align: right;\">\n",
       "      <th></th>\n",
       "      <th>author</th>\n",
       "      <th>date</th>\n",
       "      <th>text</th>\n",
       "      <th>label</th>\n",
       "      <th>video</th>\n",
       "    </tr>\n",
       "  </thead>\n",
       "  <tbody>\n",
       "    <tr>\n",
       "      <th>0</th>\n",
       "      <td>Alessandro leite</td>\n",
       "      <td>2014-11-05T22:21:36</td>\n",
       "      <td>pls http://www10.vakinha.com.br/VaquinhaE.aspx...</td>\n",
       "      <td>-1.0</td>\n",
       "      <td>1</td>\n",
       "    </tr>\n",
       "    <tr>\n",
       "      <th>1</th>\n",
       "      <td>Salim Tayara</td>\n",
       "      <td>2014-11-02T14:33:30</td>\n",
       "      <td>if your like drones, plz subscribe to Kamal Ta...</td>\n",
       "      <td>-1.0</td>\n",
       "      <td>1</td>\n",
       "    </tr>\n",
       "    <tr>\n",
       "      <th>2</th>\n",
       "      <td>Phuc Ly</td>\n",
       "      <td>2014-01-20T15:27:47</td>\n",
       "      <td>go here to check the views :3﻿</td>\n",
       "      <td>-1.0</td>\n",
       "      <td>1</td>\n",
       "    </tr>\n",
       "    <tr>\n",
       "      <th>3</th>\n",
       "      <td>DropShotSk8r</td>\n",
       "      <td>2014-01-19T04:27:18</td>\n",
       "      <td>Came here to check the views, goodbye.﻿</td>\n",
       "      <td>-1.0</td>\n",
       "      <td>1</td>\n",
       "    </tr>\n",
       "    <tr>\n",
       "      <th>4</th>\n",
       "      <td>css403</td>\n",
       "      <td>2014-11-07T14:25:48</td>\n",
       "      <td>i am 2,126,492,636 viewer :D﻿</td>\n",
       "      <td>-1.0</td>\n",
       "      <td>1</td>\n",
       "    </tr>\n",
       "  </tbody>\n",
       "</table>\n",
       "</div>"
      ],
      "text/plain": [
       "             author                 date  \\\n",
       "0  Alessandro leite  2014-11-05T22:21:36   \n",
       "1      Salim Tayara  2014-11-02T14:33:30   \n",
       "2           Phuc Ly  2014-01-20T15:27:47   \n",
       "3      DropShotSk8r  2014-01-19T04:27:18   \n",
       "4            css403  2014-11-07T14:25:48   \n",
       "\n",
       "                                                text  label  video  \n",
       "0  pls http://www10.vakinha.com.br/VaquinhaE.aspx...   -1.0      1  \n",
       "1  if your like drones, plz subscribe to Kamal Ta...   -1.0      1  \n",
       "2                     go here to check the views :3﻿   -1.0      1  \n",
       "3            Came here to check the views, goodbye.﻿   -1.0      1  \n",
       "4                      i am 2,126,492,636 viewer :D﻿   -1.0      1  "
      ]
     },
     "execution_count": 6,
     "metadata": {},
     "output_type": "execute_result"
    }
   ],
   "source": [
    "df_train.head()"
   ]
  },
  {
   "cell_type": "code",
   "execution_count": 7,
   "metadata": {},
   "outputs": [
    {
     "data": {
      "text/html": [
       "<div>\n",
       "<style scoped>\n",
       "    .dataframe tbody tr th:only-of-type {\n",
       "        vertical-align: middle;\n",
       "    }\n",
       "\n",
       "    .dataframe tbody tr th {\n",
       "        vertical-align: top;\n",
       "    }\n",
       "\n",
       "    .dataframe thead th {\n",
       "        text-align: right;\n",
       "    }\n",
       "</style>\n",
       "<table border=\"1\" class=\"dataframe\">\n",
       "  <thead>\n",
       "    <tr style=\"text-align: right;\">\n",
       "      <th></th>\n",
       "      <th>author</th>\n",
       "      <th>text</th>\n",
       "      <th>video</th>\n",
       "    </tr>\n",
       "  </thead>\n",
       "  <tbody>\n",
       "    <tr>\n",
       "      <th>4</th>\n",
       "      <td>ambareesh nimkar</td>\n",
       "      <td>\"eye of the tiger\" \"i am the champion\" seems l...</td>\n",
       "      <td>2</td>\n",
       "    </tr>\n",
       "    <tr>\n",
       "      <th>87</th>\n",
       "      <td>pratik patel</td>\n",
       "      <td>mindblowing dance.,.,.superbbb song﻿</td>\n",
       "      <td>3</td>\n",
       "    </tr>\n",
       "    <tr>\n",
       "      <th>14</th>\n",
       "      <td>RaMpAgE420</td>\n",
       "      <td>Check out Berzerk video on my channel ! :D</td>\n",
       "      <td>4</td>\n",
       "    </tr>\n",
       "    <tr>\n",
       "      <th>80</th>\n",
       "      <td>Jason Haddad</td>\n",
       "      <td>Hey, check out my new website!! This site is a...</td>\n",
       "      <td>1</td>\n",
       "    </tr>\n",
       "    <tr>\n",
       "      <th>104</th>\n",
       "      <td>austin green</td>\n",
       "      <td>Eminem is my insperasen and fav﻿</td>\n",
       "      <td>4</td>\n",
       "    </tr>\n",
       "    <tr>\n",
       "      <th>305</th>\n",
       "      <td>M.E.S</td>\n",
       "      <td>hey guys look im aware im spamming and it piss...</td>\n",
       "      <td>4</td>\n",
       "    </tr>\n",
       "    <tr>\n",
       "      <th>22</th>\n",
       "      <td>John Monster</td>\n",
       "      <td>Οh my god ... Roar is the most liked video at ...</td>\n",
       "      <td>2</td>\n",
       "    </tr>\n",
       "    <tr>\n",
       "      <th>338</th>\n",
       "      <td>Alanoud Alsaleh</td>\n",
       "      <td>I started hating Katy Perry after finding out ...</td>\n",
       "      <td>2</td>\n",
       "    </tr>\n",
       "    <tr>\n",
       "      <th>336</th>\n",
       "      <td>Leonardo Baptista</td>\n",
       "      <td>http://www.avaaz.org/po/petition/Youtube_Corpo...</td>\n",
       "      <td>1</td>\n",
       "    </tr>\n",
       "    <tr>\n",
       "      <th>143</th>\n",
       "      <td>UKz DoleSnacher</td>\n",
       "      <td>Remove This video its wank﻿</td>\n",
       "      <td>1</td>\n",
       "    </tr>\n",
       "    <tr>\n",
       "      <th>163</th>\n",
       "      <td>Monica Parker</td>\n",
       "      <td>Check out this video on YouTube:﻿</td>\n",
       "      <td>3</td>\n",
       "    </tr>\n",
       "    <tr>\n",
       "      <th>129</th>\n",
       "      <td>b0b1t.48058475</td>\n",
       "      <td>i rekt ur mum last nite. cuz da haterz were 2 ...</td>\n",
       "      <td>2</td>\n",
       "    </tr>\n",
       "    <tr>\n",
       "      <th>277</th>\n",
       "      <td>MeSoHornyMeLuvULongTime</td>\n",
       "      <td>This video is so racist!!! There are only anim...</td>\n",
       "      <td>2</td>\n",
       "    </tr>\n",
       "    <tr>\n",
       "      <th>265</th>\n",
       "      <td>HarveyIsTheBoss</td>\n",
       "      <td>You gotta say its funny. well not 2 billion wo...</td>\n",
       "      <td>1</td>\n",
       "    </tr>\n",
       "    <tr>\n",
       "      <th>214</th>\n",
       "      <td>janez novak</td>\n",
       "      <td>share and like this page to win a hand signed ...</td>\n",
       "      <td>4</td>\n",
       "    </tr>\n",
       "    <tr>\n",
       "      <th>76</th>\n",
       "      <td>Bizzle Sperq</td>\n",
       "      <td>https://www.facebook.com/nicushorbboy add mee ...</td>\n",
       "      <td>1</td>\n",
       "    </tr>\n",
       "    <tr>\n",
       "      <th>123</th>\n",
       "      <td>Gaming and Stuff PRO</td>\n",
       "      <td>Hello! Do you like gaming, art videos, scienti...</td>\n",
       "      <td>1</td>\n",
       "    </tr>\n",
       "    <tr>\n",
       "      <th>268</th>\n",
       "      <td>Young IncoVEVO</td>\n",
       "      <td>Check out my Music Videos! and PLEASE SUBSCRIB...</td>\n",
       "      <td>1</td>\n",
       "    </tr>\n",
       "    <tr>\n",
       "      <th>433</th>\n",
       "      <td>Chris Edgar</td>\n",
       "      <td>Love the way you lie - Driveshaft﻿</td>\n",
       "      <td>4</td>\n",
       "    </tr>\n",
       "    <tr>\n",
       "      <th>40</th>\n",
       "      <td>rap classics</td>\n",
       "      <td>check out my channel for rap and hip hop music</td>\n",
       "      <td>4</td>\n",
       "    </tr>\n",
       "  </tbody>\n",
       "</table>\n",
       "</div>"
      ],
      "text/plain": [
       "                      author  \\\n",
       "4           ambareesh nimkar   \n",
       "87              pratik patel   \n",
       "14                RaMpAgE420   \n",
       "80              Jason Haddad   \n",
       "104             austin green   \n",
       "305                    M.E.S   \n",
       "22              John Monster   \n",
       "338          Alanoud Alsaleh   \n",
       "336        Leonardo Baptista   \n",
       "143          UKz DoleSnacher   \n",
       "163            Monica Parker   \n",
       "129           b0b1t.48058475   \n",
       "277  MeSoHornyMeLuvULongTime   \n",
       "265          HarveyIsTheBoss   \n",
       "214              janez novak   \n",
       "76              Bizzle Sperq   \n",
       "123     Gaming and Stuff PRO   \n",
       "268           Young IncoVEVO   \n",
       "433              Chris Edgar   \n",
       "40              rap classics   \n",
       "\n",
       "                                                  text  video  \n",
       "4    \"eye of the tiger\" \"i am the champion\" seems l...      2  \n",
       "87                mindblowing dance.,.,.superbbb song﻿      3  \n",
       "14          Check out Berzerk video on my channel ! :D      4  \n",
       "80   Hey, check out my new website!! This site is a...      1  \n",
       "104                   Eminem is my insperasen and fav﻿      4  \n",
       "305  hey guys look im aware im spamming and it piss...      4  \n",
       "22   Οh my god ... Roar is the most liked video at ...      2  \n",
       "338  I started hating Katy Perry after finding out ...      2  \n",
       "336  http://www.avaaz.org/po/petition/Youtube_Corpo...      1  \n",
       "143                        Remove This video its wank﻿      1  \n",
       "163                  Check out this video on YouTube:﻿      3  \n",
       "129  i rekt ur mum last nite. cuz da haterz were 2 ...      2  \n",
       "277  This video is so racist!!! There are only anim...      2  \n",
       "265  You gotta say its funny. well not 2 billion wo...      1  \n",
       "214  share and like this page to win a hand signed ...      4  \n",
       "76   https://www.facebook.com/nicushorbboy add mee ...      1  \n",
       "123  Hello! Do you like gaming, art videos, scienti...      1  \n",
       "268  Check out my Music Videos! and PLEASE SUBSCRIB...      1  \n",
       "433                 Love the way you lie - Driveshaft﻿      4  \n",
       "40      check out my channel for rap and hip hop music      4  "
      ]
     },
     "execution_count": 7,
     "metadata": {},
     "output_type": "execute_result"
    }
   ],
   "source": [
    "df_train[[\"author\", \"text\", \"video\"]].sample(20, random_state=2)"
   ]
  },
  {
   "cell_type": "markdown",
   "metadata": {},
   "source": [
    "One dominant pattern in the comments that look like spam (which we might know from prior domain experience, or from inspection of a few training data points) is the use of the phrase \"check out\" (e.g. \"check out my channel\").\n",
    "Let's start with that."
   ]
  },
  {
   "cell_type": "markdown",
   "metadata": {},
   "source": [
    "### b) Writing an LF to identify spammy comments that use the phrase \"check out\""
   ]
  },
  {
   "cell_type": "markdown",
   "metadata": {},
   "source": [
    "Labeling functions in Snorkel are created with the\n",
    "[`@labeling_function` decorator](https://snorkel.readthedocs.io/en/master/packages/_autosummary/labeling/snorkel.labeling.labeling_function.html).\n",
    "The [decorator](https://realpython.com/primer-on-python-decorators/) can be applied to _any Python function_ that returns a label for a single data point.\n",
    "\n",
    "Let's start developing an LF to catch instances of commenters trying to get people to \"check out\" their channel, video, or website.\n",
    "We'll start by just looking for the exact string `\"check out\"` in the text, and see how that compares to looking for just `\"check\"` in the text.\n",
    "For the two versions of our rule, we'll write a Python function over a single data point that express it, then add the decorator."
   ]
  },
  {
   "cell_type": "code",
   "execution_count": 8,
   "metadata": {},
   "outputs": [],
   "source": [
    "from snorkel.labeling import labeling_function\n",
    "\n",
    "\n",
    "@labeling_function()\n",
    "def check(x):\n",
    "    return SPAM if \"check\" in x.text.lower() else ABSTAIN\n",
    "\n",
    "\n",
    "@labeling_function()\n",
    "def check_out(x):\n",
    "    return SPAM if \"check out\" in x.text.lower() else ABSTAIN"
   ]
  },
  {
   "cell_type": "markdown",
   "metadata": {},
   "source": [
    "To apply one or more LFs that we've written to a collection of data points, we use an\n",
    "[`LFApplier`](https://snorkel.readthedocs.io/en/master/packages/_autosummary/labeling/snorkel.labeling.LFApplier.html).\n",
    "Because our data points are represented with a Pandas DataFrame in this tutorial, we use the\n",
    "[`PandasLFApplier`](https://snorkel.readthedocs.io/en/master/packages/_autosummary/labeling/snorkel.labeling.PandasLFApplier.html).\n",
    "Correspondingly, a single data point `x` that's passed into our LFs will be a [Pandas `Series` object](https://pandas.pydata.org/pandas-docs/stable/reference/series.html).\n",
    "\n",
    "It's important to note that these LFs will work for any object with an attribute named `text`, not just Pandas objects.\n",
    "Snorkel has several other appliers for different data point collection types which you can browse in the [API documentation](https://snorkel.readthedocs.io/en/master/packages/labeling.html).\n",
    "\n",
    "The output of the `apply(...)` method is a ***label matrix***, a fundamental concept in Snorkel.\n",
    "It's a NumPy array `L` with one column for each LF and one row for each data point, where `L[i, j]` is the label that the `j`th labeling function output for the `i`th data point.\n",
    "We'll create a label matrix for the `train` set."
   ]
  },
  {
   "cell_type": "code",
   "execution_count": 9,
   "metadata": {
    "tags": [
     "md-exclude-output"
    ]
   },
   "outputs": [
    {
     "name": "stderr",
     "output_type": "stream",
     "text": [
      "100%|███████████████████████████████████████████████████████████████████████████████████████████████████████████████████████████████████████████████████████████████████████████████████████████| 1586/1586 [00:00<00:00, 48761.32it/s]\n"
     ]
    }
   ],
   "source": [
    "from snorkel.labeling import PandasLFApplier\n",
    "\n",
    "lfs = [check_out, check]\n",
    "\n",
    "applier = PandasLFApplier(lfs=lfs)\n",
    "L_train = applier.apply(df=df_train)"
   ]
  },
  {
   "cell_type": "code",
   "execution_count": 10,
   "metadata": {},
   "outputs": [
    {
     "data": {
      "text/plain": [
       "array([[-1, -1],\n",
       "       [-1, -1],\n",
       "       [-1,  1],\n",
       "       ...,\n",
       "       [ 1,  1],\n",
       "       [-1,  1],\n",
       "       [ 1,  1]])"
      ]
     },
     "execution_count": 10,
     "metadata": {},
     "output_type": "execute_result"
    }
   ],
   "source": [
    "L_train"
   ]
  },
  {
   "cell_type": "markdown",
   "metadata": {},
   "source": [
    "### c) Evaluate performance on training set"
   ]
  },
  {
   "cell_type": "markdown",
   "metadata": {},
   "source": [
    "We can easily calculate the coverage of these LFs (i.e., the percentage of the dataset that they label) as follows:"
   ]
  },
  {
   "cell_type": "code",
   "execution_count": 11,
   "metadata": {},
   "outputs": [
    {
     "name": "stdout",
     "output_type": "stream",
     "text": [
      "check_out coverage: 21.437579%\n",
      "check coverage: 25.788146%\n"
     ]
    }
   ],
   "source": [
    "coverage_check_out, coverage_check = (L_train != ABSTAIN).mean(axis=0)\n",
    "print(f\"check_out coverage: {coverage_check_out * 100:.6f}%\")\n",
    "print(f\"check coverage: {coverage_check * 100:.6f}%\")"
   ]
  },
  {
   "cell_type": "markdown",
   "metadata": {},
   "source": [
    "Lots of statistics about labeling functions &mdash; like coverage &mdash; are useful when building any Snorkel application.\n",
    "So Snorkel provides tooling for common LF analyses using the\n",
    "[`LFAnalysis` utility](https://snorkel.readthedocs.io/en/master/packages/_autosummary/labeling/snorkel.labeling.LFAnalysis.html).\n",
    "We report the following summary statistics for multiple LFs at once:\n",
    "\n",
    "* **Polarity**: The set of unique labels this LF outputs (excluding abstains)\n",
    "* **Coverage**: The fraction of the dataset the LF labels\n",
    "* **Overlaps**: The fraction of the dataset where this LF and at least one other LF label\n",
    "* **Conflicts**: The fraction of the dataset where this LF and at least one other LF label and disagree\n",
    "* **Correct**: The number of data points this LF labels correctly (if gold labels are provided)\n",
    "* **Incorrect**: The number of data points this LF labels incorrectly (if gold labels are provided)\n",
    "* **Empirical Accuracy**: The empirical accuracy of this LF (if gold labels are provided)\n",
    "\n",
    "For *Correct*, *Incorrect*, and *Empirical Accuracy*, we don't want to penalize the LF for data points where it abstained.\n",
    "We calculate these statistics only over those data points where the LF output a label.\n",
    "**Note that in our current setup, we can't compute these statistics because we don't have any ground-truth labels (other than in the test set, which we cannot look at). Not to worry—Snorkel's `LabelModel` will estimate them without needing any ground-truth labels in the next step!**"
   ]
  },
  {
   "cell_type": "code",
   "execution_count": 12,
   "metadata": {},
   "outputs": [
    {
     "data": {
      "text/html": [
       "<div>\n",
       "<style scoped>\n",
       "    .dataframe tbody tr th:only-of-type {\n",
       "        vertical-align: middle;\n",
       "    }\n",
       "\n",
       "    .dataframe tbody tr th {\n",
       "        vertical-align: top;\n",
       "    }\n",
       "\n",
       "    .dataframe thead th {\n",
       "        text-align: right;\n",
       "    }\n",
       "</style>\n",
       "<table border=\"1\" class=\"dataframe\">\n",
       "  <thead>\n",
       "    <tr style=\"text-align: right;\">\n",
       "      <th></th>\n",
       "      <th>j</th>\n",
       "      <th>Polarity</th>\n",
       "      <th>Coverage</th>\n",
       "      <th>Overlaps</th>\n",
       "      <th>Conflicts</th>\n",
       "    </tr>\n",
       "  </thead>\n",
       "  <tbody>\n",
       "    <tr>\n",
       "      <th>check_out</th>\n",
       "      <td>0</td>\n",
       "      <td>[1]</td>\n",
       "      <td>0.214376</td>\n",
       "      <td>0.214376</td>\n",
       "      <td>0.0</td>\n",
       "    </tr>\n",
       "    <tr>\n",
       "      <th>check</th>\n",
       "      <td>1</td>\n",
       "      <td>[1]</td>\n",
       "      <td>0.257881</td>\n",
       "      <td>0.214376</td>\n",
       "      <td>0.0</td>\n",
       "    </tr>\n",
       "  </tbody>\n",
       "</table>\n",
       "</div>"
      ],
      "text/plain": [
       "           j Polarity  Coverage  Overlaps  Conflicts\n",
       "check_out  0      [1]  0.214376  0.214376        0.0\n",
       "check      1      [1]  0.257881  0.214376        0.0"
      ]
     },
     "execution_count": 12,
     "metadata": {},
     "output_type": "execute_result"
    }
   ],
   "source": [
    "from snorkel.labeling import LFAnalysis\n",
    "\n",
    "LFAnalysis(L=L_train, lfs=lfs).lf_summary()"
   ]
  },
  {
   "cell_type": "markdown",
   "metadata": {},
   "source": [
    "We might want to pick the `check` rule, since `check` has higher coverage. Let's take a look at 10 random `train` set data points where `check` labeled `SPAM` to see if it matches our intuition or if we can identify some false positives."
   ]
  },
  {
   "cell_type": "code",
   "execution_count": 13,
   "metadata": {},
   "outputs": [
    {
     "data": {
      "text/html": [
       "<div>\n",
       "<style scoped>\n",
       "    .dataframe tbody tr th:only-of-type {\n",
       "        vertical-align: middle;\n",
       "    }\n",
       "\n",
       "    .dataframe tbody tr th {\n",
       "        vertical-align: top;\n",
       "    }\n",
       "\n",
       "    .dataframe thead th {\n",
       "        text-align: right;\n",
       "    }\n",
       "</style>\n",
       "<table border=\"1\" class=\"dataframe\">\n",
       "  <thead>\n",
       "    <tr style=\"text-align: right;\">\n",
       "      <th></th>\n",
       "      <th>author</th>\n",
       "      <th>date</th>\n",
       "      <th>text</th>\n",
       "      <th>label</th>\n",
       "      <th>video</th>\n",
       "    </tr>\n",
       "  </thead>\n",
       "  <tbody>\n",
       "    <tr>\n",
       "      <th>305</th>\n",
       "      <td>M.E.S</td>\n",
       "      <td>NaN</td>\n",
       "      <td>hey guys look im aware im spamming and it piss...</td>\n",
       "      <td>-1.0</td>\n",
       "      <td>4</td>\n",
       "    </tr>\n",
       "    <tr>\n",
       "      <th>265</th>\n",
       "      <td>Kawiana Lewis</td>\n",
       "      <td>2015-02-27T02:20:40.987000</td>\n",
       "      <td>Check out this video on YouTube:opponents mm &lt;...</td>\n",
       "      <td>-1.0</td>\n",
       "      <td>3</td>\n",
       "    </tr>\n",
       "    <tr>\n",
       "      <th>89</th>\n",
       "      <td>Stricker Stric</td>\n",
       "      <td>NaN</td>\n",
       "      <td>eminem new song check out my videos</td>\n",
       "      <td>-1.0</td>\n",
       "      <td>4</td>\n",
       "    </tr>\n",
       "    <tr>\n",
       "      <th>147</th>\n",
       "      <td>TheGenieBoy</td>\n",
       "      <td>NaN</td>\n",
       "      <td>check out fantasy music    right here -------&amp;...</td>\n",
       "      <td>-1.0</td>\n",
       "      <td>4</td>\n",
       "    </tr>\n",
       "    <tr>\n",
       "      <th>240</th>\n",
       "      <td>Made2Falter</td>\n",
       "      <td>2014-09-09T23:55:30</td>\n",
       "      <td>Check out our vids, our songs are awesome! And...</td>\n",
       "      <td>-1.0</td>\n",
       "      <td>2</td>\n",
       "    </tr>\n",
       "    <tr>\n",
       "      <th>273</th>\n",
       "      <td>Artady</td>\n",
       "      <td>2014-08-11T16:27:55</td>\n",
       "      <td>https://soundcloud.com/artady please check my ...</td>\n",
       "      <td>-1.0</td>\n",
       "      <td>2</td>\n",
       "    </tr>\n",
       "    <tr>\n",
       "      <th>94</th>\n",
       "      <td>Nick McGoldrick</td>\n",
       "      <td>2014-10-27T13:19:06</td>\n",
       "      <td>Check out my drum cover of E.T. here! thanks -...</td>\n",
       "      <td>-1.0</td>\n",
       "      <td>2</td>\n",
       "    </tr>\n",
       "    <tr>\n",
       "      <th>139</th>\n",
       "      <td>MFkin PRXPHETZ</td>\n",
       "      <td>2014-01-20T09:08:39</td>\n",
       "      <td>if you like raw talent, raw lyrics, straight r...</td>\n",
       "      <td>-1.0</td>\n",
       "      <td>1</td>\n",
       "    </tr>\n",
       "    <tr>\n",
       "      <th>303</th>\n",
       "      <td>이 정훈</td>\n",
       "      <td>NaN</td>\n",
       "      <td>This great Warning will happen soon. ,0\\nLneaD...</td>\n",
       "      <td>-1.0</td>\n",
       "      <td>4</td>\n",
       "    </tr>\n",
       "    <tr>\n",
       "      <th>246</th>\n",
       "      <td>media.uploader</td>\n",
       "      <td>NaN</td>\n",
       "      <td>Check out my channel to see Rihanna short mix ...</td>\n",
       "      <td>-1.0</td>\n",
       "      <td>4</td>\n",
       "    </tr>\n",
       "  </tbody>\n",
       "</table>\n",
       "</div>"
      ],
      "text/plain": [
       "              author                        date  \\\n",
       "305            M.E.S                         NaN   \n",
       "265    Kawiana Lewis  2015-02-27T02:20:40.987000   \n",
       "89    Stricker Stric                         NaN   \n",
       "147      TheGenieBoy                         NaN   \n",
       "240      Made2Falter         2014-09-09T23:55:30   \n",
       "273           Artady         2014-08-11T16:27:55   \n",
       "94   Nick McGoldrick         2014-10-27T13:19:06   \n",
       "139   MFkin PRXPHETZ         2014-01-20T09:08:39   \n",
       "303             이 정훈                         NaN   \n",
       "246   media.uploader                         NaN   \n",
       "\n",
       "                                                  text  label  video  \n",
       "305  hey guys look im aware im spamming and it piss...   -1.0      4  \n",
       "265  Check out this video on YouTube:opponents mm <...   -1.0      3  \n",
       "89                 eminem new song check out my videos   -1.0      4  \n",
       "147  check out fantasy music    right here -------&...   -1.0      4  \n",
       "240  Check out our vids, our songs are awesome! And...   -1.0      2  \n",
       "273  https://soundcloud.com/artady please check my ...   -1.0      2  \n",
       "94   Check out my drum cover of E.T. here! thanks -...   -1.0      2  \n",
       "139  if you like raw talent, raw lyrics, straight r...   -1.0      1  \n",
       "303  This great Warning will happen soon. ,0\\nLneaD...   -1.0      4  \n",
       "246  Check out my channel to see Rihanna short mix ...   -1.0      4  "
      ]
     },
     "execution_count": 13,
     "metadata": {},
     "output_type": "execute_result"
    }
   ],
   "source": [
    "df_train.iloc[L_train[:, 1] == SPAM].sample(10, random_state=1)"
   ]
  },
  {
   "cell_type": "markdown",
   "metadata": {},
   "source": [
    "No clear false positives here, but many look like they could be labeled by `check_out` as well.\n",
    "\n",
    "Let's see 10 data points where `check_out` abstained, but `check` labeled. We can use the`get_label_buckets(...)` to group data points by their predicted label and/or true labels."
   ]
  },
  {
   "cell_type": "code",
   "execution_count": 14,
   "metadata": {},
   "outputs": [
    {
     "data": {
      "text/html": [
       "<div>\n",
       "<style scoped>\n",
       "    .dataframe tbody tr th:only-of-type {\n",
       "        vertical-align: middle;\n",
       "    }\n",
       "\n",
       "    .dataframe tbody tr th {\n",
       "        vertical-align: top;\n",
       "    }\n",
       "\n",
       "    .dataframe thead th {\n",
       "        text-align: right;\n",
       "    }\n",
       "</style>\n",
       "<table border=\"1\" class=\"dataframe\">\n",
       "  <thead>\n",
       "    <tr style=\"text-align: right;\">\n",
       "      <th></th>\n",
       "      <th>author</th>\n",
       "      <th>date</th>\n",
       "      <th>text</th>\n",
       "      <th>label</th>\n",
       "      <th>video</th>\n",
       "    </tr>\n",
       "  </thead>\n",
       "  <tbody>\n",
       "    <tr>\n",
       "      <th>403</th>\n",
       "      <td>ownpear902</td>\n",
       "      <td>2014-07-22T18:44:36.299000</td>\n",
       "      <td>check it out free stuff for watching videos an...</td>\n",
       "      <td>-1.0</td>\n",
       "      <td>3</td>\n",
       "    </tr>\n",
       "    <tr>\n",
       "      <th>256</th>\n",
       "      <td>PacKmaN</td>\n",
       "      <td>2014-11-05T21:56:39</td>\n",
       "      <td>check men out i put allot of effort into my mu...</td>\n",
       "      <td>-1.0</td>\n",
       "      <td>1</td>\n",
       "    </tr>\n",
       "    <tr>\n",
       "      <th>196</th>\n",
       "      <td>Angek95</td>\n",
       "      <td>2014-11-03T22:28:56</td>\n",
       "      <td>Check my channel, please!﻿</td>\n",
       "      <td>-1.0</td>\n",
       "      <td>1</td>\n",
       "    </tr>\n",
       "    <tr>\n",
       "      <th>282</th>\n",
       "      <td>CronicleFPS</td>\n",
       "      <td>2014-11-06T03:10:26</td>\n",
       "      <td>Check me out I'm all about gaming ﻿</td>\n",
       "      <td>-1.0</td>\n",
       "      <td>1</td>\n",
       "    </tr>\n",
       "    <tr>\n",
       "      <th>352</th>\n",
       "      <td>MrJtill0317</td>\n",
       "      <td>NaN</td>\n",
       "      <td>┏━━━┓┏┓╋┏┓┏━━━┓┏━━━┓┏┓╋╋┏┓  ┃┏━┓┃┃┃╋┃┃┃┏━┓┃┗┓┏...</td>\n",
       "      <td>-1.0</td>\n",
       "      <td>4</td>\n",
       "    </tr>\n",
       "    <tr>\n",
       "      <th>161</th>\n",
       "      <td>MarianMusicChannel</td>\n",
       "      <td>2014-08-24T03:57:52</td>\n",
       "      <td>Hello! I'm Marian, I'm a singer from Venezuela...</td>\n",
       "      <td>-1.0</td>\n",
       "      <td>2</td>\n",
       "    </tr>\n",
       "    <tr>\n",
       "      <th>270</th>\n",
       "      <td>Kyle Jaber</td>\n",
       "      <td>2014-01-19T00:21:29</td>\n",
       "      <td>Check me out! I'm kyle. I rap so yeah ﻿</td>\n",
       "      <td>-1.0</td>\n",
       "      <td>1</td>\n",
       "    </tr>\n",
       "    <tr>\n",
       "      <th>292</th>\n",
       "      <td>Soundhase</td>\n",
       "      <td>2014-08-19T18:59:38</td>\n",
       "      <td>Hi Guys! check this awesome EDM &amp;amp; House mi...</td>\n",
       "      <td>-1.0</td>\n",
       "      <td>2</td>\n",
       "    </tr>\n",
       "    <tr>\n",
       "      <th>179</th>\n",
       "      <td>Nerdy Peach</td>\n",
       "      <td>2014-10-29T22:44:41</td>\n",
       "      <td>Hey! I'm NERDY PEACH and I'm a new youtuber an...</td>\n",
       "      <td>-1.0</td>\n",
       "      <td>2</td>\n",
       "    </tr>\n",
       "    <tr>\n",
       "      <th>16</th>\n",
       "      <td>zhichao wang</td>\n",
       "      <td>2013-11-29T02:13:56</td>\n",
       "      <td>i think about 100 millions of the views come f...</td>\n",
       "      <td>-1.0</td>\n",
       "      <td>1</td>\n",
       "    </tr>\n",
       "  </tbody>\n",
       "</table>\n",
       "</div>"
      ],
      "text/plain": [
       "                 author                        date  \\\n",
       "403          ownpear902  2014-07-22T18:44:36.299000   \n",
       "256             PacKmaN         2014-11-05T21:56:39   \n",
       "196             Angek95         2014-11-03T22:28:56   \n",
       "282         CronicleFPS         2014-11-06T03:10:26   \n",
       "352         MrJtill0317                         NaN   \n",
       "161  MarianMusicChannel         2014-08-24T03:57:52   \n",
       "270          Kyle Jaber         2014-01-19T00:21:29   \n",
       "292           Soundhase         2014-08-19T18:59:38   \n",
       "179         Nerdy Peach         2014-10-29T22:44:41   \n",
       "16         zhichao wang         2013-11-29T02:13:56   \n",
       "\n",
       "                                                  text  label  video  \n",
       "403  check it out free stuff for watching videos an...   -1.0      3  \n",
       "256  check men out i put allot of effort into my mu...   -1.0      1  \n",
       "196                         Check my channel, please!﻿   -1.0      1  \n",
       "282                Check me out I'm all about gaming ﻿   -1.0      1  \n",
       "352  ┏━━━┓┏┓╋┏┓┏━━━┓┏━━━┓┏┓╋╋┏┓  ┃┏━┓┃┃┃╋┃┃┃┏━┓┃┗┓┏...   -1.0      4  \n",
       "161  Hello! I'm Marian, I'm a singer from Venezuela...   -1.0      2  \n",
       "270            Check me out! I'm kyle. I rap so yeah ﻿   -1.0      1  \n",
       "292  Hi Guys! check this awesome EDM &amp; House mi...   -1.0      2  \n",
       "179  Hey! I'm NERDY PEACH and I'm a new youtuber an...   -1.0      2  \n",
       "16   i think about 100 millions of the views come f...   -1.0      1  "
      ]
     },
     "execution_count": 14,
     "metadata": {},
     "output_type": "execute_result"
    }
   ],
   "source": [
    "from snorkel.analysis import get_label_buckets\n",
    "\n",
    "buckets = get_label_buckets(L_train[:, 0], L_train[:, 1])\n",
    "df_train.iloc[buckets[(ABSTAIN, SPAM)]].sample(10, random_state=1)"
   ]
  },
  {
   "cell_type": "markdown",
   "metadata": {},
   "source": [
    "Most of these seem like small modifications of \"check out\", like \"check me out\" or \"check it out\".\n",
    "Can we get the best of both worlds?"
   ]
  },
  {
   "cell_type": "markdown",
   "metadata": {},
   "source": [
    "### d) Balance accuracy and coverage"
   ]
  },
  {
   "cell_type": "markdown",
   "metadata": {},
   "source": [
    "Let's see if we can use regular expressions to account for modifications of \"check out\" and get the coverage of `check` plus the accuracy of `check_out`."
   ]
  },
  {
   "cell_type": "code",
   "execution_count": 15,
   "metadata": {},
   "outputs": [],
   "source": [
    "import re\n",
    "\n",
    "\n",
    "@labeling_function()\n",
    "def regex_check_out(x):\n",
    "    return SPAM if re.search(r\"check.*out\", x.text, flags=re.I) else ABSTAIN"
   ]
  },
  {
   "cell_type": "markdown",
   "metadata": {},
   "source": [
    "Again, let's generate our label matrices and see how we do."
   ]
  },
  {
   "cell_type": "code",
   "execution_count": 16,
   "metadata": {
    "tags": [
     "md-exclude-output"
    ]
   },
   "outputs": [
    {
     "name": "stderr",
     "output_type": "stream",
     "text": [
      "100%|███████████████████████████████████████████████████████████████████████████████████████████████████████████████████████████████████████████████████████████████████████████████████████████| 1586/1586 [00:00<00:00, 36046.70it/s]\n"
     ]
    }
   ],
   "source": [
    "lfs = [check_out, check, regex_check_out]\n",
    "\n",
    "applier = PandasLFApplier(lfs=lfs)\n",
    "L_train = applier.apply(df=df_train)"
   ]
  },
  {
   "cell_type": "code",
   "execution_count": 17,
   "metadata": {},
   "outputs": [
    {
     "data": {
      "text/html": [
       "<div>\n",
       "<style scoped>\n",
       "    .dataframe tbody tr th:only-of-type {\n",
       "        vertical-align: middle;\n",
       "    }\n",
       "\n",
       "    .dataframe tbody tr th {\n",
       "        vertical-align: top;\n",
       "    }\n",
       "\n",
       "    .dataframe thead th {\n",
       "        text-align: right;\n",
       "    }\n",
       "</style>\n",
       "<table border=\"1\" class=\"dataframe\">\n",
       "  <thead>\n",
       "    <tr style=\"text-align: right;\">\n",
       "      <th></th>\n",
       "      <th>j</th>\n",
       "      <th>Polarity</th>\n",
       "      <th>Coverage</th>\n",
       "      <th>Overlaps</th>\n",
       "      <th>Conflicts</th>\n",
       "    </tr>\n",
       "  </thead>\n",
       "  <tbody>\n",
       "    <tr>\n",
       "      <th>check_out</th>\n",
       "      <td>0</td>\n",
       "      <td>[1]</td>\n",
       "      <td>0.214376</td>\n",
       "      <td>0.214376</td>\n",
       "      <td>0.0</td>\n",
       "    </tr>\n",
       "    <tr>\n",
       "      <th>check</th>\n",
       "      <td>1</td>\n",
       "      <td>[1]</td>\n",
       "      <td>0.257881</td>\n",
       "      <td>0.233922</td>\n",
       "      <td>0.0</td>\n",
       "    </tr>\n",
       "    <tr>\n",
       "      <th>regex_check_out</th>\n",
       "      <td>2</td>\n",
       "      <td>[1]</td>\n",
       "      <td>0.233922</td>\n",
       "      <td>0.233922</td>\n",
       "      <td>0.0</td>\n",
       "    </tr>\n",
       "  </tbody>\n",
       "</table>\n",
       "</div>"
      ],
      "text/plain": [
       "                 j Polarity  Coverage  Overlaps  Conflicts\n",
       "check_out        0      [1]  0.214376  0.214376        0.0\n",
       "check            1      [1]  0.257881  0.233922        0.0\n",
       "regex_check_out  2      [1]  0.233922  0.233922        0.0"
      ]
     },
     "execution_count": 17,
     "metadata": {},
     "output_type": "execute_result"
    }
   ],
   "source": [
    "LFAnalysis(L=L_train, lfs=lfs).lf_summary()"
   ]
  },
  {
   "cell_type": "markdown",
   "metadata": {},
   "source": [
    "We've split the difference in `train` set coverage—this looks promising!\n",
    "Let's verify that we corrected our false positive from before."
   ]
  },
  {
   "cell_type": "markdown",
   "metadata": {},
   "source": [
    "To understand the coverage difference between `check` and `regex_check_out`, let's take a look at 10 data points from the `train` set.\n",
    "Remember: coverage isn't always good.\n",
    "Adding false positives will increase coverage."
   ]
  },
  {
   "cell_type": "code",
   "execution_count": 18,
   "metadata": {},
   "outputs": [
    {
     "data": {
      "text/html": [
       "<div>\n",
       "<style scoped>\n",
       "    .dataframe tbody tr th:only-of-type {\n",
       "        vertical-align: middle;\n",
       "    }\n",
       "\n",
       "    .dataframe tbody tr th {\n",
       "        vertical-align: top;\n",
       "    }\n",
       "\n",
       "    .dataframe thead th {\n",
       "        text-align: right;\n",
       "    }\n",
       "</style>\n",
       "<table border=\"1\" class=\"dataframe\">\n",
       "  <thead>\n",
       "    <tr style=\"text-align: right;\">\n",
       "      <th></th>\n",
       "      <th>author</th>\n",
       "      <th>date</th>\n",
       "      <th>text</th>\n",
       "      <th>label</th>\n",
       "      <th>video</th>\n",
       "    </tr>\n",
       "  </thead>\n",
       "  <tbody>\n",
       "    <tr>\n",
       "      <th>16</th>\n",
       "      <td>zhichao wang</td>\n",
       "      <td>2013-11-29T02:13:56</td>\n",
       "      <td>i think about 100 millions of the views come f...</td>\n",
       "      <td>-1.0</td>\n",
       "      <td>1</td>\n",
       "    </tr>\n",
       "    <tr>\n",
       "      <th>99</th>\n",
       "      <td>Santeri Saariokari</td>\n",
       "      <td>2014-09-03T16:32:59</td>\n",
       "      <td>Hey guys go to check my video name \"growtopia ...</td>\n",
       "      <td>-1.0</td>\n",
       "      <td>2</td>\n",
       "    </tr>\n",
       "    <tr>\n",
       "      <th>21</th>\n",
       "      <td>BeBe Burkey</td>\n",
       "      <td>2013-11-28T16:30:13</td>\n",
       "      <td>and u should.d check my channel and tell me wh...</td>\n",
       "      <td>-1.0</td>\n",
       "      <td>1</td>\n",
       "    </tr>\n",
       "    <tr>\n",
       "      <th>239</th>\n",
       "      <td>Cony</td>\n",
       "      <td>2013-11-28T16:01:47</td>\n",
       "      <td>You should check my channel for Funny VIDEOS!!﻿</td>\n",
       "      <td>-1.0</td>\n",
       "      <td>1</td>\n",
       "    </tr>\n",
       "    <tr>\n",
       "      <th>288</th>\n",
       "      <td>Kochos</td>\n",
       "      <td>2014-01-20T17:08:37</td>\n",
       "      <td>i check back often to help reach 2x10^9 views ...</td>\n",
       "      <td>-1.0</td>\n",
       "      <td>1</td>\n",
       "    </tr>\n",
       "    <tr>\n",
       "      <th>65</th>\n",
       "      <td>by.Ovskiy</td>\n",
       "      <td>2014-10-13T17:09:46</td>\n",
       "      <td>Rap from Belarus, check my channel:)﻿</td>\n",
       "      <td>-1.0</td>\n",
       "      <td>2</td>\n",
       "    </tr>\n",
       "    <tr>\n",
       "      <th>196</th>\n",
       "      <td>Angek95</td>\n",
       "      <td>2014-11-03T22:28:56</td>\n",
       "      <td>Check my channel, please!﻿</td>\n",
       "      <td>-1.0</td>\n",
       "      <td>1</td>\n",
       "    </tr>\n",
       "    <tr>\n",
       "      <th>333</th>\n",
       "      <td>FreexGaming</td>\n",
       "      <td>2014-10-18T08:12:26</td>\n",
       "      <td>want to win borderlands the pre-sequel? check ...</td>\n",
       "      <td>-1.0</td>\n",
       "      <td>2</td>\n",
       "    </tr>\n",
       "    <tr>\n",
       "      <th>167</th>\n",
       "      <td>Brandon Pryor</td>\n",
       "      <td>2014-01-19T00:36:25</td>\n",
       "      <td>I dont even watch it anymore i just come here ...</td>\n",
       "      <td>-1.0</td>\n",
       "      <td>1</td>\n",
       "    </tr>\n",
       "    <tr>\n",
       "      <th>266</th>\n",
       "      <td>Zielimeek21</td>\n",
       "      <td>2013-11-28T21:49:00</td>\n",
       "      <td>I'm only checking the views﻿</td>\n",
       "      <td>-1.0</td>\n",
       "      <td>1</td>\n",
       "    </tr>\n",
       "  </tbody>\n",
       "</table>\n",
       "</div>"
      ],
      "text/plain": [
       "                 author                 date  \\\n",
       "16         zhichao wang  2013-11-29T02:13:56   \n",
       "99   Santeri Saariokari  2014-09-03T16:32:59   \n",
       "21          BeBe Burkey  2013-11-28T16:30:13   \n",
       "239                Cony  2013-11-28T16:01:47   \n",
       "288              Kochos  2014-01-20T17:08:37   \n",
       "65            by.Ovskiy  2014-10-13T17:09:46   \n",
       "196             Angek95  2014-11-03T22:28:56   \n",
       "333         FreexGaming  2014-10-18T08:12:26   \n",
       "167       Brandon Pryor  2014-01-19T00:36:25   \n",
       "266         Zielimeek21  2013-11-28T21:49:00   \n",
       "\n",
       "                                                  text  label  video  \n",
       "16   i think about 100 millions of the views come f...   -1.0      1  \n",
       "99   Hey guys go to check my video name \"growtopia ...   -1.0      2  \n",
       "21   and u should.d check my channel and tell me wh...   -1.0      1  \n",
       "239    You should check my channel for Funny VIDEOS!!﻿   -1.0      1  \n",
       "288  i check back often to help reach 2x10^9 views ...   -1.0      1  \n",
       "65               Rap from Belarus, check my channel:)﻿   -1.0      2  \n",
       "196                         Check my channel, please!﻿   -1.0      1  \n",
       "333  want to win borderlands the pre-sequel? check ...   -1.0      2  \n",
       "167  I dont even watch it anymore i just come here ...   -1.0      1  \n",
       "266                       I'm only checking the views﻿   -1.0      1  "
      ]
     },
     "execution_count": 18,
     "metadata": {},
     "output_type": "execute_result"
    }
   ],
   "source": [
    "buckets = get_label_buckets(L_train[:, 1], L_train[:, 2])\n",
    "df_train.iloc[buckets[(SPAM, ABSTAIN)]].sample(10, random_state=1)"
   ]
  },
  {
   "cell_type": "markdown",
   "metadata": {},
   "source": [
    "Most of these are SPAM, but a good number are false positives.\n",
    "**To keep precision high (while not sacrificing much in terms of coverage), we'd choose our regex-based rule.**"
   ]
  },
  {
   "cell_type": "markdown",
   "metadata": {},
   "source": [
    "### e) Writing an LF that uses a third-party model"
   ]
  },
  {
   "cell_type": "markdown",
   "metadata": {},
   "source": [
    "The LF interface is extremely flexible, and can wrap existing models.\n",
    "A common technique is to use a commodity model trained for other tasks that are related to, but not the same as, the one we care about.\n",
    "\n",
    "For example, the [TextBlob](https://textblob.readthedocs.io/en/dev/index.html) tool provides a pretrained sentiment analyzer. Our spam classification task is not the same as sentiment classification, but we may believe that `SPAM` and `HAM` comments have different distributions of sentiment scores.\n",
    "We'll focus on writing LFs for `HAM`, since we identified `SPAM` comments above.\n",
    "\n",
    "**A brief intro to `Preprocessor`s**\n",
    "\n",
    "A [Snorkel `Preprocessor`](https://snorkel.readthedocs.io/en/master/packages/_autosummary/preprocess/snorkel.preprocess.Preprocessor.html#snorkel.preprocess.Preprocessor)\n",
    "is constructed from a black-box Python function that maps a data point to a new data point.\n",
    "`LabelingFunction`s can use `Preprocessor`s, which lets us write LFs over transformed or enhanced data points.\n",
    "We add the [`@preprocessor(...)` decorator](https://snorkel.readthedocs.io/en/master/packages/_autosummary/preprocess/snorkel.preprocess.preprocessor.html)\n",
    "to preprocessing functions to create `Preprocessor`s.\n",
    "`Preprocessor`s also have extra functionality, such as memoization\n",
    "(i.e. input/output caching, so it doesn't re-execute for each LF that uses it).\n",
    "\n",
    "We'll start by creating a `Preprocessor` that runs `TextBlob` on our comments, then extracts the polarity and subjectivity scores."
   ]
  },
  {
   "cell_type": "code",
   "execution_count": 19,
   "metadata": {},
   "outputs": [],
   "source": [
    "from snorkel.preprocess import preprocessor\n",
    "from textblob import TextBlob\n",
    "\n",
    "\n",
    "@preprocessor(memoize=True)\n",
    "def textblob_sentiment(x):\n",
    "    scores = TextBlob(x.text)\n",
    "    x.polarity = scores.sentiment.polarity\n",
    "    x.subjectivity = scores.sentiment.subjectivity\n",
    "    return x"
   ]
  },
  {
   "cell_type": "markdown",
   "metadata": {},
   "source": [
    "We can now pick a reasonable threshold and write a corresponding labeling function (note that it doesn't have to be perfect as the `LabelModel` will soon help us estimate each labeling function's accuracy and reweight their outputs accordingly):"
   ]
  },
  {
   "cell_type": "code",
   "execution_count": 20,
   "metadata": {},
   "outputs": [],
   "source": [
    "@labeling_function(pre=[textblob_sentiment])\n",
    "def textblob_polarity(x):\n",
    "    return HAM if x.polarity > 0.9 else ABSTAIN"
   ]
  },
  {
   "cell_type": "markdown",
   "metadata": {},
   "source": [
    "Let's do the same for the subjectivity scores.\n",
    "This will run faster than the last cell, since we memoized the `Preprocessor` outputs."
   ]
  },
  {
   "cell_type": "code",
   "execution_count": 21,
   "metadata": {},
   "outputs": [],
   "source": [
    "@labeling_function(pre=[textblob_sentiment])\n",
    "def textblob_subjectivity(x):\n",
    "    return HAM if x.subjectivity >= 0.5 else ABSTAIN"
   ]
  },
  {
   "cell_type": "markdown",
   "metadata": {},
   "source": [
    "Let's apply our LFs so we can analyze their performance."
   ]
  },
  {
   "cell_type": "code",
   "execution_count": 22,
   "metadata": {
    "tags": [
     "md-exclude-output"
    ]
   },
   "outputs": [
    {
     "name": "stderr",
     "output_type": "stream",
     "text": [
      "100%|████████████████████████████████████████████████████████████████████████████████████████████████████████████████████████████████████████████████████████████████████████████████████████████| 1586/1586 [00:00<00:00, 2348.71it/s]\n"
     ]
    },
    {
     "name": "stderr",
     "output_type": "stream",
     "text": [
      "\r",
      " 44%|████▍     | 705/1586 [00:00<00:00, 990.35it/s]"
     ]
    },
    {
     "name": "stderr",
     "output_type": "stream",
     "text": [
      "\r",
      " 51%|█████     | 808/1586 [00:00<00:01, 758.90it/s]"
     ]
    },
    {
     "name": "stderr",
     "output_type": "stream",
     "text": [
      "\r",
      " 58%|█████▊    | 920/1586 [00:01<00:00, 838.68it/s]"
     ]
    },
    {
     "name": "stderr",
     "output_type": "stream",
     "text": [
      "\r",
      " 65%|██████▍   | 1029/1586 [00:01<00:00, 900.12it/s]"
     ]
    },
    {
     "name": "stderr",
     "output_type": "stream",
     "text": [
      "\r",
      " 72%|███████▏  | 1138/1586 [00:01<00:00, 948.11it/s]"
     ]
    },
    {
     "name": "stderr",
     "output_type": "stream",
     "text": [
      "\r",
      " 78%|███████▊  | 1243/1586 [00:01<00:00, 976.11it/s]"
     ]
    },
    {
     "name": "stderr",
     "output_type": "stream",
     "text": [
      "\r",
      " 85%|████████▌ | 1350/1586 [00:01<00:00, 1002.07it/s]"
     ]
    },
    {
     "name": "stderr",
     "output_type": "stream",
     "text": [
      "\r",
      " 92%|█████████▏| 1460/1586 [00:01<00:00, 1026.15it/s]"
     ]
    },
    {
     "name": "stderr",
     "output_type": "stream",
     "text": [
      "\r",
      " 99%|█████████▉| 1571/1586 [00:01<00:00, 1049.33it/s]"
     ]
    },
    {
     "name": "stderr",
     "output_type": "stream",
     "text": [
      "\r",
      "100%|██████████| 1586/1586 [00:01<00:00, 970.94it/s] "
     ]
    },
    {
     "name": "stderr",
     "output_type": "stream",
     "text": [
      "\n"
     ]
    }
   ],
   "source": [
    "lfs = [textblob_polarity, textblob_subjectivity]\n",
    "\n",
    "applier = PandasLFApplier(lfs)\n",
    "L_train = applier.apply(df_train)"
   ]
  },
  {
   "cell_type": "code",
   "execution_count": 23,
   "metadata": {},
   "outputs": [
    {
     "data": {
      "text/html": [
       "<div>\n",
       "<style scoped>\n",
       "    .dataframe tbody tr th:only-of-type {\n",
       "        vertical-align: middle;\n",
       "    }\n",
       "\n",
       "    .dataframe tbody tr th {\n",
       "        vertical-align: top;\n",
       "    }\n",
       "\n",
       "    .dataframe thead th {\n",
       "        text-align: right;\n",
       "    }\n",
       "</style>\n",
       "<table border=\"1\" class=\"dataframe\">\n",
       "  <thead>\n",
       "    <tr style=\"text-align: right;\">\n",
       "      <th></th>\n",
       "      <th>j</th>\n",
       "      <th>Polarity</th>\n",
       "      <th>Coverage</th>\n",
       "      <th>Overlaps</th>\n",
       "      <th>Conflicts</th>\n",
       "    </tr>\n",
       "  </thead>\n",
       "  <tbody>\n",
       "    <tr>\n",
       "      <th>textblob_polarity</th>\n",
       "      <td>0</td>\n",
       "      <td>[0]</td>\n",
       "      <td>0.035309</td>\n",
       "      <td>0.013871</td>\n",
       "      <td>0.0</td>\n",
       "    </tr>\n",
       "    <tr>\n",
       "      <th>textblob_subjectivity</th>\n",
       "      <td>1</td>\n",
       "      <td>[0]</td>\n",
       "      <td>0.357503</td>\n",
       "      <td>0.013871</td>\n",
       "      <td>0.0</td>\n",
       "    </tr>\n",
       "  </tbody>\n",
       "</table>\n",
       "</div>"
      ],
      "text/plain": [
       "                       j Polarity  Coverage  Overlaps  Conflicts\n",
       "textblob_polarity      0      [0]  0.035309  0.013871        0.0\n",
       "textblob_subjectivity  1      [0]  0.357503  0.013871        0.0"
      ]
     },
     "execution_count": 23,
     "metadata": {},
     "output_type": "execute_result"
    }
   ],
   "source": [
    "LFAnalysis(L_train, lfs).lf_summary()"
   ]
  },
  {
   "cell_type": "markdown",
   "metadata": {},
   "source": [
    "**Again, these LFs aren't perfect—note that the `textblob_subjectivity` LF has fairly high coverage and could have a high rate of false positives. We'll rely on Snorkel's `LabelModel` to estimate the labeling function accuracies and reweight and combine their outputs accordingly.**"
   ]
  },
  {
   "cell_type": "markdown",
   "metadata": {},
   "source": [
    "## 3. Writing More Labeling Functions"
   ]
  },
  {
   "cell_type": "markdown",
   "metadata": {},
   "source": [
    "If a single LF had high enough coverage to label our entire test dataset accurately, then we wouldn't need a classifier at all.\n",
    "We could just use that single simple heuristic to complete the task.\n",
    "But most problems are not that simple.\n",
    "Instead, we usually need to **combine multiple LFs** to label our dataset, both to increase the size of the generated training set (since we can't generate training labels for data points that no LF voted on) and to improve the overall accuracy of the training labels we generate by factoring in multiple different signals.\n",
    "\n",
    "In the following sections, we'll show just a few of the many types of LFs that you could write to generate a training dataset for this problem."
   ]
  },
  {
   "cell_type": "markdown",
   "metadata": {},
   "source": [
    "### a) Keyword LFs"
   ]
  },
  {
   "cell_type": "markdown",
   "metadata": {},
   "source": [
    "For text applications, some of the simplest LFs to write are often just keyword lookups.\n",
    "These will often follow the same execution pattern, so we can create a template and use the `resources` parameter to pass in LF-specific keywords.\n",
    "Similar to the [`labeling_function` decorator](https://snorkel.readthedocs.io/en/master/packages/_autosummary/labeling/snorkel.labeling.labeling_function.html#snorkel.labeling.labeling_function),\n",
    "the [`LabelingFunction` class](https://snorkel.readthedocs.io/en/master/packages/_autosummary/labeling/snorkel.labeling.LabelingFunction.html#snorkel.labeling.LabelingFunction)\n",
    "wraps a Python function (the `f` parameter), and we can use the `resources` parameter to pass in keyword arguments (here, our keywords to lookup) to said function."
   ]
  },
  {
   "cell_type": "code",
   "execution_count": 24,
   "metadata": {},
   "outputs": [],
   "source": [
    "from snorkel.labeling import LabelingFunction\n",
    "\n",
    "\n",
    "def keyword_lookup(x, keywords, label):\n",
    "    if any(word in x.text.lower() for word in keywords):\n",
    "        return label\n",
    "    return ABSTAIN\n",
    "\n",
    "\n",
    "def make_keyword_lf(keywords, label=SPAM):\n",
    "    return LabelingFunction(\n",
    "        name=f\"keyword_{keywords[0]}\",\n",
    "        f=keyword_lookup,\n",
    "        resources=dict(keywords=keywords, label=label),\n",
    "    )\n",
    "\n",
    "\n",
    "\"\"\"Spam comments talk about 'my channel', 'my video', etc.\"\"\"\n",
    "keyword_my = make_keyword_lf(keywords=[\"my\"])\n",
    "\n",
    "\"\"\"Spam comments ask users to subscribe to their channels.\"\"\"\n",
    "keyword_subscribe = make_keyword_lf(keywords=[\"subscribe\"])\n",
    "\n",
    "\"\"\"Spam comments post links to other channels.\"\"\"\n",
    "keyword_link = make_keyword_lf(keywords=[\"http\"])\n",
    "\n",
    "\"\"\"Spam comments make requests rather than commenting.\"\"\"\n",
    "keyword_please = make_keyword_lf(keywords=[\"please\", \"plz\"])\n",
    "\n",
    "\"\"\"Ham comments actually talk about the video's content.\"\"\"\n",
    "keyword_song = make_keyword_lf(keywords=[\"song\"], label=HAM)"
   ]
  },
  {
   "cell_type": "markdown",
   "metadata": {},
   "source": [
    "### b) Pattern-matching LFs (regular expressions)"
   ]
  },
  {
   "cell_type": "markdown",
   "metadata": {},
   "source": [
    "If we want a little more control over a keyword search, we can look for regular expressions instead.\n",
    "The LF we developed above (`regex_check_out`) is an example of this."
   ]
  },
  {
   "cell_type": "markdown",
   "metadata": {},
   "source": [
    "### c)  Heuristic LFs"
   ]
  },
  {
   "cell_type": "markdown",
   "metadata": {},
   "source": [
    "There may be other heuristics or \"rules of thumb\" that you come up with as you look at the data.\n",
    "So long as you can express it in a function, it's a viable LF!"
   ]
  },
  {
   "cell_type": "code",
   "execution_count": 25,
   "metadata": {},
   "outputs": [],
   "source": [
    "@labeling_function()\n",
    "def short_comment(x):\n",
    "    \"\"\"Ham comments are often short, such as 'cool video!'\"\"\"\n",
    "    return HAM if len(x.text.split()) < 5 else ABSTAIN"
   ]
  },
  {
   "cell_type": "markdown",
   "metadata": {},
   "source": [
    "### d) LFs with Complex Preprocessors"
   ]
  },
  {
   "cell_type": "markdown",
   "metadata": {},
   "source": [
    "Some LFs rely on fields that aren't present in the raw data, but can be derived from it.\n",
    "We can enrich our data (providing more fields for the LFs to refer to) using `Preprocessor`s.\n",
    "\n",
    "For example, we can use the fantastic NLP (natural language processing) tool [spaCy](https://spacy.io/) to add lemmas, part-of-speech (pos) tags, etc. to each token.\n",
    "Snorkel provides a prebuilt preprocessor for spaCy called `SpacyPreprocessor` which adds a new field to the\n",
    "data point containing a [spaCy `Doc` object](https://spacy.io/api/doc).\n",
    "For more info, see the [`SpacyPreprocessor` documentation](https://snorkel.readthedocs.io/en/master/packages/_autosummary/preprocess/snorkel.preprocess.nlp.SpacyPreprocessor.html#snorkel.preprocess.nlp.SpacyPreprocessor).\n",
    "\n",
    "\n",
    "If you prefer to use a different NLP tool, you can also wrap that as a `Preprocessor` and use it in the same way.\n",
    "For more info, see the [`preprocessor` documentation](https://snorkel.readthedocs.io/en/master/packages/_autosummary/preprocess/snorkel.preprocess.preprocessor.html#snorkel.preprocess.preprocessor)."
   ]
  },
  {
   "cell_type": "markdown",
   "metadata": {
    "tags": [
     "md-exclude"
    ]
   },
   "source": [
    "If the spaCy English model wasn't already installed, the next cell may raise an exception.\n",
    "If this happens, restart the kernel and re-execute the cells up to this point."
   ]
  },
  {
   "cell_type": "code",
   "execution_count": 26,
   "metadata": {},
   "outputs": [],
   "source": [
    "from snorkel.preprocess.nlp import SpacyPreprocessor\n",
    "\n",
    "# The SpacyPreprocessor parses the text in text_field and\n",
    "# stores the new enriched representation in doc_field\n",
    "spacy = SpacyPreprocessor(text_field=\"text\", doc_field=\"doc\", memoize=True)"
   ]
  },
  {
   "cell_type": "code",
   "execution_count": 27,
   "metadata": {},
   "outputs": [],
   "source": [
    "@labeling_function(pre=[spacy])\n",
    "def has_person(x):\n",
    "    \"\"\"Ham comments mention specific people and are short.\"\"\"\n",
    "    if len(x.doc) < 20 and any([ent.label_ == \"PERSON\" for ent in x.doc.ents]):\n",
    "        return HAM\n",
    "    else:\n",
    "        return ABSTAIN"
   ]
  },
  {
   "cell_type": "markdown",
   "metadata": {},
   "source": [
    "Because spaCy is such a common preprocessor for NLP applications, we also provide a\n",
    "[prebuilt `labeling_function`-like decorator that uses spaCy](https://snorkel.readthedocs.io/en/master/packages/_autosummary/labeling/snorkel.labeling.lf.nlp.nlp_labeling_function.html#snorkel.labeling.lf.nlp.nlp_labeling_function).\n",
    "This resulting LF is identical to the one defined manually above."
   ]
  },
  {
   "cell_type": "code",
   "execution_count": 28,
   "metadata": {},
   "outputs": [],
   "source": [
    "from snorkel.labeling.lf.nlp import nlp_labeling_function\n",
    "\n",
    "\n",
    "@nlp_labeling_function()\n",
    "def has_person_nlp(x):\n",
    "    \"\"\"Ham comments mention specific people and are short.\"\"\"\n",
    "    if len(x.doc) < 20 and any([ent.label_ == \"PERSON\" for ent in x.doc.ents]):\n",
    "        return HAM\n",
    "    else:\n",
    "        return ABSTAIN"
   ]
  },
  {
   "cell_type": "markdown",
   "metadata": {},
   "source": [
    "**Adding new domain-specific preprocessors and LF types is a great way to contribute to Snorkel!\n",
    "If you have an idea, feel free to reach out to the maintainers or submit a PR!**"
   ]
  },
  {
   "cell_type": "markdown",
   "metadata": {},
   "source": [
    "### e) Third-party Model LFs"
   ]
  },
  {
   "cell_type": "markdown",
   "metadata": {},
   "source": [
    "We can also utilize other models, including ones trained for other tasks that are related to, but not the same as, the one we care about.\n",
    "The TextBlob-based LFs we created above are great examples of this!"
   ]
  },
  {
   "cell_type": "markdown",
   "metadata": {},
   "source": [
    "## 4. Combining Labeling Function Outputs with the Label Model"
   ]
  },
  {
   "cell_type": "markdown",
   "metadata": {},
   "source": [
    "This tutorial demonstrates just a handful of the types of LFs that one might write for this task.\n",
    "One of the key goals of Snorkel is _not_ to replace the effort, creativity, and subject matter expertise required to come up with these labeling functions, but rather to make it faster to write them, since **in Snorkel the labeling functions are assumed to be noisy, i.e. innaccurate, overlapping, etc.**\n",
    "Said another way: the LF abstraction provides a flexible interface for conveying a huge variety of supervision signals, and the `LabelModel` is able to denoise these signals, reducing the need for painstaking manual fine-tuning."
   ]
  },
  {
   "cell_type": "code",
   "execution_count": 29,
   "metadata": {},
   "outputs": [],
   "source": [
    "lfs = [\n",
    "    keyword_my,\n",
    "    keyword_subscribe,\n",
    "    keyword_link,\n",
    "    keyword_please,\n",
    "    keyword_song,\n",
    "    regex_check_out,\n",
    "    short_comment,\n",
    "    has_person_nlp,\n",
    "    textblob_polarity,\n",
    "    textblob_subjectivity,\n",
    "]"
   ]
  },
  {
   "cell_type": "markdown",
   "metadata": {},
   "source": [
    "With our full set of LFs, we can now apply these once again with `LFApplier` to get the label matrices.\n",
    "The Pandas format provides an easy interface that many practitioners are familiar with, but it is also less optimized for scale.\n",
    "For larger datasets, more compute-intensive LFs, or larger LF sets, you may decide to use one of the other data formats\n",
    "that Snorkel supports natively, such as Dask DataFrames or PySpark DataFrames, and their corresponding applier objects.\n",
    "For more info, check out the [Snorkel API documentation](https://snorkel.readthedocs.io/en/master/packages/labeling.html)."
   ]
  },
  {
   "cell_type": "code",
   "execution_count": 30,
   "metadata": {
    "tags": [
     "md-exclude-output"
    ]
   },
   "outputs": [
    {
     "name": "stderr",
     "output_type": "stream",
     "text": [
      "100%|█████████████████████████████████████████████████████████████████████████████████████████████████████████████████████████████████████████████████████████████████████████████████████████████| 1586/1586 [00:14<00:00, 108.12it/s]\n",
      "100%|████████████████████████████████████████████████████████████████████████████████████████████████████████████████████████████████████████████████████████████████████████████████████████████████| 250/250 [00:03<00:00, 79.80it/s]\n"
     ]
    },
    {
     "name": "stderr",
     "output_type": "stream",
     "text": [
      "\r",
      "  4%|▍         | 71/1586 [00:00<00:13, 111.41it/s]"
     ]
    },
    {
     "name": "stderr",
     "output_type": "stream",
     "text": [
      "\r",
      "  5%|▌         | 84/1586 [00:00<00:13, 113.96it/s]"
     ]
    },
    {
     "name": "stderr",
     "output_type": "stream",
     "text": [
      "\r",
      "  6%|▌         | 96/1586 [00:00<00:13, 114.40it/s]"
     ]
    },
    {
     "name": "stderr",
     "output_type": "stream",
     "text": [
      "\r",
      "  7%|▋         | 107/1586 [00:00<00:13, 109.98it/s]"
     ]
    },
    {
     "name": "stderr",
     "output_type": "stream",
     "text": [
      "\r",
      "  8%|▊         | 119/1586 [00:01<00:13, 111.29it/s]"
     ]
    },
    {
     "name": "stderr",
     "output_type": "stream",
     "text": [
      "\r",
      "  8%|▊         | 131/1586 [00:01<00:13, 111.40it/s]"
     ]
    },
    {
     "name": "stderr",
     "output_type": "stream",
     "text": [
      "\r",
      "  9%|▉         | 143/1586 [00:01<00:12, 112.94it/s]"
     ]
    },
    {
     "name": "stderr",
     "output_type": "stream",
     "text": [
      "\r",
      " 10%|▉         | 156/1586 [00:01<00:12, 116.31it/s]"
     ]
    },
    {
     "name": "stderr",
     "output_type": "stream",
     "text": [
      "\r",
      " 11%|█         | 169/1586 [00:01<00:12, 117.59it/s]"
     ]
    },
    {
     "name": "stderr",
     "output_type": "stream",
     "text": [
      "\r",
      " 11%|█▏        | 181/1586 [00:01<00:13, 104.63it/s]"
     ]
    },
    {
     "name": "stderr",
     "output_type": "stream",
     "text": [
      "\r",
      " 12%|█▏        | 192/1586 [00:01<00:13, 104.67it/s]"
     ]
    },
    {
     "name": "stderr",
     "output_type": "stream",
     "text": [
      "\r",
      " 13%|█▎        | 204/1586 [00:01<00:12, 107.12it/s]"
     ]
    },
    {
     "name": "stderr",
     "output_type": "stream",
     "text": [
      "\r",
      " 14%|█▎        | 217/1586 [00:01<00:12, 111.06it/s]"
     ]
    },
    {
     "name": "stderr",
     "output_type": "stream",
     "text": [
      "\r",
      " 14%|█▍        | 229/1586 [00:02<00:12, 111.82it/s]"
     ]
    },
    {
     "name": "stderr",
     "output_type": "stream",
     "text": [
      "\r",
      " 15%|█▌        | 242/1586 [00:02<00:11, 113.51it/s]"
     ]
    },
    {
     "name": "stderr",
     "output_type": "stream",
     "text": [
      "\r",
      " 16%|█▌        | 254/1586 [00:02<00:11, 111.45it/s]"
     ]
    },
    {
     "name": "stderr",
     "output_type": "stream",
     "text": [
      "\r",
      " 17%|█▋        | 266/1586 [00:02<00:11, 112.79it/s]"
     ]
    },
    {
     "name": "stderr",
     "output_type": "stream",
     "text": [
      "\r",
      " 18%|█▊        | 278/1586 [00:02<00:11, 114.08it/s]"
     ]
    },
    {
     "name": "stderr",
     "output_type": "stream",
     "text": [
      "\r",
      " 18%|█▊        | 290/1586 [00:02<00:11, 114.91it/s]"
     ]
    },
    {
     "name": "stderr",
     "output_type": "stream",
     "text": [
      "\r",
      " 19%|█▉        | 302/1586 [00:02<00:11, 110.89it/s]"
     ]
    },
    {
     "name": "stderr",
     "output_type": "stream",
     "text": [
      "\r",
      " 20%|█▉        | 314/1586 [00:02<00:11, 111.17it/s]"
     ]
    },
    {
     "name": "stderr",
     "output_type": "stream",
     "text": [
      "\r",
      " 21%|██        | 327/1586 [00:02<00:11, 114.35it/s]"
     ]
    },
    {
     "name": "stderr",
     "output_type": "stream",
     "text": [
      "\r",
      " 21%|██▏       | 339/1586 [00:03<00:10, 115.69it/s]"
     ]
    },
    {
     "name": "stderr",
     "output_type": "stream",
     "text": [
      "\r",
      " 22%|██▏       | 353/1586 [00:03<00:10, 119.82it/s]"
     ]
    },
    {
     "name": "stderr",
     "output_type": "stream",
     "text": [
      "\r",
      " 23%|██▎       | 366/1586 [00:03<00:10, 114.04it/s]"
     ]
    },
    {
     "name": "stderr",
     "output_type": "stream",
     "text": [
      "\r",
      " 24%|██▍       | 378/1586 [00:03<00:10, 110.82it/s]"
     ]
    },
    {
     "name": "stderr",
     "output_type": "stream",
     "text": [
      "\r",
      " 25%|██▍       | 390/1586 [00:03<00:10, 112.81it/s]"
     ]
    },
    {
     "name": "stderr",
     "output_type": "stream",
     "text": [
      "\r",
      " 25%|██▌       | 402/1586 [00:03<00:11, 105.16it/s]"
     ]
    },
    {
     "name": "stderr",
     "output_type": "stream",
     "text": [
      "\r",
      " 26%|██▌       | 414/1586 [00:03<00:10, 106.96it/s]"
     ]
    },
    {
     "name": "stderr",
     "output_type": "stream",
     "text": [
      "\r",
      " 27%|██▋       | 426/1586 [00:03<00:10, 109.86it/s]"
     ]
    },
    {
     "name": "stderr",
     "output_type": "stream",
     "text": [
      "\r",
      " 28%|██▊       | 438/1586 [00:03<00:10, 108.78it/s]"
     ]
    },
    {
     "name": "stderr",
     "output_type": "stream",
     "text": [
      "\r",
      " 28%|██▊       | 450/1586 [00:04<00:10, 110.39it/s]"
     ]
    },
    {
     "name": "stderr",
     "output_type": "stream",
     "text": [
      "\r",
      " 29%|██▉       | 462/1586 [00:04<00:10, 109.25it/s]"
     ]
    },
    {
     "name": "stderr",
     "output_type": "stream",
     "text": [
      "\r",
      " 30%|██▉       | 474/1586 [00:04<00:10, 107.52it/s]"
     ]
    },
    {
     "name": "stderr",
     "output_type": "stream",
     "text": [
      "\r",
      " 31%|███       | 485/1586 [00:04<00:10, 106.08it/s]"
     ]
    },
    {
     "name": "stderr",
     "output_type": "stream",
     "text": [
      "\r",
      " 31%|███▏      | 496/1586 [00:04<00:10, 105.75it/s]"
     ]
    },
    {
     "name": "stderr",
     "output_type": "stream",
     "text": [
      "\r",
      " 32%|███▏      | 508/1586 [00:04<00:09, 109.13it/s]"
     ]
    },
    {
     "name": "stderr",
     "output_type": "stream",
     "text": [
      "\r",
      " 33%|███▎      | 519/1586 [00:04<00:09, 107.14it/s]"
     ]
    },
    {
     "name": "stderr",
     "output_type": "stream",
     "text": [
      "\r",
      " 33%|███▎      | 530/1586 [00:04<00:09, 106.07it/s]"
     ]
    },
    {
     "name": "stderr",
     "output_type": "stream",
     "text": [
      "\r",
      " 34%|███▍      | 541/1586 [00:04<00:09, 104.69it/s]"
     ]
    },
    {
     "name": "stderr",
     "output_type": "stream",
     "text": [
      "\r",
      " 35%|███▍      | 552/1586 [00:04<00:09, 105.42it/s]"
     ]
    },
    {
     "name": "stderr",
     "output_type": "stream",
     "text": [
      "\r",
      " 36%|███▌      | 564/1586 [00:05<00:09, 107.41it/s]"
     ]
    },
    {
     "name": "stderr",
     "output_type": "stream",
     "text": [
      "\r",
      " 36%|███▋      | 575/1586 [00:05<00:09, 107.96it/s]"
     ]
    },
    {
     "name": "stderr",
     "output_type": "stream",
     "text": [
      "\r",
      " 37%|███▋      | 587/1586 [00:05<00:09, 110.02it/s]"
     ]
    },
    {
     "name": "stderr",
     "output_type": "stream",
     "text": [
      "\r",
      " 38%|███▊      | 599/1586 [00:05<00:08, 110.41it/s]"
     ]
    },
    {
     "name": "stderr",
     "output_type": "stream",
     "text": [
      "\r",
      " 39%|███▊      | 611/1586 [00:05<00:08, 110.71it/s]"
     ]
    },
    {
     "name": "stderr",
     "output_type": "stream",
     "text": [
      "\r",
      " 39%|███▉      | 623/1586 [00:05<00:08, 110.28it/s]"
     ]
    },
    {
     "name": "stderr",
     "output_type": "stream",
     "text": [
      "\r",
      " 40%|████      | 635/1586 [00:05<00:08, 110.72it/s]"
     ]
    },
    {
     "name": "stderr",
     "output_type": "stream",
     "text": [
      "\r",
      " 41%|████      | 647/1586 [00:05<00:08, 109.47it/s]"
     ]
    },
    {
     "name": "stderr",
     "output_type": "stream",
     "text": [
      "\r",
      " 41%|████▏     | 658/1586 [00:05<00:08, 108.16it/s]"
     ]
    },
    {
     "name": "stderr",
     "output_type": "stream",
     "text": [
      "\r",
      " 42%|████▏     | 670/1586 [00:06<00:08, 109.78it/s]"
     ]
    },
    {
     "name": "stderr",
     "output_type": "stream",
     "text": [
      "\r",
      " 43%|████▎     | 681/1586 [00:06<00:08, 107.79it/s]"
     ]
    },
    {
     "name": "stderr",
     "output_type": "stream",
     "text": [
      "\r",
      " 44%|████▎     | 693/1586 [00:06<00:08, 107.05it/s]"
     ]
    },
    {
     "name": "stderr",
     "output_type": "stream",
     "text": [
      "\r",
      " 45%|████▍     | 707/1586 [00:06<00:07, 112.40it/s]"
     ]
    },
    {
     "name": "stderr",
     "output_type": "stream",
     "text": [
      "\r",
      " 45%|████▌     | 720/1586 [00:06<00:07, 115.54it/s]"
     ]
    },
    {
     "name": "stderr",
     "output_type": "stream",
     "text": [
      "\r",
      " 46%|████▋     | 734/1586 [00:06<00:07, 120.51it/s]"
     ]
    },
    {
     "name": "stderr",
     "output_type": "stream",
     "text": [
      "\r",
      " 47%|████▋     | 747/1586 [00:06<00:07, 116.75it/s]"
     ]
    },
    {
     "name": "stderr",
     "output_type": "stream",
     "text": [
      "\r",
      " 48%|████▊     | 760/1586 [00:06<00:06, 120.14it/s]"
     ]
    },
    {
     "name": "stderr",
     "output_type": "stream",
     "text": [
      "\r",
      " 49%|████▉     | 774/1586 [00:06<00:06, 122.89it/s]"
     ]
    },
    {
     "name": "stderr",
     "output_type": "stream",
     "text": [
      "\r",
      " 50%|████▉     | 788/1586 [00:07<00:06, 125.86it/s]"
     ]
    },
    {
     "name": "stderr",
     "output_type": "stream",
     "text": [
      "\r",
      " 51%|█████     | 801/1586 [00:07<00:06, 122.47it/s]"
     ]
    },
    {
     "name": "stderr",
     "output_type": "stream",
     "text": [
      "\r",
      " 51%|█████▏    | 815/1586 [00:07<00:06, 124.93it/s]"
     ]
    },
    {
     "name": "stderr",
     "output_type": "stream",
     "text": [
      "\r",
      " 52%|█████▏    | 829/1586 [00:07<00:05, 129.09it/s]"
     ]
    },
    {
     "name": "stderr",
     "output_type": "stream",
     "text": [
      "\r",
      " 53%|█████▎    | 844/1586 [00:07<00:05, 132.43it/s]"
     ]
    },
    {
     "name": "stderr",
     "output_type": "stream",
     "text": [
      "\r",
      " 54%|█████▍    | 858/1586 [00:07<00:05, 133.46it/s]"
     ]
    },
    {
     "name": "stderr",
     "output_type": "stream",
     "text": [
      "\r",
      " 55%|█████▍    | 872/1586 [00:07<00:05, 131.08it/s]"
     ]
    },
    {
     "name": "stderr",
     "output_type": "stream",
     "text": [
      "\r",
      " 56%|█████▌    | 886/1586 [00:07<00:05, 132.37it/s]"
     ]
    },
    {
     "name": "stderr",
     "output_type": "stream",
     "text": [
      "\r",
      " 57%|█████▋    | 900/1586 [00:07<00:05, 128.04it/s]"
     ]
    },
    {
     "name": "stderr",
     "output_type": "stream",
     "text": [
      "\r",
      " 58%|█████▊    | 913/1586 [00:08<00:05, 127.66it/s]"
     ]
    },
    {
     "name": "stderr",
     "output_type": "stream",
     "text": [
      "\r",
      " 58%|█████▊    | 926/1586 [00:08<00:05, 127.72it/s]"
     ]
    },
    {
     "name": "stderr",
     "output_type": "stream",
     "text": [
      "\r",
      " 59%|█████▉    | 939/1586 [00:08<00:05, 115.37it/s]"
     ]
    },
    {
     "name": "stderr",
     "output_type": "stream",
     "text": [
      "\r",
      " 60%|██████    | 952/1586 [00:08<00:05, 119.37it/s]"
     ]
    },
    {
     "name": "stderr",
     "output_type": "stream",
     "text": [
      "\r",
      " 61%|██████    | 965/1586 [00:08<00:05, 120.78it/s]"
     ]
    },
    {
     "name": "stderr",
     "output_type": "stream",
     "text": [
      "\r",
      " 62%|██████▏   | 978/1586 [00:08<00:05, 118.90it/s]"
     ]
    },
    {
     "name": "stderr",
     "output_type": "stream",
     "text": [
      "\r",
      " 62%|██████▏   | 991/1586 [00:08<00:04, 119.75it/s]"
     ]
    },
    {
     "name": "stderr",
     "output_type": "stream",
     "text": [
      "\r",
      " 63%|██████▎   | 1004/1586 [00:08<00:04, 122.11it/s]"
     ]
    },
    {
     "name": "stderr",
     "output_type": "stream",
     "text": [
      "\r",
      " 64%|██████▍   | 1017/1586 [00:08<00:04, 121.74it/s]"
     ]
    },
    {
     "name": "stderr",
     "output_type": "stream",
     "text": [
      "\r",
      " 65%|██████▍   | 1030/1586 [00:08<00:04, 122.95it/s]"
     ]
    },
    {
     "name": "stderr",
     "output_type": "stream",
     "text": [
      "\r",
      " 66%|██████▌   | 1043/1586 [00:09<00:04, 117.37it/s]"
     ]
    },
    {
     "name": "stderr",
     "output_type": "stream",
     "text": [
      "\r",
      " 67%|██████▋   | 1056/1586 [00:09<00:04, 119.77it/s]"
     ]
    },
    {
     "name": "stderr",
     "output_type": "stream",
     "text": [
      "\r",
      " 67%|██████▋   | 1069/1586 [00:09<00:04, 122.17it/s]"
     ]
    },
    {
     "name": "stderr",
     "output_type": "stream",
     "text": [
      "\r",
      " 68%|██████▊   | 1082/1586 [00:09<00:04, 120.04it/s]"
     ]
    },
    {
     "name": "stderr",
     "output_type": "stream",
     "text": [
      "\r",
      " 69%|██████▉   | 1095/1586 [00:09<00:04, 118.94it/s]"
     ]
    },
    {
     "name": "stderr",
     "output_type": "stream",
     "text": [
      "\r",
      " 70%|██████▉   | 1107/1586 [00:09<00:04, 119.06it/s]"
     ]
    },
    {
     "name": "stderr",
     "output_type": "stream",
     "text": [
      "\r",
      " 71%|███████   | 1119/1586 [00:09<00:04, 113.71it/s]"
     ]
    },
    {
     "name": "stderr",
     "output_type": "stream",
     "text": [
      "\r",
      " 71%|███████▏  | 1131/1586 [00:09<00:03, 115.03it/s]"
     ]
    },
    {
     "name": "stderr",
     "output_type": "stream",
     "text": [
      "\r",
      " 72%|███████▏  | 1144/1586 [00:09<00:03, 117.57it/s]"
     ]
    },
    {
     "name": "stderr",
     "output_type": "stream",
     "text": [
      "\r",
      " 73%|███████▎  | 1156/1586 [00:10<00:03, 117.18it/s]"
     ]
    },
    {
     "name": "stderr",
     "output_type": "stream",
     "text": [
      "\r",
      " 74%|███████▎  | 1168/1586 [00:10<00:03, 111.27it/s]"
     ]
    },
    {
     "name": "stderr",
     "output_type": "stream",
     "text": [
      "\r",
      " 74%|███████▍  | 1180/1586 [00:10<00:03, 113.62it/s]"
     ]
    },
    {
     "name": "stderr",
     "output_type": "stream",
     "text": [
      "\r",
      " 75%|███████▌  | 1193/1586 [00:10<00:03, 115.87it/s]"
     ]
    },
    {
     "name": "stderr",
     "output_type": "stream",
     "text": [
      "\r",
      " 76%|███████▌  | 1205/1586 [00:10<00:03, 111.72it/s]"
     ]
    },
    {
     "name": "stderr",
     "output_type": "stream",
     "text": [
      "\r",
      " 77%|███████▋  | 1218/1586 [00:10<00:03, 116.45it/s]"
     ]
    },
    {
     "name": "stderr",
     "output_type": "stream",
     "text": [
      "\r",
      " 78%|███████▊  | 1231/1586 [00:10<00:03, 118.14it/s]"
     ]
    },
    {
     "name": "stderr",
     "output_type": "stream",
     "text": [
      "\r",
      " 78%|███████▊  | 1243/1586 [00:10<00:03, 109.54it/s]"
     ]
    },
    {
     "name": "stderr",
     "output_type": "stream",
     "text": [
      "\r",
      " 79%|███████▉  | 1256/1586 [00:10<00:03, 109.97it/s]"
     ]
    },
    {
     "name": "stderr",
     "output_type": "stream",
     "text": [
      "\r",
      " 80%|███████▉  | 1268/1586 [00:11<00:02, 111.28it/s]"
     ]
    },
    {
     "name": "stderr",
     "output_type": "stream",
     "text": [
      "\r",
      " 81%|████████  | 1280/1586 [00:11<00:02, 112.82it/s]"
     ]
    },
    {
     "name": "stderr",
     "output_type": "stream",
     "text": [
      "\r",
      " 81%|████████▏ | 1292/1586 [00:11<00:02, 110.21it/s]"
     ]
    },
    {
     "name": "stderr",
     "output_type": "stream",
     "text": [
      "\r",
      " 82%|████████▏ | 1304/1586 [00:11<00:02, 101.67it/s]"
     ]
    },
    {
     "name": "stderr",
     "output_type": "stream",
     "text": [
      "\r",
      " 83%|████████▎ | 1315/1586 [00:11<00:02, 103.86it/s]"
     ]
    },
    {
     "name": "stderr",
     "output_type": "stream",
     "text": [
      "\r",
      " 84%|████████▎ | 1328/1586 [00:11<00:02, 107.64it/s]"
     ]
    },
    {
     "name": "stderr",
     "output_type": "stream",
     "text": [
      "\r",
      " 84%|████████▍ | 1340/1586 [00:11<00:02, 110.60it/s]"
     ]
    },
    {
     "name": "stderr",
     "output_type": "stream",
     "text": [
      "\r",
      " 85%|████████▌ | 1352/1586 [00:11<00:02, 108.03it/s]"
     ]
    },
    {
     "name": "stderr",
     "output_type": "stream",
     "text": [
      "\r",
      " 86%|████████▌ | 1364/1586 [00:11<00:02, 110.15it/s]"
     ]
    },
    {
     "name": "stderr",
     "output_type": "stream",
     "text": [
      "\r",
      " 87%|████████▋ | 1376/1586 [00:12<00:01, 108.59it/s]"
     ]
    },
    {
     "name": "stderr",
     "output_type": "stream",
     "text": [
      "\r",
      " 88%|████████▊ | 1388/1586 [00:12<00:01, 110.90it/s]"
     ]
    },
    {
     "name": "stderr",
     "output_type": "stream",
     "text": [
      "\r",
      " 88%|████████▊ | 1400/1586 [00:12<00:01, 107.37it/s]"
     ]
    },
    {
     "name": "stderr",
     "output_type": "stream",
     "text": [
      "\r",
      " 89%|████████▉ | 1413/1586 [00:12<00:01, 112.88it/s]"
     ]
    },
    {
     "name": "stderr",
     "output_type": "stream",
     "text": [
      "\r",
      " 90%|████████▉ | 1425/1586 [00:12<00:01, 111.91it/s]"
     ]
    },
    {
     "name": "stderr",
     "output_type": "stream",
     "text": [
      "\r",
      " 91%|█████████ | 1437/1586 [00:12<00:01, 80.12it/s] "
     ]
    },
    {
     "name": "stderr",
     "output_type": "stream",
     "text": [
      "\r",
      " 91%|█████████ | 1447/1586 [00:12<00:01, 82.14it/s]"
     ]
    },
    {
     "name": "stderr",
     "output_type": "stream",
     "text": [
      "\r",
      " 92%|█████████▏| 1458/1586 [00:12<00:01, 88.16it/s]"
     ]
    },
    {
     "name": "stderr",
     "output_type": "stream",
     "text": [
      "\r",
      " 93%|█████████▎| 1469/1586 [00:13<00:01, 92.92it/s]"
     ]
    },
    {
     "name": "stderr",
     "output_type": "stream",
     "text": [
      "\r",
      " 93%|█████████▎| 1481/1586 [00:13<00:01, 95.25it/s]"
     ]
    },
    {
     "name": "stderr",
     "output_type": "stream",
     "text": [
      "\r",
      " 94%|█████████▍| 1491/1586 [00:13<00:00, 95.78it/s]"
     ]
    },
    {
     "name": "stderr",
     "output_type": "stream",
     "text": [
      "\r",
      " 95%|█████████▍| 1501/1586 [00:13<00:00, 94.34it/s]"
     ]
    },
    {
     "name": "stderr",
     "output_type": "stream",
     "text": [
      "\r",
      " 95%|█████████▌| 1512/1586 [00:13<00:00, 96.69it/s]"
     ]
    },
    {
     "name": "stderr",
     "output_type": "stream",
     "text": [
      "\r",
      " 96%|█████████▌| 1523/1586 [00:13<00:00, 97.64it/s]"
     ]
    },
    {
     "name": "stderr",
     "output_type": "stream",
     "text": [
      "\r",
      " 97%|█████████▋| 1536/1586 [00:13<00:00, 105.43it/s]"
     ]
    },
    {
     "name": "stderr",
     "output_type": "stream",
     "text": [
      "\r",
      " 98%|█████████▊| 1549/1586 [00:13<00:00, 111.38it/s]"
     ]
    },
    {
     "name": "stderr",
     "output_type": "stream",
     "text": [
      "\r",
      " 98%|█████████▊| 1561/1586 [00:13<00:00, 100.09it/s]"
     ]
    },
    {
     "name": "stderr",
     "output_type": "stream",
     "text": [
      "\r",
      " 99%|█████████▉| 1574/1586 [00:14<00:00, 105.81it/s]"
     ]
    },
    {
     "name": "stderr",
     "output_type": "stream",
     "text": [
      "\r",
      "100%|█████████▉| 1585/1586 [00:14<00:00, 106.52it/s]"
     ]
    },
    {
     "name": "stderr",
     "output_type": "stream",
     "text": [
      "\r",
      "100%|██████████| 1586/1586 [00:14<00:00, 111.71it/s]"
     ]
    },
    {
     "name": "stderr",
     "output_type": "stream",
     "text": [
      "\n",
      "\r",
      "  0%|          | 0/250 [00:00<?, ?it/s]"
     ]
    },
    {
     "name": "stderr",
     "output_type": "stream",
     "text": [
      "\r",
      "  4%|▍         | 11/250 [00:00<00:02, 107.51it/s]"
     ]
    },
    {
     "name": "stderr",
     "output_type": "stream",
     "text": [
      "\r",
      "  9%|▉         | 22/250 [00:00<00:02, 107.55it/s]"
     ]
    },
    {
     "name": "stderr",
     "output_type": "stream",
     "text": [
      "\r",
      " 13%|█▎        | 32/250 [00:00<00:02, 104.08it/s]"
     ]
    },
    {
     "name": "stderr",
     "output_type": "stream",
     "text": [
      "\r",
      " 17%|█▋        | 42/250 [00:00<00:02, 100.42it/s]"
     ]
    },
    {
     "name": "stderr",
     "output_type": "stream",
     "text": [
      "\r",
      " 20%|██        | 50/250 [00:00<00:02, 92.83it/s] "
     ]
    },
    {
     "name": "stderr",
     "output_type": "stream",
     "text": [
      "\r",
      " 24%|██▍       | 60/250 [00:00<00:02, 94.69it/s]"
     ]
    },
    {
     "name": "stderr",
     "output_type": "stream",
     "text": [
      "\r",
      " 28%|██▊       | 70/250 [00:00<00:01, 94.09it/s]"
     ]
    },
    {
     "name": "stderr",
     "output_type": "stream",
     "text": [
      "\r",
      " 32%|███▏      | 80/250 [00:00<00:01, 95.43it/s]"
     ]
    },
    {
     "name": "stderr",
     "output_type": "stream",
     "text": [
      "\r",
      " 36%|███▋      | 91/250 [00:00<00:01, 98.12it/s]"
     ]
    },
    {
     "name": "stderr",
     "output_type": "stream",
     "text": [
      "\r",
      " 40%|████      | 101/250 [00:01<00:01, 97.75it/s]"
     ]
    },
    {
     "name": "stderr",
     "output_type": "stream",
     "text": [
      "\r",
      " 44%|████▍     | 111/250 [00:01<00:01, 94.96it/s]"
     ]
    },
    {
     "name": "stderr",
     "output_type": "stream",
     "text": [
      "\r",
      " 49%|████▉     | 122/250 [00:01<00:01, 95.00it/s]"
     ]
    },
    {
     "name": "stderr",
     "output_type": "stream",
     "text": [
      "\r",
      " 53%|█████▎    | 133/250 [00:01<00:01, 98.41it/s]"
     ]
    },
    {
     "name": "stderr",
     "output_type": "stream",
     "text": [
      "\r",
      " 57%|█████▋    | 143/250 [00:01<00:01, 94.15it/s]"
     ]
    },
    {
     "name": "stderr",
     "output_type": "stream",
     "text": [
      "\r",
      " 62%|██████▏   | 154/250 [00:01<00:00, 96.50it/s]"
     ]
    },
    {
     "name": "stderr",
     "output_type": "stream",
     "text": [
      "\r",
      " 66%|██████▌   | 164/250 [00:01<00:00, 92.37it/s]"
     ]
    },
    {
     "name": "stderr",
     "output_type": "stream",
     "text": [
      "\r",
      " 70%|██████▉   | 174/250 [00:01<00:00, 93.19it/s]"
     ]
    },
    {
     "name": "stderr",
     "output_type": "stream",
     "text": [
      "\r",
      " 74%|███████▎  | 184/250 [00:01<00:00, 94.94it/s]"
     ]
    },
    {
     "name": "stderr",
     "output_type": "stream",
     "text": [
      "\r",
      " 78%|███████▊  | 194/250 [00:02<00:00, 88.02it/s]"
     ]
    },
    {
     "name": "stderr",
     "output_type": "stream",
     "text": [
      "\r",
      " 82%|████████▏ | 204/250 [00:02<00:00, 91.20it/s]"
     ]
    },
    {
     "name": "stderr",
     "output_type": "stream",
     "text": [
      "\r",
      " 86%|████████▌ | 214/250 [00:02<00:00, 92.44it/s]"
     ]
    },
    {
     "name": "stderr",
     "output_type": "stream",
     "text": [
      "\r",
      " 90%|█████████ | 226/250 [00:02<00:00, 98.72it/s]"
     ]
    },
    {
     "name": "stderr",
     "output_type": "stream",
     "text": [
      "\r",
      " 95%|█████████▍| 237/250 [00:02<00:00, 95.82it/s]"
     ]
    },
    {
     "name": "stderr",
     "output_type": "stream",
     "text": [
      "\r",
      " 99%|█████████▉| 248/250 [00:02<00:00, 98.64it/s]"
     ]
    },
    {
     "name": "stderr",
     "output_type": "stream",
     "text": [
      "\r",
      "100%|██████████| 250/250 [00:02<00:00, 95.46it/s]"
     ]
    },
    {
     "name": "stderr",
     "output_type": "stream",
     "text": [
      "\n"
     ]
    }
   ],
   "source": [
    "applier = PandasLFApplier(lfs=lfs)\n",
    "L_train = applier.apply(df=df_train)\n",
    "L_test = applier.apply(df=df_test)"
   ]
  },
  {
   "cell_type": "code",
   "execution_count": 31,
   "metadata": {},
   "outputs": [
    {
     "data": {
      "text/html": [
       "<div>\n",
       "<style scoped>\n",
       "    .dataframe tbody tr th:only-of-type {\n",
       "        vertical-align: middle;\n",
       "    }\n",
       "\n",
       "    .dataframe tbody tr th {\n",
       "        vertical-align: top;\n",
       "    }\n",
       "\n",
       "    .dataframe thead th {\n",
       "        text-align: right;\n",
       "    }\n",
       "</style>\n",
       "<table border=\"1\" class=\"dataframe\">\n",
       "  <thead>\n",
       "    <tr style=\"text-align: right;\">\n",
       "      <th></th>\n",
       "      <th>j</th>\n",
       "      <th>Polarity</th>\n",
       "      <th>Coverage</th>\n",
       "      <th>Overlaps</th>\n",
       "      <th>Conflicts</th>\n",
       "    </tr>\n",
       "  </thead>\n",
       "  <tbody>\n",
       "    <tr>\n",
       "      <th>keyword_my</th>\n",
       "      <td>0</td>\n",
       "      <td>[1]</td>\n",
       "      <td>0.198613</td>\n",
       "      <td>0.186003</td>\n",
       "      <td>0.110971</td>\n",
       "    </tr>\n",
       "    <tr>\n",
       "      <th>keyword_subscribe</th>\n",
       "      <td>1</td>\n",
       "      <td>[1]</td>\n",
       "      <td>0.127364</td>\n",
       "      <td>0.107188</td>\n",
       "      <td>0.067465</td>\n",
       "    </tr>\n",
       "    <tr>\n",
       "      <th>keyword_http</th>\n",
       "      <td>2</td>\n",
       "      <td>[1]</td>\n",
       "      <td>0.119168</td>\n",
       "      <td>0.101513</td>\n",
       "      <td>0.082598</td>\n",
       "    </tr>\n",
       "    <tr>\n",
       "      <th>keyword_please</th>\n",
       "      <td>3</td>\n",
       "      <td>[1]</td>\n",
       "      <td>0.112232</td>\n",
       "      <td>0.109710</td>\n",
       "      <td>0.057377</td>\n",
       "    </tr>\n",
       "    <tr>\n",
       "      <th>keyword_song</th>\n",
       "      <td>4</td>\n",
       "      <td>[0]</td>\n",
       "      <td>0.141866</td>\n",
       "      <td>0.111602</td>\n",
       "      <td>0.043506</td>\n",
       "    </tr>\n",
       "    <tr>\n",
       "      <th>regex_check_out</th>\n",
       "      <td>5</td>\n",
       "      <td>[1]</td>\n",
       "      <td>0.233922</td>\n",
       "      <td>0.129256</td>\n",
       "      <td>0.083859</td>\n",
       "    </tr>\n",
       "    <tr>\n",
       "      <th>short_comment</th>\n",
       "      <td>6</td>\n",
       "      <td>[0]</td>\n",
       "      <td>0.225725</td>\n",
       "      <td>0.144388</td>\n",
       "      <td>0.074401</td>\n",
       "    </tr>\n",
       "    <tr>\n",
       "      <th>has_person_nlp</th>\n",
       "      <td>7</td>\n",
       "      <td>[0]</td>\n",
       "      <td>0.083859</td>\n",
       "      <td>0.062421</td>\n",
       "      <td>0.027743</td>\n",
       "    </tr>\n",
       "    <tr>\n",
       "      <th>textblob_polarity</th>\n",
       "      <td>8</td>\n",
       "      <td>[0]</td>\n",
       "      <td>0.035309</td>\n",
       "      <td>0.030895</td>\n",
       "      <td>0.005044</td>\n",
       "    </tr>\n",
       "    <tr>\n",
       "      <th>textblob_subjectivity</th>\n",
       "      <td>9</td>\n",
       "      <td>[0]</td>\n",
       "      <td>0.357503</td>\n",
       "      <td>0.261665</td>\n",
       "      <td>0.160151</td>\n",
       "    </tr>\n",
       "  </tbody>\n",
       "</table>\n",
       "</div>"
      ],
      "text/plain": [
       "                       j Polarity  Coverage  Overlaps  Conflicts\n",
       "keyword_my             0      [1]  0.198613  0.186003   0.110971\n",
       "keyword_subscribe      1      [1]  0.127364  0.107188   0.067465\n",
       "keyword_http           2      [1]  0.119168  0.101513   0.082598\n",
       "keyword_please         3      [1]  0.112232  0.109710   0.057377\n",
       "keyword_song           4      [0]  0.141866  0.111602   0.043506\n",
       "regex_check_out        5      [1]  0.233922  0.129256   0.083859\n",
       "short_comment          6      [0]  0.225725  0.144388   0.074401\n",
       "has_person_nlp         7      [0]  0.083859  0.062421   0.027743\n",
       "textblob_polarity      8      [0]  0.035309  0.030895   0.005044\n",
       "textblob_subjectivity  9      [0]  0.357503  0.261665   0.160151"
      ]
     },
     "execution_count": 31,
     "metadata": {},
     "output_type": "execute_result"
    }
   ],
   "source": [
    "LFAnalysis(L=L_train, lfs=lfs).lf_summary()"
   ]
  },
  {
   "cell_type": "markdown",
   "metadata": {
    "tags": [
     "md-exclude"
    ]
   },
   "source": [
    "We see that our labeling functions vary in coverage, how much they overlap/conflict with one another, and almost certainly their accuracies as well.\n",
    "We can view a histogram of how many LF labels the data points in our train set have to get an idea of our total coverage."
   ]
  },
  {
   "cell_type": "code",
   "execution_count": 32,
   "metadata": {
    "tags": [
     "md-exclude"
    ]
   },
   "outputs": [
    {
     "data": {
      "image/png": "[encoded data removed]",
      "text/plain": [
       "<Figure size 640x480 with 1 Axes>"
      ]
     },
     "metadata": {},
     "output_type": "display_data"
    }
   ],
   "source": [
    "import matplotlib.pyplot as plt\n",
    "\n",
    "%matplotlib inline\n",
    "\n",
    "\n",
    "def plot_label_frequency(L):\n",
    "    plt.hist((L != ABSTAIN).sum(axis=1), density=True, bins=range(L.shape[1]))\n",
    "    plt.xlabel(\"Number of labels\")\n",
    "    plt.ylabel(\"Fraction of dataset\")\n",
    "    plt.show()\n",
    "\n",
    "\n",
    "plot_label_frequency(L_train)"
   ]
  },
  {
   "cell_type": "markdown",
   "metadata": {
    "tags": [
     "md-exclude"
    ]
   },
   "source": [
    "We see that over half of our `train` dataset data points have 2 or fewer labels from LFs.\n",
    "Fortunately, the labels we do have can be used to train a classifier over the comment text directly, allowing this final machine learning model to generalize beyond what our labeling functions labeling."
   ]
  },
  {
   "cell_type": "markdown",
   "metadata": {},
   "source": [
    "Our goal is now to convert the labels from our LFs into a single _noise-aware_ probabilistic (or confidence-weighted) label per data point.\n",
    "A simple baseline for doing this is to take the majority vote on a per-data point basis: if more LFs voted SPAM then HAM, label it SPAM (and vice versa).\n",
    "We can test this with the\n",
    "[`MajorityLabelVoter` baseline model](https://snorkel.readthedocs.io/en/master/packages/_autosummary/labeling/snorkel.labeling.model.baselines.MajorityLabelVoter.html#snorkel.labeling.model.baselines.MajorityLabelVoter)."
   ]
  },
  {
   "cell_type": "code",
   "execution_count": 33,
   "metadata": {
    "tags": [
     "md-exclude-output"
    ]
   },
   "outputs": [],
   "source": [
    "from snorkel.labeling.model import MajorityLabelVoter\n",
    "\n",
    "majority_model = MajorityLabelVoter()\n",
    "preds_train = majority_model.predict(L=L_train)"
   ]
  },
  {
   "cell_type": "code",
   "execution_count": 34,
   "metadata": {},
   "outputs": [
    {
     "data": {
      "text/plain": [
       "array([ 1,  1, -1, ...,  1,  1,  1])"
      ]
     },
     "execution_count": 34,
     "metadata": {},
     "output_type": "execute_result"
    }
   ],
   "source": [
    "preds_train"
   ]
  },
  {
   "cell_type": "markdown",
   "metadata": {},
   "source": [
    "However, as we can see from the summary statistics of our LFs in the previous section, they have varying properties and should not be treated identically. In addition to having varied accuracies and coverages, LFs may be correlated, resulting in certain signals being overrepresented in a majority-vote-based model. To handle these issues appropriately, we will instead use a more sophisticated Snorkel `LabelModel` to combine the outputs of the LFs.\n",
    "\n",
    "This model will ultimately produce a single set of noise-aware training labels, which are probabilistic or confidence-weighted labels. We will then use these labels to train a classifier for our task. For more technical details of this overall approach, see our [NeurIPS 2016](https://arxiv.org/abs/1605.07723) and [AAAI 2019](https://arxiv.org/abs/1810.02840) papers. For more info on the API, see the [`LabelModel` documentation](https://snorkel.readthedocs.io/en/master/packages/_autosummary/labeling/snorkel.labeling.model.label_model.LabelModel.html#snorkel.labeling.model.label_model.LabelModel).\n",
    "\n",
    "Note that no gold labels are used during the training process.\n",
    "The only information we need is the label matrix, which contains the output of the LFs on our training set.\n",
    "The `LabelModel` is able to learn weights for the labeling functions using only the label matrix as input.\n",
    "We also specify the `cardinality`, or number of classes."
   ]
  },
  {
   "cell_type": "code",
   "execution_count": 35,
   "metadata": {
    "tags": [
     "md-exclude-output"
    ]
   },
   "outputs": [
    {
     "name": "stderr",
     "output_type": "stream",
     "text": [
      "INFO:root:Computing O...\n",
      "INFO:root:Estimating \\mu...\n",
      "  0%|                                                                                                                                                                                                       | 0/500 [00:00<?, ?epoch/s]INFO:root:[0 epochs]: TRAIN:[loss=0.164]\n",
      " 16%|██████████████████████████████▉                                                                                                                                                              | 82/500 [00:00<00:01, 347.01epoch/s]INFO:root:[100 epochs]: TRAIN:[loss=0.011]\n",
      " 37%|█████████████████████████████████████████████████████████████████████▏                                                                                                                      | 184/500 [00:00<00:01, 274.05epoch/s]INFO:root:[200 epochs]: TRAIN:[loss=0.009]\n",
      " 47%|█████████████████████████████████████████████████████████████████████████████████████████                                                                                                   | 237/500 [00:00<00:00, 345.22epoch/s]INFO:root:[300 epochs]: TRAIN:[loss=0.008]\n",
      " 75%|████████████████████████████████████████████████████████████████████████████████████████████████████████████████████████████████████████████▏                                               | 373/500 [00:00<00:00, 495.59epoch/s]INFO:root:[400 epochs]: TRAIN:[loss=0.008]\n",
      "100%|████████████████████████████████████████████████████████████████████████████████████████████████████████████████████████████████████████████████████████████████████████████████████████████| 500/500 [00:01<00:00, 417.75epoch/s]\n",
      "INFO:root:Finished Training\n"
     ]
    }
   ],
   "source": [
    "from snorkel.labeling.model import LabelModel\n",
    "\n",
    "label_model = LabelModel(cardinality=2, verbose=True)\n",
    "label_model.fit(L_train=L_train, n_epochs=500, log_freq=100, seed=123)"
   ]
  },
  {
   "cell_type": "code",
   "execution_count": 36,
   "metadata": {},
   "outputs": [
    {
     "name": "stdout",
     "output_type": "stream",
     "text": [
      "Majority Vote Accuracy:   84.4%\n",
      "Label Model Accuracy:     87.6%\n"
     ]
    }
   ],
   "source": [
    "majority_acc = majority_model.score(L=L_test, Y=Y_test, tie_break_policy=\"random\")[\n",
    "    \"accuracy\"\n",
    "]\n",
    "print(f\"{'Majority Vote Accuracy:':<25} {majority_acc * 100:.1f}%\")\n",
    "\n",
    "label_model_acc = label_model.score(L=L_test, Y=Y_test, tie_break_policy=\"random\")[\n",
    "    \"accuracy\"\n",
    "]\n",
    "print(f\"{'Label Model Accuracy:':<25} {label_model_acc * 100:.1f}%\")"
   ]
  },
  {
   "cell_type": "markdown",
   "metadata": {},
   "source": [
    "The majority vote model or more sophisticated `LabelModel` could in principle be used directly as a classifier if the outputs of our labeling functions were made available at test time.\n",
    "However, these models (i.e. these re-weighted combinations of our labeling function's votes) will abstain on the data points that our labeling functions don't cover (and additionally, may require slow or unavailable features to execute at test time).\n",
    "In the next section, we will instead use the outputs of the `LabelModel` as training labels to train a discriminative classifier **which can generalize beyond the labeling function outputs** to see if we can improve performance further.\n",
    "This classifier will also only need the text of the comment to make predictions, making it much more suitable for inference over unseen comments.\n",
    "For more information on the properties of the label model, see the [Snorkel documentation](https://snorkel.readthedocs.io/en/master/packages/_autosummary/labeling/snorkel.labeling.model.label_model.LabelModel.html#snorkel.labeling.model.label_model.LabelModel)."
   ]
  },
  {
   "cell_type": "markdown",
   "metadata": {
    "tags": [
     "md-exclude"
    ]
   },
   "source": [
    "Let's briefly confirm that the labels the `LabelModel` produces are indeed probabilistic in nature.\n",
    "The following histogram shows the confidences we have that each data point has the label SPAM.\n",
    "The points we are least certain about will have labels close to 0.5."
   ]
  },
  {
   "cell_type": "code",
   "execution_count": 37,
   "metadata": {
    "tags": [
     "md-exclude"
    ]
   },
   "outputs": [
    {
     "data": {
      "image/png": "[encoded data removed]",
      "text/plain": [
       "<Figure size 640x480 with 1 Axes>"
      ]
     },
     "metadata": {},
     "output_type": "display_data"
    }
   ],
   "source": [
    "\n",
    "\n",
    "def plot_probabilities_histogram(Y):\n",
    "    plt.hist(Y, bins=10)\n",
    "    plt.xlabel(\"Probability of SPAM\")\n",
    "    plt.ylabel(\"Number of data points\")\n",
    "    plt.show()\n",
    "\n",
    "\n",
    "probs_train = label_model.predict_proba(L=L_train)\n",
    "plot_probabilities_histogram(probs_train[:, SPAM])"
   ]
  },
  {
   "cell_type": "markdown",
   "metadata": {},
   "source": [
    "### Filtering out unlabeled data points"
   ]
  },
  {
   "cell_type": "markdown",
   "metadata": {},
   "source": [
    "As we saw earlier, some of the data points in our `train` set received no labels from any of our LFs.\n",
    "These data points convey no supervision signal and tend to hurt performance, so we filter them out before training using a\n",
    "[built-in utility](https://snorkel.readthedocs.io/en/master/packages/_autosummary/labeling/snorkel.labeling.filter_unlabeled_dataframe.html#snorkel.labeling.filter_unlabeled_dataframe)."
   ]
  },
  {
   "cell_type": "code",
   "execution_count": 38,
   "metadata": {},
   "outputs": [],
   "source": [
    "from snorkel.labeling import filter_unlabeled_dataframe\n",
    "\n",
    "df_train_filtered, probs_train_filtered = filter_unlabeled_dataframe(\n",
    "    X=df_train, y=probs_train, L=L_train\n",
    ")"
   ]
  },
  {
   "cell_type": "markdown",
   "metadata": {},
   "source": [
    "## 5. Training a Classifier"
   ]
  },
  {
   "cell_type": "markdown",
   "metadata": {},
   "source": [
    "In this final section of the tutorial, we'll use the probabilistic training labels we generated in the last section to train a classifier for our task.\n",
    "**The output of the Snorkel `LabelModel` is just a set of labels which can be used with most popular libraries for performing supervised learning, such as TensorFlow, Keras, PyTorch, Scikit-Learn, Ludwig, and XGBoost.**\n",
    "In this tutorial, we use the well-known library [Scikit-Learn](https://scikit-learn.org).\n",
    "**Note that typically, Snorkel is used (and really shines!) with much more complex, training data-hungry models, but we will use Logistic Regression here for simplicity of exposition.**"
   ]
  },
  {
   "cell_type": "markdown",
   "metadata": {},
   "source": [
    "### Featurization"
   ]
  },
  {
   "cell_type": "markdown",
   "metadata": {},
   "source": [
    "**Note:** An ML model requires numerical features. So, we convert the comments(text format) into numerical format using one of the many methods called \"bag of n-grams\". You will learn more about such methods and representations in Natural Language Processing(NLP).  \n",
    "\n",
    "For simplicity and speed, we use a simple \"bag of n-grams\" feature representation: each data point is represented by a one-hot vector marking which words or 2-word combinations are present in the comment text."
   ]
  },
  {
   "cell_type": "code",
   "execution_count": 39,
   "metadata": {
    "tags": [
     "md-exclude-output"
    ]
   },
   "outputs": [],
   "source": [
    "from sklearn.feature_extraction.text import CountVectorizer\n",
    "\n",
    "vectorizer = CountVectorizer(ngram_range=(1, 5))\n",
    "X_train = vectorizer.fit_transform(df_train_filtered.text.tolist())\n",
    "X_test = vectorizer.transform(df_test.text.tolist())"
   ]
  },
  {
   "cell_type": "markdown",
   "metadata": {},
   "source": [
    "### Scikit-Learn Classifier"
   ]
  },
  {
   "cell_type": "markdown",
   "metadata": {},
   "source": [
    "As we saw in Section 4, the `LabelModel` outputs probabilistic (float) labels.\n",
    "If the classifier we are training accepts target labels as floats, we can train on these labels directly (see describe the properties of this type of \"noise-aware\" loss in our [NeurIPS 2016 paper](https://arxiv.org/abs/1605.07723)).\n",
    "\n",
    "If we want to use a library or model that doesn't accept probabilistic labels (such as Scikit-Learn), we can instead replace each label distribution with the label of the class that has the maximum probability.\n",
    "This can easily be done using the\n",
    "[`probs_to_preds` helper method](https://snorkel.readthedocs.io/en/master/packages/_autosummary/utils/snorkel.utils.probs_to_preds.html#snorkel.utils.probs_to_preds).\n",
    "We do note, however, that this transformation is lossy, as we no longer have values for our confidence in each label."
   ]
  },
  {
   "cell_type": "code",
   "execution_count": 40,
   "metadata": {},
   "outputs": [],
   "source": [
    "from snorkel.utils import probs_to_preds\n",
    "\n",
    "preds_train_filtered = probs_to_preds(probs=probs_train_filtered)"
   ]
  },
  {
   "cell_type": "markdown",
   "metadata": {},
   "source": [
    "We then use these labels to train a classifier as usual."
   ]
  },
  {
   "cell_type": "code",
   "execution_count": 41,
   "metadata": {},
   "outputs": [
    {
     "data": {
      "text/plain": [
       "array([[6.57400115e-01, 3.42599885e-01],\n",
       "       [2.25181050e-06, 9.99997748e-01],\n",
       "       [8.90998467e-01, 1.09001533e-01],\n",
       "       ...,\n",
       "       [2.27481865e-07, 9.99999773e-01],\n",
       "       [1.08918677e-03, 9.98910813e-01],\n",
       "       [1.22570299e-08, 9.99999988e-01]])"
      ]
     },
     "execution_count": 41,
     "metadata": {},
     "output_type": "execute_result"
    }
   ],
   "source": [
    "probs_train_filtered"
   ]
  },
  {
   "cell_type": "code",
   "execution_count": 42,
   "metadata": {
    "tags": [
     "md-exclude-output"
    ]
   },
   "outputs": [
    {
     "data": {
      "text/html": [
       "<style>#sk-container-id-1 {\n",
       "  /* Definition of color scheme common for light and dark mode */\n",
       "  --sklearn-color-text: black;\n",
       "  --sklearn-color-line: gray;\n",
       "  /* Definition of color scheme for unfitted estimators */\n",
       "  --sklearn-color-unfitted-level-0: #fff5e6;\n",
       "  --sklearn-color-unfitted-level-1: #f6e4d2;\n",
       "  --sklearn-color-unfitted-level-2: #ffe0b3;\n",
       "  --sklearn-color-unfitted-level-3: chocolate;\n",
       "  /* Definition of color scheme for fitted estimators */\n",
       "  --sklearn-color-fitted-level-0: #f0f8ff;\n",
       "  --sklearn-color-fitted-level-1: #d4ebff;\n",
       "  --sklearn-color-fitted-level-2: #b3dbfd;\n",
       "  --sklearn-color-fitted-level-3: cornflowerblue;\n",
       "\n",
       "  /* Specific color for light theme */\n",
       "  --sklearn-color-text-on-default-background: var(--sg-text-color, var(--theme-code-foreground, var(--jp-content-font-color1, black)));\n",
       "  --sklearn-color-background: var(--sg-background-color, var(--theme-background, var(--jp-layout-color0, white)));\n",
       "  --sklearn-color-border-box: var(--sg-text-color, var(--theme-code-foreground, var(--jp-content-font-color1, black)));\n",
       "  --sklearn-color-icon: #696969;\n",
       "\n",
       "  @media (prefers-color-scheme: dark) {\n",
       "    /* Redefinition of color scheme for dark theme */\n",
       "    --sklearn-color-text-on-default-background: var(--sg-text-color, var(--theme-code-foreground, var(--jp-content-font-color1, white)));\n",
       "    --sklearn-color-background: var(--sg-background-color, var(--theme-background, var(--jp-layout-color0, #111)));\n",
       "    --sklearn-color-border-box: var(--sg-text-color, var(--theme-code-foreground, var(--jp-content-font-color1, white)));\n",
       "    --sklearn-color-icon: #878787;\n",
       "  }\n",
       "}\n",
       "\n",
       "#sk-container-id-1 {\n",
       "  color: var(--sklearn-color-text);\n",
       "}\n",
       "\n",
       "#sk-container-id-1 pre {\n",
       "  padding: 0;\n",
       "}\n",
       "\n",
       "#sk-container-id-1 input.sk-hidden--visually {\n",
       "  border: 0;\n",
       "  clip: rect(1px 1px 1px 1px);\n",
       "  clip: rect(1px, 1px, 1px, 1px);\n",
       "  height: 1px;\n",
       "  margin: -1px;\n",
       "  overflow: hidden;\n",
       "  padding: 0;\n",
       "  position: absolute;\n",
       "  width: 1px;\n",
       "}\n",
       "\n",
       "#sk-container-id-1 div.sk-dashed-wrapped {\n",
       "  border: 1px dashed var(--sklearn-color-line);\n",
       "  margin: 0 0.4em 0.5em 0.4em;\n",
       "  box-sizing: border-box;\n",
       "  padding-bottom: 0.4em;\n",
       "  background-color: var(--sklearn-color-background);\n",
       "}\n",
       "\n",
       "#sk-container-id-1 div.sk-container {\n",
       "  /* jupyter's `normalize.less` sets `[hidden] { display: none; }`\n",
       "     but bootstrap.min.css set `[hidden] { display: none !important; }`\n",
       "     so we also need the `!important` here to be able to override the\n",
       "     default hidden behavior on the sphinx rendered scikit-learn.org.\n",
       "     See: https://github.com/scikit-learn/scikit-learn/issues/21755 */\n",
       "  display: inline-block !important;\n",
       "  position: relative;\n",
       "}\n",
       "\n",
       "#sk-container-id-1 div.sk-text-repr-fallback {\n",
       "  display: none;\n",
       "}\n",
       "\n",
       "div.sk-parallel-item,\n",
       "div.sk-serial,\n",
       "div.sk-item {\n",
       "  /* draw centered vertical line to link estimators */\n",
       "  background-image: linear-gradient(var(--sklearn-color-text-on-default-background), var(--sklearn-color-text-on-default-background));\n",
       "  background-size: 2px 100%;\n",
       "  background-repeat: no-repeat;\n",
       "  background-position: center center;\n",
       "}\n",
       "\n",
       "/* Parallel-specific style estimator block */\n",
       "\n",
       "#sk-container-id-1 div.sk-parallel-item::after {\n",
       "  content: \"\";\n",
       "  width: 100%;\n",
       "  border-bottom: 2px solid var(--sklearn-color-text-on-default-background);\n",
       "  flex-grow: 1;\n",
       "}\n",
       "\n",
       "#sk-container-id-1 div.sk-parallel {\n",
       "  display: flex;\n",
       "  align-items: stretch;\n",
       "  justify-content: center;\n",
       "  background-color: var(--sklearn-color-background);\n",
       "  position: relative;\n",
       "}\n",
       "\n",
       "#sk-container-id-1 div.sk-parallel-item {\n",
       "  display: flex;\n",
       "  flex-direction: column;\n",
       "}\n",
       "\n",
       "#sk-container-id-1 div.sk-parallel-item:first-child::after {\n",
       "  align-self: flex-end;\n",
       "  width: 50%;\n",
       "}\n",
       "\n",
       "#sk-container-id-1 div.sk-parallel-item:last-child::after {\n",
       "  align-self: flex-start;\n",
       "  width: 50%;\n",
       "}\n",
       "\n",
       "#sk-container-id-1 div.sk-parallel-item:only-child::after {\n",
       "  width: 0;\n",
       "}\n",
       "\n",
       "/* Serial-specific style estimator block */\n",
       "\n",
       "#sk-container-id-1 div.sk-serial {\n",
       "  display: flex;\n",
       "  flex-direction: column;\n",
       "  align-items: center;\n",
       "  background-color: var(--sklearn-color-background);\n",
       "  padding-right: 1em;\n",
       "  padding-left: 1em;\n",
       "}\n",
       "\n",
       "\n",
       "/* Toggleable style: style used for estimator/Pipeline/ColumnTransformer box that is\n",
       "clickable and can be expanded/collapsed.\n",
       "- Pipeline and ColumnTransformer use this feature and define the default style\n",
       "- Estimators will overwrite some part of the style using the `sk-estimator` class\n",
       "*/\n",
       "\n",
       "/* Pipeline and ColumnTransformer style (default) */\n",
       "\n",
       "#sk-container-id-1 div.sk-toggleable {\n",
       "  /* Default theme specific background. It is overwritten whether we have a\n",
       "  specific estimator or a Pipeline/ColumnTransformer */\n",
       "  background-color: var(--sklearn-color-background);\n",
       "}\n",
       "\n",
       "/* Toggleable label */\n",
       "#sk-container-id-1 label.sk-toggleable__label {\n",
       "  cursor: pointer;\n",
       "  display: block;\n",
       "  width: 100%;\n",
       "  margin-bottom: 0;\n",
       "  padding: 0.5em;\n",
       "  box-sizing: border-box;\n",
       "  text-align: center;\n",
       "}\n",
       "\n",
       "#sk-container-id-1 label.sk-toggleable__label-arrow:before {\n",
       "  /* Arrow on the left of the label */\n",
       "  content: \"▸\";\n",
       "  float: left;\n",
       "  margin-right: 0.25em;\n",
       "  color: var(--sklearn-color-icon);\n",
       "}\n",
       "\n",
       "#sk-container-id-1 label.sk-toggleable__label-arrow:hover:before {\n",
       "  color: var(--sklearn-color-text);\n",
       "}\n",
       "\n",
       "/* Toggleable content - dropdown */\n",
       "\n",
       "#sk-container-id-1 div.sk-toggleable__content {\n",
       "  max-height: 0;\n",
       "  max-width: 0;\n",
       "  overflow: hidden;\n",
       "  text-align: left;\n",
       "  /* unfitted */\n",
       "  background-color: var(--sklearn-color-unfitted-level-0);\n",
       "}\n",
       "\n",
       "#sk-container-id-1 div.sk-toggleable__content.fitted {\n",
       "  /* fitted */\n",
       "  background-color: var(--sklearn-color-fitted-level-0);\n",
       "}\n",
       "\n",
       "#sk-container-id-1 div.sk-toggleable__content pre {\n",
       "  margin: 0.2em;\n",
       "  border-radius: 0.25em;\n",
       "  color: var(--sklearn-color-text);\n",
       "  /* unfitted */\n",
       "  background-color: var(--sklearn-color-unfitted-level-0);\n",
       "}\n",
       "\n",
       "#sk-container-id-1 div.sk-toggleable__content.fitted pre {\n",
       "  /* unfitted */\n",
       "  background-color: var(--sklearn-color-fitted-level-0);\n",
       "}\n",
       "\n",
       "#sk-container-id-1 input.sk-toggleable__control:checked~div.sk-toggleable__content {\n",
       "  /* Expand drop-down */\n",
       "  max-height: 200px;\n",
       "  max-width: 100%;\n",
       "  overflow: auto;\n",
       "}\n",
       "\n",
       "#sk-container-id-1 input.sk-toggleable__control:checked~label.sk-toggleable__label-arrow:before {\n",
       "  content: \"▾\";\n",
       "}\n",
       "\n",
       "/* Pipeline/ColumnTransformer-specific style */\n",
       "\n",
       "#sk-container-id-1 div.sk-label input.sk-toggleable__control:checked~label.sk-toggleable__label {\n",
       "  color: var(--sklearn-color-text);\n",
       "  background-color: var(--sklearn-color-unfitted-level-2);\n",
       "}\n",
       "\n",
       "#sk-container-id-1 div.sk-label.fitted input.sk-toggleable__control:checked~label.sk-toggleable__label {\n",
       "  background-color: var(--sklearn-color-fitted-level-2);\n",
       "}\n",
       "\n",
       "/* Estimator-specific style */\n",
       "\n",
       "/* Colorize estimator box */\n",
       "#sk-container-id-1 div.sk-estimator input.sk-toggleable__control:checked~label.sk-toggleable__label {\n",
       "  /* unfitted */\n",
       "  background-color: var(--sklearn-color-unfitted-level-2);\n",
       "}\n",
       "\n",
       "#sk-container-id-1 div.sk-estimator.fitted input.sk-toggleable__control:checked~label.sk-toggleable__label {\n",
       "  /* fitted */\n",
       "  background-color: var(--sklearn-color-fitted-level-2);\n",
       "}\n",
       "\n",
       "#sk-container-id-1 div.sk-label label.sk-toggleable__label,\n",
       "#sk-container-id-1 div.sk-label label {\n",
       "  /* The background is the default theme color */\n",
       "  color: var(--sklearn-color-text-on-default-background);\n",
       "}\n",
       "\n",
       "/* On hover, darken the color of the background */\n",
       "#sk-container-id-1 div.sk-label:hover label.sk-toggleable__label {\n",
       "  color: var(--sklearn-color-text);\n",
       "  background-color: var(--sklearn-color-unfitted-level-2);\n",
       "}\n",
       "\n",
       "/* Label box, darken color on hover, fitted */\n",
       "#sk-container-id-1 div.sk-label.fitted:hover label.sk-toggleable__label.fitted {\n",
       "  color: var(--sklearn-color-text);\n",
       "  background-color: var(--sklearn-color-fitted-level-2);\n",
       "}\n",
       "\n",
       "/* Estimator label */\n",
       "\n",
       "#sk-container-id-1 div.sk-label label {\n",
       "  font-family: monospace;\n",
       "  font-weight: bold;\n",
       "  display: inline-block;\n",
       "  line-height: 1.2em;\n",
       "}\n",
       "\n",
       "#sk-container-id-1 div.sk-label-container {\n",
       "  text-align: center;\n",
       "}\n",
       "\n",
       "/* Estimator-specific */\n",
       "#sk-container-id-1 div.sk-estimator {\n",
       "  font-family: monospace;\n",
       "  border: 1px dotted var(--sklearn-color-border-box);\n",
       "  border-radius: 0.25em;\n",
       "  box-sizing: border-box;\n",
       "  margin-bottom: 0.5em;\n",
       "  /* unfitted */\n",
       "  background-color: var(--sklearn-color-unfitted-level-0);\n",
       "}\n",
       "\n",
       "#sk-container-id-1 div.sk-estimator.fitted {\n",
       "  /* fitted */\n",
       "  background-color: var(--sklearn-color-fitted-level-0);\n",
       "}\n",
       "\n",
       "/* on hover */\n",
       "#sk-container-id-1 div.sk-estimator:hover {\n",
       "  /* unfitted */\n",
       "  background-color: var(--sklearn-color-unfitted-level-2);\n",
       "}\n",
       "\n",
       "#sk-container-id-1 div.sk-estimator.fitted:hover {\n",
       "  /* fitted */\n",
       "  background-color: var(--sklearn-color-fitted-level-2);\n",
       "}\n",
       "\n",
       "/* Specification for estimator info (e.g. \"i\" and \"?\") */\n",
       "\n",
       "/* Common style for \"i\" and \"?\" */\n",
       "\n",
       ".sk-estimator-doc-link,\n",
       "a:link.sk-estimator-doc-link,\n",
       "a:visited.sk-estimator-doc-link {\n",
       "  float: right;\n",
       "  font-size: smaller;\n",
       "  line-height: 1em;\n",
       "  font-family: monospace;\n",
       "  background-color: var(--sklearn-color-background);\n",
       "  border-radius: 1em;\n",
       "  height: 1em;\n",
       "  width: 1em;\n",
       "  text-decoration: none !important;\n",
       "  margin-left: 1ex;\n",
       "  /* unfitted */\n",
       "  border: var(--sklearn-color-unfitted-level-1) 1pt solid;\n",
       "  color: var(--sklearn-color-unfitted-level-1);\n",
       "}\n",
       "\n",
       ".sk-estimator-doc-link.fitted,\n",
       "a:link.sk-estimator-doc-link.fitted,\n",
       "a:visited.sk-estimator-doc-link.fitted {\n",
       "  /* fitted */\n",
       "  border: var(--sklearn-color-fitted-level-1) 1pt solid;\n",
       "  color: var(--sklearn-color-fitted-level-1);\n",
       "}\n",
       "\n",
       "/* On hover */\n",
       "div.sk-estimator:hover .sk-estimator-doc-link:hover,\n",
       ".sk-estimator-doc-link:hover,\n",
       "div.sk-label-container:hover .sk-estimator-doc-link:hover,\n",
       ".sk-estimator-doc-link:hover {\n",
       "  /* unfitted */\n",
       "  background-color: var(--sklearn-color-unfitted-level-3);\n",
       "  color: var(--sklearn-color-background);\n",
       "  text-decoration: none;\n",
       "}\n",
       "\n",
       "div.sk-estimator.fitted:hover .sk-estimator-doc-link.fitted:hover,\n",
       ".sk-estimator-doc-link.fitted:hover,\n",
       "div.sk-label-container:hover .sk-estimator-doc-link.fitted:hover,\n",
       ".sk-estimator-doc-link.fitted:hover {\n",
       "  /* fitted */\n",
       "  background-color: var(--sklearn-color-fitted-level-3);\n",
       "  color: var(--sklearn-color-background);\n",
       "  text-decoration: none;\n",
       "}\n",
       "\n",
       "/* Span, style for the box shown on hovering the info icon */\n",
       ".sk-estimator-doc-link span {\n",
       "  display: none;\n",
       "  z-index: 9999;\n",
       "  position: relative;\n",
       "  font-weight: normal;\n",
       "  right: .2ex;\n",
       "  padding: .5ex;\n",
       "  margin: .5ex;\n",
       "  width: min-content;\n",
       "  min-width: 20ex;\n",
       "  max-width: 50ex;\n",
       "  color: var(--sklearn-color-text);\n",
       "  box-shadow: 2pt 2pt 4pt #999;\n",
       "  /* unfitted */\n",
       "  background: var(--sklearn-color-unfitted-level-0);\n",
       "  border: .5pt solid var(--sklearn-color-unfitted-level-3);\n",
       "}\n",
       "\n",
       ".sk-estimator-doc-link.fitted span {\n",
       "  /* fitted */\n",
       "  background: var(--sklearn-color-fitted-level-0);\n",
       "  border: var(--sklearn-color-fitted-level-3);\n",
       "}\n",
       "\n",
       ".sk-estimator-doc-link:hover span {\n",
       "  display: block;\n",
       "}\n",
       "\n",
       "/* \"?\"-specific style due to the `<a>` HTML tag */\n",
       "\n",
       "#sk-container-id-1 a.estimator_doc_link {\n",
       "  float: right;\n",
       "  font-size: 1rem;\n",
       "  line-height: 1em;\n",
       "  font-family: monospace;\n",
       "  background-color: var(--sklearn-color-background);\n",
       "  border-radius: 1rem;\n",
       "  height: 1rem;\n",
       "  width: 1rem;\n",
       "  text-decoration: none;\n",
       "  /* unfitted */\n",
       "  color: var(--sklearn-color-unfitted-level-1);\n",
       "  border: var(--sklearn-color-unfitted-level-1) 1pt solid;\n",
       "}\n",
       "\n",
       "#sk-container-id-1 a.estimator_doc_link.fitted {\n",
       "  /* fitted */\n",
       "  border: var(--sklearn-color-fitted-level-1) 1pt solid;\n",
       "  color: var(--sklearn-color-fitted-level-1);\n",
       "}\n",
       "\n",
       "/* On hover */\n",
       "#sk-container-id-1 a.estimator_doc_link:hover {\n",
       "  /* unfitted */\n",
       "  background-color: var(--sklearn-color-unfitted-level-3);\n",
       "  color: var(--sklearn-color-background);\n",
       "  text-decoration: none;\n",
       "}\n",
       "\n",
       "#sk-container-id-1 a.estimator_doc_link.fitted:hover {\n",
       "  /* fitted */\n",
       "  background-color: var(--sklearn-color-fitted-level-3);\n",
       "}\n",
       "</style><div id=\"sk-container-id-1\" class=\"sk-top-container\"><div class=\"sk-text-repr-fallback\"><pre>LogisticRegression(C=1000.0, solver=&#x27;liblinear&#x27;)</pre><b>In a Jupyter environment, please rerun this cell to show the HTML representation or trust the notebook. <br />On GitHub, the HTML representation is unable to render, please try loading this page with nbviewer.org.</b></div><div class=\"sk-container\" hidden><div class=\"sk-item\"><div class=\"sk-estimator fitted sk-toggleable\"><input class=\"sk-toggleable__control sk-hidden--visually\" id=\"sk-estimator-id-1\" type=\"checkbox\" checked><label for=\"sk-estimator-id-1\" class=\"sk-toggleable__label fitted sk-toggleable__label-arrow fitted\">&nbsp;&nbsp;LogisticRegression<a class=\"sk-estimator-doc-link fitted\" rel=\"noreferrer\" target=\"_blank\" href=\"https://scikit-learn.org/1.4/modules/generated/sklearn.linear_model.LogisticRegression.html\">?<span>Documentation for LogisticRegression</span></a><span class=\"sk-estimator-doc-link fitted\">i<span>Fitted</span></span></label><div class=\"sk-toggleable__content fitted\"><pre>LogisticRegression(C=1000.0, solver=&#x27;liblinear&#x27;)</pre></div> </div></div></div></div>"
      ],
      "text/plain": [
       "LogisticRegression(C=1000.0, solver='liblinear')"
      ]
     },
     "execution_count": 42,
     "metadata": {},
     "output_type": "execute_result"
    }
   ],
   "source": [
    "from sklearn.linear_model import LogisticRegression\n",
    "\n",
    "sklearn_model = LogisticRegression(C=1e3, solver=\"liblinear\")\n",
    "sklearn_model.fit(X=X_train, y=preds_train_filtered)"
   ]
  },
  {
   "cell_type": "code",
   "execution_count": 43,
   "metadata": {},
   "outputs": [
    {
     "name": "stdout",
     "output_type": "stream",
     "text": [
      "Test Accuracy: 93.6%\n"
     ]
    }
   ],
   "source": [
    "print(f\"Test Accuracy: {sklearn_model.score(X=X_test, y=Y_test) * 100:.1f}%\")"
   ]
  },
  {
   "cell_type": "markdown",
   "metadata": {},
   "source": [
    "**We observe an additional boost in accuracy over the `LabelModel` by multiple points! This is in part because the discriminative model generalizes beyond the labeling function's labels and makes good predictions on all data points, not just the ones covered by labeling functions.\n",
    "By using the label model to transfer the domain knowledge encoded in our LFs to the discriminative model,\n",
    "we were able to generalize beyond the noisy labeling heuristics**."
   ]
  },
  {
   "cell_type": "markdown",
   "metadata": {},
   "source": [
    "## Summary"
   ]
  },
  {
   "cell_type": "markdown",
   "metadata": {},
   "source": [
    "In this tutorial, we accomplished the following:\n",
    "* We introduced the concept of Labeling Functions (LFs) and demonstrated some of the forms they can take.\n",
    "* We used the Snorkel `LabelModel` to automatically learn how to combine the outputs of our LFs into strong probabilistic labels.\n",
    "* We showed that a classifier trained on a weakly supervised dataset can outperform an approach based on the LFs alone as it learns to generalize beyond the noisy heuristics we provide."
   ]
  },
  {
   "cell_type": "markdown",
   "metadata": {},
   "source": [
    "### Next Steps"
   ]
  },
  {
   "cell_type": "markdown",
   "metadata": {},
   "source": [
    "If you enjoyed this tutorial and you've already checked out the [Getting Started](https://snorkel.org/get-started/) tutorial, check out the [Tutorials](https://snorkel.org/use-cases/) page for other tutorials that you may find interesting, including demonstrations of how to use Snorkel\n",
    "\n",
    "* As part of a [hybrid crowdsourcing pipeline](https://snorkel.org/use-cases/crowdsourcing-tutorial)\n",
    "* For [visual relationship detection over images](https://snorkel.org/use-cases/visual-relation-tutorial)\n",
    "* For [information extraction over text](https://snorkel.org/use-cases/spouse-demo)\n",
    "* For [data augmentation](https://snorkel.org/use-cases/02-spam-data-augmentation-tutorial)\n",
    "\n",
    "and more!\n",
    "You can also visit the [Snorkel website](https://snorkel.org) or [Snorkel API documentation](https://snorkel.readthedocs.io) for more info!"
   ]
  }
 ],
 "metadata": {
  "jupytext": {
   "cell_metadata_filter": "tags,-all",
   "encoding": "# -*- coding: utf-8 -*-"
  },
  "kernelspec": {
   "display_name": "data_labeling_env",
   "language": "python",
   "name": "data_labeling_env"
  },
  "language_info": {
   "codemirror_mode": {
    "name": "ipython",
    "version": 3
   },
   "file_extension": ".py",
   "mimetype": "text/x-python",
   "name": "python",
   "nbconvert_exporter": "python",
   "pygments_lexer": "ipython3",
   "version": "3.10.0"
  }
 },
 "nbformat": 4,
 "nbformat_minor": 4
}
